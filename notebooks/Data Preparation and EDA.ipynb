{
 "cells": [
  {
   "cell_type": "markdown",
   "source": "# Part 1: Data Preparation &amp; Analysis",
   "metadata": {
    "tags": [],
    "is_collapsed": false,
    "cell_id": "409220c4-8f38-4409-8c69-a3e26eec8264",
    "deepnote_cell_type": "text-cell-h1"
   }
  },
  {
   "cell_type": "markdown",
   "source": "## Data Preparation and Cleaning\n\n",
   "metadata": {
    "tags": [],
    "cell_id": "00001-c8eac9de-21e1-496a-aa07-3781de87052d",
    "deepnote_cell_type": "markdown",
    "deepnote_cell_height": 70
   }
  },
  {
   "cell_type": "code",
   "metadata": {
    "tags": [],
    "deepnote_to_be_reexecuted": false,
    "source_hash": "961ce4e8",
    "execution_start": 1650781895687,
    "execution_millis": 2784,
    "cell_id": "00002-a9eef9fb-47c0-45cb-a981-f7ed7d29887b",
    "deepnote_cell_type": "code",
    "deepnote_cell_height": 225
   },
   "source": "import pandas as pd\nimport numpy as np\nimport seaborn as sb\nimport matplotlib.pyplot as plt\nsb.set()\nfrom sklearn.linear_model import LinearRegression\nfrom sklearn.model_selection import train_test_split\nfrom sklearn.metrics import mean_squared_error\nfrom sklearn.ensemble import RandomForestClassifier",
   "outputs": [],
   "execution_count": null
  },
  {
   "cell_type": "markdown",
   "source": "### Forming \"Wine\" Dataset",
   "metadata": {
    "tags": [],
    "cell_id": "00003-761b0b63-c70e-4605-8ed0-66e42ee6db23",
    "deepnote_cell_type": "markdown",
    "deepnote_cell_height": 62
   }
  },
  {
   "cell_type": "markdown",
   "source": "The data is provided in five separate files - \"Red\", \"Rose\", \"Sparkling\", \"White\", and \"Varieties\". However, we will only use the first four as \"Varieties\" is irrelevant to our study.",
   "metadata": {
    "tags": [],
    "cell_id": "00004-16726ad8-0480-4225-97bd-381e6ae8ebdb",
    "deepnote_cell_type": "markdown",
    "deepnote_cell_height": 74.80000305175781
   }
  },
  {
   "cell_type": "code",
   "metadata": {
    "tags": [],
    "deepnote_to_be_reexecuted": false,
    "source_hash": "b042179c",
    "execution_start": 1650781898473,
    "execution_millis": 120,
    "cell_id": "00005-67c11abe-cca9-48ad-840c-35c741d62823",
    "deepnote_cell_type": "code",
    "deepnote_cell_height": 484
   },
   "source": "red = pd.read_csv('data/Red.csv')\nrose = pd.read_csv('data/Rose.csv')\nsparkling = pd.read_csv('data/Sparkling.csv')\nwhite = pd.read_csv('data/White.csv')\nred.head()",
   "outputs": [
    {
     "output_type": "execute_result",
     "execution_count": 2,
     "data": {
      "application/vnd.deepnote.dataframe.v3+json": {
       "column_count": 8,
       "row_count": 5,
       "columns": [
        {
         "name": "Name",
         "dtype": "object",
         "stats": {
          "unique_count": 5,
          "nan_count": 0,
          "categories": [
           {
            "name": "Pomerol 2011",
            "count": 1
           },
           {
            "name": "Lirac 2017",
            "count": 1
           },
           {
            "name": "3 others",
            "count": 3
           }
          ]
         }
        },
        {
         "name": "Country",
         "dtype": "object",
         "stats": {
          "unique_count": 3,
          "nan_count": 0,
          "categories": [
           {
            "name": "France",
            "count": 2
           },
           {
            "name": "Italy",
            "count": 2
           },
           {
            "name": "Austria",
            "count": 1
           }
          ]
         }
        },
        {
         "name": "Region",
         "dtype": "object",
         "stats": {
          "unique_count": 5,
          "nan_count": 0,
          "categories": [
           {
            "name": "Pomerol",
            "count": 1
           },
           {
            "name": "Lirac",
            "count": 1
           },
           {
            "name": "3 others",
            "count": 3
           }
          ]
         }
        },
        {
         "name": "Winery",
         "dtype": "object",
         "stats": {
          "unique_count": 5,
          "nan_count": 0,
          "categories": [
           {
            "name": "Château La Providence",
            "count": 1
           },
           {
            "name": "Château Mont-Redon",
            "count": 1
           },
           {
            "name": "3 others",
            "count": 3
           }
          ]
         }
        },
        {
         "name": "Rating",
         "dtype": "float64",
         "stats": {
          "unique_count": 4,
          "nan_count": 0,
          "min": "3.5",
          "max": "4.3",
          "histogram": [
           {
            "bin_start": 3.5,
            "bin_end": 3.58,
            "count": 1
           },
           {
            "bin_start": 3.58,
            "bin_end": 3.66,
            "count": 0
           },
           {
            "bin_start": 3.66,
            "bin_end": 3.7399999999999998,
            "count": 0
           },
           {
            "bin_start": 3.7399999999999998,
            "bin_end": 3.82,
            "count": 0
           },
           {
            "bin_start": 3.82,
            "bin_end": 3.9,
            "count": 0
           },
           {
            "bin_start": 3.9,
            "bin_end": 3.98,
            "count": 2
           },
           {
            "bin_start": 3.98,
            "bin_end": 4.06,
            "count": 0
           },
           {
            "bin_start": 4.06,
            "bin_end": 4.14,
            "count": 0
           },
           {
            "bin_start": 4.14,
            "bin_end": 4.22,
            "count": 1
           },
           {
            "bin_start": 4.22,
            "bin_end": 4.3,
            "count": 1
           }
          ]
         }
        },
        {
         "name": "NumberOfRatings",
         "dtype": "int64",
         "stats": {
          "unique_count": 1,
          "nan_count": 0,
          "min": "100",
          "max": "100",
          "histogram": [
           {
            "bin_start": 99.5,
            "bin_end": 99.6,
            "count": 0
           },
           {
            "bin_start": 99.6,
            "bin_end": 99.7,
            "count": 0
           },
           {
            "bin_start": 99.7,
            "bin_end": 99.8,
            "count": 0
           },
           {
            "bin_start": 99.8,
            "bin_end": 99.9,
            "count": 0
           },
           {
            "bin_start": 99.9,
            "bin_end": 100,
            "count": 0
           },
           {
            "bin_start": 100,
            "bin_end": 100.1,
            "count": 5
           },
           {
            "bin_start": 100.1,
            "bin_end": 100.2,
            "count": 0
           },
           {
            "bin_start": 100.2,
            "bin_end": 100.3,
            "count": 0
           },
           {
            "bin_start": 100.3,
            "bin_end": 100.4,
            "count": 0
           },
           {
            "bin_start": 100.4,
            "bin_end": 100.5,
            "count": 0
           }
          ]
         }
        },
        {
         "name": "Price",
         "dtype": "float64",
         "stats": {
          "unique_count": 5,
          "nan_count": 0,
          "min": "7.45",
          "max": "95.0",
          "histogram": [
           {
            "bin_start": 7.45,
            "bin_end": 16.205,
            "count": 3
           },
           {
            "bin_start": 16.205,
            "bin_end": 24.959999999999997,
            "count": 0
           },
           {
            "bin_start": 24.959999999999997,
            "bin_end": 33.714999999999996,
            "count": 1
           },
           {
            "bin_start": 33.714999999999996,
            "bin_end": 42.47,
            "count": 0
           },
           {
            "bin_start": 42.47,
            "bin_end": 51.224999999999994,
            "count": 0
           },
           {
            "bin_start": 51.224999999999994,
            "bin_end": 59.98,
            "count": 0
           },
           {
            "bin_start": 59.98,
            "bin_end": 68.735,
            "count": 0
           },
           {
            "bin_start": 68.735,
            "bin_end": 77.49,
            "count": 0
           },
           {
            "bin_start": 77.49,
            "bin_end": 86.24499999999999,
            "count": 0
           },
           {
            "bin_start": 86.24499999999999,
            "bin_end": 95,
            "count": 1
           }
          ]
         }
        },
        {
         "name": "Year",
         "dtype": "object",
         "stats": {
          "unique_count": 5,
          "nan_count": 0,
          "categories": [
           {
            "name": "2011",
            "count": 1
           },
           {
            "name": "2017",
            "count": 1
           },
           {
            "name": "3 others",
            "count": 3
           }
          ]
         }
        },
        {
         "name": "_deepnote_index_column",
         "dtype": "int64"
        }
       ],
       "rows": [
        {
         "Name": "Pomerol 2011",
         "Country": "France",
         "Region": "Pomerol",
         "Winery": "Château La Providence",
         "Rating": 4.2,
         "NumberOfRatings": 100,
         "Price": 95,
         "Year": "2011",
         "_deepnote_index_column": 0
        },
        {
         "Name": "Lirac 2017",
         "Country": "France",
         "Region": "Lirac",
         "Winery": "Château Mont-Redon",
         "Rating": 4.3,
         "NumberOfRatings": 100,
         "Price": 15.5,
         "Year": "2017",
         "_deepnote_index_column": 1
        },
        {
         "Name": "Erta e China Rosso di Toscana 2015",
         "Country": "Italy",
         "Region": "Toscana",
         "Winery": "Renzo Masi",
         "Rating": 3.9,
         "NumberOfRatings": 100,
         "Price": 7.45,
         "Year": "2015",
         "_deepnote_index_column": 2
        },
        {
         "Name": "Bardolino 2019",
         "Country": "Italy",
         "Region": "Bardolino",
         "Winery": "Cavalchina",
         "Rating": 3.5,
         "NumberOfRatings": 100,
         "Price": 8.72,
         "Year": "2019",
         "_deepnote_index_column": 3
        },
        {
         "Name": "Ried Scheibner Pinot Noir 2016",
         "Country": "Austria",
         "Region": "Carnuntum",
         "Winery": "Markowitsch",
         "Rating": 3.9,
         "NumberOfRatings": 100,
         "Price": 29.15,
         "Year": "2016",
         "_deepnote_index_column": 4
        }
       ]
      },
      "text/plain": "                                 Name  Country     Region  \\\n0                        Pomerol 2011   France    Pomerol   \n1                          Lirac 2017   France      Lirac   \n2  Erta e China Rosso di Toscana 2015    Italy    Toscana   \n3                      Bardolino 2019    Italy  Bardolino   \n4      Ried Scheibner Pinot Noir 2016  Austria  Carnuntum   \n\n                  Winery  Rating  NumberOfRatings  Price  Year  \n0  Château La Providence     4.2              100  95.00  2011  \n1     Château Mont-Redon     4.3              100  15.50  2017  \n2             Renzo Masi     3.9              100   7.45  2015  \n3             Cavalchina     3.5              100   8.72  2019  \n4            Markowitsch     3.9              100  29.15  2016  ",
      "text/html": "<div>\n<style scoped>\n    .dataframe tbody tr th:only-of-type {\n        vertical-align: middle;\n    }\n\n    .dataframe tbody tr th {\n        vertical-align: top;\n    }\n\n    .dataframe thead th {\n        text-align: right;\n    }\n</style>\n<table border=\"1\" class=\"dataframe\">\n  <thead>\n    <tr style=\"text-align: right;\">\n      <th></th>\n      <th>Name</th>\n      <th>Country</th>\n      <th>Region</th>\n      <th>Winery</th>\n      <th>Rating</th>\n      <th>NumberOfRatings</th>\n      <th>Price</th>\n      <th>Year</th>\n    </tr>\n  </thead>\n  <tbody>\n    <tr>\n      <th>0</th>\n      <td>Pomerol 2011</td>\n      <td>France</td>\n      <td>Pomerol</td>\n      <td>Château La Providence</td>\n      <td>4.2</td>\n      <td>100</td>\n      <td>95.00</td>\n      <td>2011</td>\n    </tr>\n    <tr>\n      <th>1</th>\n      <td>Lirac 2017</td>\n      <td>France</td>\n      <td>Lirac</td>\n      <td>Château Mont-Redon</td>\n      <td>4.3</td>\n      <td>100</td>\n      <td>15.50</td>\n      <td>2017</td>\n    </tr>\n    <tr>\n      <th>2</th>\n      <td>Erta e China Rosso di Toscana 2015</td>\n      <td>Italy</td>\n      <td>Toscana</td>\n      <td>Renzo Masi</td>\n      <td>3.9</td>\n      <td>100</td>\n      <td>7.45</td>\n      <td>2015</td>\n    </tr>\n    <tr>\n      <th>3</th>\n      <td>Bardolino 2019</td>\n      <td>Italy</td>\n      <td>Bardolino</td>\n      <td>Cavalchina</td>\n      <td>3.5</td>\n      <td>100</td>\n      <td>8.72</td>\n      <td>2019</td>\n    </tr>\n    <tr>\n      <th>4</th>\n      <td>Ried Scheibner Pinot Noir 2016</td>\n      <td>Austria</td>\n      <td>Carnuntum</td>\n      <td>Markowitsch</td>\n      <td>3.9</td>\n      <td>100</td>\n      <td>29.15</td>\n      <td>2016</td>\n    </tr>\n  </tbody>\n</table>\n</div>"
     },
     "metadata": {}
    }
   ],
   "execution_count": null
  },
  {
   "cell_type": "markdown",
   "source": "As the \"Varieties\" file is not linked to the other four datasets, we will not be using it in our study.",
   "metadata": {
    "tags": [],
    "cell_id": "00006-06d59581-b9d5-4e03-a62d-f191a57d1121",
    "deepnote_cell_type": "markdown",
    "deepnote_cell_height": 52.399993896484375
   }
  },
  {
   "cell_type": "code",
   "metadata": {
    "tags": [],
    "deepnote_to_be_reexecuted": false,
    "source_hash": "73de9f0e",
    "execution_start": 1650608209988,
    "execution_millis": 5,
    "deepnote_table_state": {
     "pageSize": 10,
     "pageIndex": 3,
     "filters": [],
     "sortBy": []
    },
    "deepnote_table_loading": false,
    "cell_id": "00007-6df43f77-2d75-426f-b49e-5f92ddd66015",
    "deepnote_cell_type": "code",
    "deepnote_cell_height": 618
   },
   "source": "Data Preparation and EDAvarieties = pd.read_csv('data/Varieties.csv')\nvarieties",
   "execution_count": null,
   "outputs": [
    {
     "output_type": "execute_result",
     "execution_count": 13,
     "data": {
      "application/vnd.deepnote.dataframe.v3+json": {
       "column_count": 1,
       "row_count": 1512,
       "columns": [
        {
         "name": "Variety",
         "dtype": "object",
         "stats": {
          "unique_count": 1493,
          "nan_count": 0,
          "categories": [
           {
            "name": "Carignan",
            "count": 2
           },
           {
            "name": "Mujuretuli",
            "count": 2
           },
           {
            "name": "1491 others",
            "count": 1508
           }
          ]
         }
        },
        {
         "name": "_deepnote_index_column",
         "dtype": "int64"
        }
       ],
       "rows": [
        {
         "Variety": "Alfrocheiro Preto - Touriga",
         "_deepnote_index_column": 30
        },
        {
         "Variety": "Alibernet",
         "_deepnote_index_column": 31
        },
        {
         "Variety": "Alicante Bouschet",
         "_deepnote_index_column": 32
        },
        {
         "Variety": "Alicante Bouschet - Aragonez",
         "_deepnote_index_column": 33
        },
        {
         "Variety": "Alicante Bouschet - Aragonez - Trincadeira",
         "_deepnote_index_column": 34
        },
        {
         "Variety": "Alicante Bouschet - Touriga",
         "_deepnote_index_column": 35
        },
        {
         "Variety": "Alicante Ganzin",
         "_deepnote_index_column": 36
        },
        {
         "Variety": "Aligote",
         "_deepnote_index_column": 37
        },
        {
         "Variety": "Alphonse Lavallee",
         "_deepnote_index_column": 38
        },
        {
         "Variety": "Altesse",
         "_deepnote_index_column": 39
        }
       ]
      },
      "text/plain": "           Variety\n0         Abouriou\n1        Abrustine\n2         Absinthe\n3     Acadie Blanc\n4           Acolon\n...            ...\n1507         Zengő\n1508          Zéta\n1509         Zeusz\n1510       Žilavka\n1511      Žlahtina\n\n[1512 rows x 1 columns]",
      "text/html": "<div>\n<style scoped>\n    .dataframe tbody tr th:only-of-type {\n        vertical-align: middle;\n    }\n\n    .dataframe tbody tr th {\n        vertical-align: top;\n    }\n\n    .dataframe thead th {\n        text-align: right;\n    }\n</style>\n<table border=\"1\" class=\"dataframe\">\n  <thead>\n    <tr style=\"text-align: right;\">\n      <th></th>\n      <th>Variety</th>\n    </tr>\n  </thead>\n  <tbody>\n    <tr>\n      <th>0</th>\n      <td>Abouriou</td>\n    </tr>\n    <tr>\n      <th>1</th>\n      <td>Abrustine</td>\n    </tr>\n    <tr>\n      <th>2</th>\n      <td>Absinthe</td>\n    </tr>\n    <tr>\n      <th>3</th>\n      <td>Acadie Blanc</td>\n    </tr>\n    <tr>\n      <th>4</th>\n      <td>Acolon</td>\n    </tr>\n    <tr>\n      <th>...</th>\n      <td>...</td>\n    </tr>\n    <tr>\n      <th>1507</th>\n      <td>Zengő</td>\n    </tr>\n    <tr>\n      <th>1508</th>\n      <td>Zéta</td>\n    </tr>\n    <tr>\n      <th>1509</th>\n      <td>Zeusz</td>\n    </tr>\n    <tr>\n      <th>1510</th>\n      <td>Žilavka</td>\n    </tr>\n    <tr>\n      <th>1511</th>\n      <td>Žlahtina</td>\n    </tr>\n  </tbody>\n</table>\n<p>1512 rows × 1 columns</p>\n</div>"
     },
     "metadata": {}
    }
   ]
  },
  {
   "cell_type": "markdown",
   "source": "We have created a new \"Type\" column for the wines, as we will be concatenating the four datasets.",
   "metadata": {
    "tags": [],
    "cell_id": "00008-91ded8b8-7ef2-4ca5-ac4d-19ccf826a1c1",
    "deepnote_cell_type": "markdown",
    "deepnote_cell_height": 52.399993896484375
   }
  },
  {
   "cell_type": "code",
   "metadata": {
    "tags": [],
    "deepnote_to_be_reexecuted": false,
    "source_hash": "c886feff",
    "execution_start": 1650699930745,
    "execution_millis": 14,
    "cell_id": "00009-9a0d6fe0-18aa-4089-9df6-453a7ca3cd3e",
    "deepnote_cell_type": "code",
    "deepnote_cell_height": 153
   },
   "source": "red['Type'] = 'Red'\nwhite['Type'] = 'White'\nsparkling['Type'] = 'Sparkling'\nrose['Type'] = 'Rose'\nwine = pd.concat([red, rose, white, sparkling], ignore_index=True)",
   "execution_count": null,
   "outputs": []
  },
  {
   "cell_type": "code",
   "metadata": {
    "tags": [],
    "deepnote_to_be_reexecuted": false,
    "source_hash": "4e1407a8",
    "execution_start": 1650608209111,
    "execution_millis": 246,
    "deepnote_table_state": {
     "pageSize": 10,
     "pageIndex": 0,
     "filters": [],
     "sortBy": [
      {
       "id": "Rating",
       "type": "desc"
      }
     ]
    },
    "deepnote_table_loading": false,
    "cell_id": "00010-c5c46d80-de9c-4592-9b84-d85fd61dbccb",
    "deepnote_cell_type": "code",
    "deepnote_cell_height": 649
   },
   "source": "wine",
   "execution_count": null,
   "outputs": [
    {
     "output_type": "execute_result",
     "execution_count": 4,
     "data": {
      "application/vnd.deepnote.dataframe.v3+json": {
       "column_count": 9,
       "row_count": 13834,
       "columns": [
        {
         "name": "Name",
         "dtype": "object",
         "stats": {
          "unique_count": 10934,
          "nan_count": 0,
          "categories": [
           {
            "name": "Chardonnay 2018",
            "count": 78
           },
           {
            "name": "Sauvignon Blanc 2019",
            "count": 66
           },
           {
            "name": "10932 others",
            "count": 13690
           }
          ]
         }
        },
        {
         "name": "Country",
         "dtype": "object",
         "stats": {
          "unique_count": 33,
          "nan_count": 0,
          "categories": [
           {
            "name": "Italy",
            "count": 3919
           },
           {
            "name": "France",
            "count": 3436
           },
           {
            "name": "31 others",
            "count": 6479
           }
          ]
         }
        },
        {
         "name": "Region",
         "dtype": "object",
         "stats": {
          "unique_count": 861,
          "nan_count": 0,
          "categories": [
           {
            "name": "Rioja",
            "count": 385
           },
           {
            "name": "Stellenbosch",
            "count": 337
           },
           {
            "name": "859 others",
            "count": 13112
           }
          ]
         }
        },
        {
         "name": "Winery",
         "dtype": "object",
         "stats": {
          "unique_count": 3505,
          "nan_count": 0,
          "categories": [
           {
            "name": "Markus Molitor",
            "count": 73
           },
           {
            "name": "Errazuriz",
            "count": 58
           },
           {
            "name": "3503 others",
            "count": 13703
           }
          ]
         }
        },
        {
         "name": "Rating",
         "dtype": "float64",
         "stats": {
          "unique_count": 26,
          "nan_count": 0,
          "min": "2.2",
          "max": "4.9",
          "histogram": [
           {
            "bin_start": 2.2,
            "bin_end": 2.47,
            "count": 1
           },
           {
            "bin_start": 2.47,
            "bin_end": 2.74,
            "count": 7
           },
           {
            "bin_start": 2.74,
            "bin_end": 3.0100000000000002,
            "count": 48
           },
           {
            "bin_start": 3.0100000000000002,
            "bin_end": 3.2800000000000002,
            "count": 190
           },
           {
            "bin_start": 3.2800000000000002,
            "bin_end": 3.5500000000000003,
            "count": 1574
           },
           {
            "bin_start": 3.5500000000000003,
            "bin_end": 3.8200000000000003,
            "count": 5075
           },
           {
            "bin_start": 3.8200000000000003,
            "bin_end": 4.09,
            "count": 3210
           },
           {
            "bin_start": 4.09,
            "bin_end": 4.36,
            "count": 2993
           },
           {
            "bin_start": 4.36,
            "bin_end": 4.630000000000001,
            "count": 696
           },
           {
            "bin_start": 4.630000000000001,
            "bin_end": 4.9,
            "count": 40
           }
          ]
         }
        },
        {
         "name": "NumberOfRatings",
         "dtype": "int64",
         "stats": {
          "unique_count": 1821,
          "nan_count": 0,
          "min": "25",
          "max": "94287",
          "histogram": [
           {
            "bin_start": 25,
            "bin_end": 9451.2,
            "count": 13788
           },
           {
            "bin_start": 9451.2,
            "bin_end": 18877.4,
            "count": 28
           },
           {
            "bin_start": 18877.4,
            "bin_end": 28303.600000000002,
            "count": 10
           },
           {
            "bin_start": 28303.600000000002,
            "bin_end": 37729.8,
            "count": 2
           },
           {
            "bin_start": 37729.8,
            "bin_end": 47156,
            "count": 2
           },
           {
            "bin_start": 47156,
            "bin_end": 56582.200000000004,
            "count": 0
           },
           {
            "bin_start": 56582.200000000004,
            "bin_end": 66008.40000000001,
            "count": 1
           },
           {
            "bin_start": 66008.40000000001,
            "bin_end": 75434.6,
            "count": 0
           },
           {
            "bin_start": 75434.6,
            "bin_end": 84860.8,
            "count": 1
           },
           {
            "bin_start": 84860.8,
            "bin_end": 94287,
            "count": 2
           }
          ]
         }
        },
        {
         "name": "Price",
         "dtype": "float64",
         "stats": {
          "unique_count": 3008,
          "nan_count": 0,
          "min": "3.15",
          "max": "3410.79",
          "histogram": [
           {
            "bin_start": 3.15,
            "bin_end": 343.914,
            "count": 13727
           },
           {
            "bin_start": 343.914,
            "bin_end": 684.678,
            "count": 82
           },
           {
            "bin_start": 684.678,
            "bin_end": 1025.442,
            "count": 14
           },
           {
            "bin_start": 1025.442,
            "bin_end": 1366.2060000000001,
            "count": 8
           },
           {
            "bin_start": 1366.2060000000001,
            "bin_end": 1706.9700000000003,
            "count": 2
           },
           {
            "bin_start": 1706.9700000000003,
            "bin_end": 2047.7340000000002,
            "count": 0
           },
           {
            "bin_start": 2047.7340000000002,
            "bin_end": 2388.498,
            "count": 0
           },
           {
            "bin_start": 2388.498,
            "bin_end": 2729.262,
            "count": 0
           },
           {
            "bin_start": 2729.262,
            "bin_end": 3070.0260000000003,
            "count": 0
           },
           {
            "bin_start": 3070.0260000000003,
            "bin_end": 3410.79,
            "count": 1
           }
          ]
         }
        },
        {
         "name": "Year",
         "dtype": "object"
        },
        {
         "name": "Type",
         "dtype": "object"
        },
        {
         "name": "_deepnote_index_column",
         "dtype": "int64"
        }
       ],
       "rows": [
        {
         "Name": "Montrachet Grand Cru Marquis de Laguiche 2017",
         "Country": "France",
         "Region": "Montrachet Grand Cru",
         "Winery": "Joseph Drouhin",
         "Rating": 4.9,
         "NumberOfRatings": 34,
         "Price": 681.37,
         "Year": "2017",
         "Type": "White",
         "_deepnote_index_column": 9604
        },
        {
         "Name": "Veneto Alzero Cabernet 2009",
         "Country": "Italy",
         "Region": "Veneto",
         "Winery": "Quintarelli Giuseppe",
         "Rating": 4.8,
         "NumberOfRatings": 85,
         "Price": 324.95,
         "Year": "2009",
         "Type": "Red",
         "_deepnote_index_column": 8086
        },
        {
         "Name": "Barolo Riserva Monfortino 2013",
         "Country": "Italy",
         "Region": "Barolo",
         "Winery": "Giacomo Conterno",
         "Rating": 4.8,
         "NumberOfRatings": 132,
         "Price": 1115.5,
         "Year": "2013",
         "Type": "Red",
         "_deepnote_index_column": 951
        },
        {
         "Name": "Toscana 2016",
         "Country": "Italy",
         "Region": "Toscana",
         "Winery": "Masseto",
         "Rating": 4.8,
         "NumberOfRatings": 85,
         "Price": 960.17,
         "Year": "2016",
         "Type": "Red",
         "_deepnote_index_column": 8073
        },
        {
         "Name": "Beckstoffer Las Piedras Vineyard Cabernet Sauvignon 2015",
         "Country": "United States",
         "Region": "St. Helena",
         "Winery": "Paul Hobbs",
         "Rating": 4.8,
         "NumberOfRatings": 30,
         "Price": 368.47,
         "Year": "2015",
         "Type": "Red",
         "_deepnote_index_column": 3747
        },
        {
         "Name": "L'Ermita Velles Vinyes Priorat 2008",
         "Country": "Spain",
         "Region": "Priorat",
         "Winery": "Álvaro Palacios",
         "Rating": 4.8,
         "NumberOfRatings": 32,
         "Price": 672.6,
         "Year": "2008",
         "Type": "Red",
         "_deepnote_index_column": 4031
        },
        {
         "Name": "Ermitage de l'Orée 2004",
         "Country": "France",
         "Region": "Hermitage",
         "Winery": "M. Chapoutier",
         "Rating": 4.8,
         "NumberOfRatings": 44,
         "Price": 189.95,
         "Year": "2004",
         "Type": "White",
         "_deepnote_index_column": 10073
        },
        {
         "Name": "G 2015",
         "Country": "South Africa",
         "Region": "Western Cape",
         "Winery": "4G Wine Estate",
         "Rating": 4.8,
         "NumberOfRatings": 28,
         "Price": 463.03,
         "Year": "2015",
         "Type": "Red",
         "_deepnote_index_column": 3420
        },
        {
         "Name": "Garrus Rosé 2018",
         "Country": "France",
         "Region": "Côtes de Provence",
         "Winery": "Château d'Esclans",
         "Rating": 4.8,
         "NumberOfRatings": 36,
         "Price": 109,
         "Year": "2018",
         "Type": "Rose",
         "_deepnote_index_column": 8743
        },
        {
         "Name": "Unico 2010",
         "Country": "Spain",
         "Region": "Ribera del Duero",
         "Winery": "Vega Sicilia",
         "Rating": 4.7,
         "NumberOfRatings": 129,
         "Price": 320,
         "Year": "2010",
         "Type": "Red",
         "_deepnote_index_column": 873
        }
       ]
      },
      "text/plain": "                                       Name  Country                 Region  \\\n0                              Pomerol 2011   France                Pomerol   \n1                                Lirac 2017   France                  Lirac   \n2        Erta e China Rosso di Toscana 2015    Italy                Toscana   \n3                            Bardolino 2019    Italy              Bardolino   \n4            Ried Scheibner Pinot Noir 2016  Austria              Carnuntum   \n...                                     ...      ...                    ...   \n13829  Special Cuvée Brut Aÿ Champagne N.V.   France              Champagne   \n13830           Brut Premier Champagne N.V.   France  Champagne Premier Cru   \n13831          Impérial Brut Champagne N.V.   France              Champagne   \n13832     Brut (Carte Jaune) Champagne N.V.   France              Champagne   \n13833                   Brut Champagne N.V.   France              Champagne   \n\n                      Winery  Rating  NumberOfRatings   Price  Year       Type  \n0      Château La Providence     4.2              100   95.00  2011        Red  \n1         Château Mont-Redon     4.3              100   15.50  2017        Red  \n2                 Renzo Masi     3.9              100    7.45  2015        Red  \n3                 Cavalchina     3.5              100    8.72  2019        Red  \n4                Markowitsch     3.9              100   29.15  2016        Red  \n...                      ...     ...              ...     ...   ...        ...  \n13829              Bollinger     4.2            37765   46.00  N.V.  Sparkling  \n13830         Louis Roederer     4.2            40004   36.48  N.V.  Sparkling  \n13831         Moët & Chandon     4.1            76037   40.61  N.V.  Sparkling  \n13832         Veuve Clicquot     4.2            86839   43.60  N.V.  Sparkling  \n13833           Dom Pérignon     4.6            94287  170.00  N.V.  Sparkling  \n\n[13834 rows x 9 columns]",
      "text/html": "<div>\n<style scoped>\n    .dataframe tbody tr th:only-of-type {\n        vertical-align: middle;\n    }\n\n    .dataframe tbody tr th {\n        vertical-align: top;\n    }\n\n    .dataframe thead th {\n        text-align: right;\n    }\n</style>\n<table border=\"1\" class=\"dataframe\">\n  <thead>\n    <tr style=\"text-align: right;\">\n      <th></th>\n      <th>Name</th>\n      <th>Country</th>\n      <th>Region</th>\n      <th>Winery</th>\n      <th>Rating</th>\n      <th>NumberOfRatings</th>\n      <th>Price</th>\n      <th>Year</th>\n      <th>Type</th>\n    </tr>\n  </thead>\n  <tbody>\n    <tr>\n      <th>0</th>\n      <td>Pomerol 2011</td>\n      <td>France</td>\n      <td>Pomerol</td>\n      <td>Château La Providence</td>\n      <td>4.2</td>\n      <td>100</td>\n      <td>95.00</td>\n      <td>2011</td>\n      <td>Red</td>\n    </tr>\n    <tr>\n      <th>1</th>\n      <td>Lirac 2017</td>\n      <td>France</td>\n      <td>Lirac</td>\n      <td>Château Mont-Redon</td>\n      <td>4.3</td>\n      <td>100</td>\n      <td>15.50</td>\n      <td>2017</td>\n      <td>Red</td>\n    </tr>\n    <tr>\n      <th>2</th>\n      <td>Erta e China Rosso di Toscana 2015</td>\n      <td>Italy</td>\n      <td>Toscana</td>\n      <td>Renzo Masi</td>\n      <td>3.9</td>\n      <td>100</td>\n      <td>7.45</td>\n      <td>2015</td>\n      <td>Red</td>\n    </tr>\n    <tr>\n      <th>3</th>\n      <td>Bardolino 2019</td>\n      <td>Italy</td>\n      <td>Bardolino</td>\n      <td>Cavalchina</td>\n      <td>3.5</td>\n      <td>100</td>\n      <td>8.72</td>\n      <td>2019</td>\n      <td>Red</td>\n    </tr>\n    <tr>\n      <th>4</th>\n      <td>Ried Scheibner Pinot Noir 2016</td>\n      <td>Austria</td>\n      <td>Carnuntum</td>\n      <td>Markowitsch</td>\n      <td>3.9</td>\n      <td>100</td>\n      <td>29.15</td>\n      <td>2016</td>\n      <td>Red</td>\n    </tr>\n    <tr>\n      <th>...</th>\n      <td>...</td>\n      <td>...</td>\n      <td>...</td>\n      <td>...</td>\n      <td>...</td>\n      <td>...</td>\n      <td>...</td>\n      <td>...</td>\n      <td>...</td>\n    </tr>\n    <tr>\n      <th>13829</th>\n      <td>Special Cuvée Brut Aÿ Champagne N.V.</td>\n      <td>France</td>\n      <td>Champagne</td>\n      <td>Bollinger</td>\n      <td>4.2</td>\n      <td>37765</td>\n      <td>46.00</td>\n      <td>N.V.</td>\n      <td>Sparkling</td>\n    </tr>\n    <tr>\n      <th>13830</th>\n      <td>Brut Premier Champagne N.V.</td>\n      <td>France</td>\n      <td>Champagne Premier Cru</td>\n      <td>Louis Roederer</td>\n      <td>4.2</td>\n      <td>40004</td>\n      <td>36.48</td>\n      <td>N.V.</td>\n      <td>Sparkling</td>\n    </tr>\n    <tr>\n      <th>13831</th>\n      <td>Impérial Brut Champagne N.V.</td>\n      <td>France</td>\n      <td>Champagne</td>\n      <td>Moët &amp; Chandon</td>\n      <td>4.1</td>\n      <td>76037</td>\n      <td>40.61</td>\n      <td>N.V.</td>\n      <td>Sparkling</td>\n    </tr>\n    <tr>\n      <th>13832</th>\n      <td>Brut (Carte Jaune) Champagne N.V.</td>\n      <td>France</td>\n      <td>Champagne</td>\n      <td>Veuve Clicquot</td>\n      <td>4.2</td>\n      <td>86839</td>\n      <td>43.60</td>\n      <td>N.V.</td>\n      <td>Sparkling</td>\n    </tr>\n    <tr>\n      <th>13833</th>\n      <td>Brut Champagne N.V.</td>\n      <td>France</td>\n      <td>Champagne</td>\n      <td>Dom Pérignon</td>\n      <td>4.6</td>\n      <td>94287</td>\n      <td>170.00</td>\n      <td>N.V.</td>\n      <td>Sparkling</td>\n    </tr>\n  </tbody>\n</table>\n<p>13834 rows × 9 columns</p>\n</div>"
     },
     "metadata": {}
    }
   ]
  },
  {
   "cell_type": "markdown",
   "source": "There are 13834 rows, but only 10934 distinct wine names, meaning there are rows with same wine names. Hence, we will proceed to clean the dataset.",
   "metadata": {
    "tags": [],
    "is_collapsed": false,
    "cell_id": "00011-13a38ec1-3995-4406-935c-97c8ec061188",
    "deepnote_cell_type": "text-cell-p"
   }
  },
  {
   "cell_type": "markdown",
   "source": "### Removing Missing Data and Duplicates",
   "metadata": {
    "tags": [],
    "is_collapsed": false,
    "cell_id": "00012-f041c68a-541e-4e56-a776-52811c98e36c",
    "deepnote_cell_type": "text-cell-h3"
   }
  },
  {
   "cell_type": "markdown",
   "source": "#### Extracting Duplicate Values of \"Name\" Variable",
   "metadata": {
    "tags": [],
    "cell_id": "00013-86a99308-d98d-4933-90fe-77b511c1bc5a",
    "deepnote_cell_type": "markdown",
    "deepnote_cell_height": 54
   }
  },
  {
   "cell_type": "code",
   "metadata": {
    "tags": [],
    "deepnote_to_be_reexecuted": false,
    "source_hash": "6a1ecd02",
    "execution_start": 1650699936151,
    "execution_millis": 420,
    "cell_id": "00014-a81138f2-8543-4881-85c1-730a2bcbe9f8",
    "deepnote_cell_type": "code",
    "deepnote_cell_height": 329,
    "deepnote_output_heights": [
     232
    ]
   },
   "source": "wine['Name'].value_counts().loc[lambda x: x>1]",
   "execution_count": null,
   "outputs": [
    {
     "output_type": "execute_result",
     "execution_count": 4,
     "data": {
      "text/plain": "Chardonnay 2018                                78\nSauvignon Blanc 2019                           66\nSauvignon Blanc 2018                           51\nCabernet Sauvignon 2017                        43\nCabernet Sauvignon 2016                        41\n                                               ..\nTrebbiano d'Abruzzo 2017                        2\nBarbaresco 2013                                 2\nBrut Champagne Grand Cru 'Aÿ' N.V.              2\nGraacher Himmelreich Riesling Spätlese 2015     2\nSauvignon Blanc 2020                            2\nName: Name, Length: 770, dtype: int64"
     },
     "metadata": {}
    }
   ]
  },
  {
   "cell_type": "markdown",
   "source": "There are repeated values for 770 different wines. However, as wines may have similar names, we have to check if the corresponding variables have similar values as well.",
   "metadata": {
    "tags": [],
    "cell_id": "00015-c99cccdd-7e85-4086-8a92-802eba4a25f4",
    "deepnote_cell_type": "markdown",
    "deepnote_cell_height": 74.80000305175781
   }
  },
  {
   "cell_type": "code",
   "metadata": {
    "tags": [],
    "deepnote_to_be_reexecuted": false,
    "source_hash": "e90469d2",
    "execution_start": 1650699939871,
    "execution_millis": 96,
    "cell_id": "00016-6146ad29-1f1c-415a-afc0-478a943b708e",
    "deepnote_cell_type": "code",
    "deepnote_cell_height": 617
   },
   "source": "wine.loc[wine['Name'].value_counts().loc[lambda x: x>1]]",
   "execution_count": null,
   "outputs": [
    {
     "output_type": "execute_result",
     "execution_count": 5,
     "data": {
      "application/vnd.deepnote.dataframe.v3+json": {
       "column_count": 9,
       "row_count": 770,
       "columns": [
        {
         "name": "Name",
         "dtype": "object",
         "stats": {
          "unique_count": 31,
          "nan_count": 0,
          "categories": [
           {
            "name": "Erta e China Rosso di Toscana 2015",
            "count": 314
           },
           {
            "name": "Bardolino 2019",
            "count": 149
           },
           {
            "name": "29 others",
            "count": 307
           }
          ]
         }
        },
        {
         "name": "Country",
         "dtype": "object",
         "stats": {
          "unique_count": 12,
          "nan_count": 0,
          "categories": [
           {
            "name": "Italy",
            "count": 508
           },
           {
            "name": "Austria",
            "count": 96
           },
           {
            "name": "10 others",
            "count": 166
           }
          ]
         }
        },
        {
         "name": "Region",
         "dtype": "object",
         "stats": {
          "unique_count": 27,
          "nan_count": 0,
          "categories": [
           {
            "name": "Toscana",
            "count": 314
           },
           {
            "name": "Bardolino",
            "count": 149
           },
           {
            "name": "25 others",
            "count": 307
           }
          ]
         }
        },
        {
         "name": "Winery",
         "dtype": "object",
         "stats": {
          "unique_count": 31,
          "nan_count": 0,
          "categories": [
           {
            "name": "Renzo Masi",
            "count": 314
           },
           {
            "name": "Cavalchina",
            "count": 149
           },
           {
            "name": "29 others",
            "count": 307
           }
          ]
         }
        },
        {
         "name": "Rating",
         "dtype": "float64",
         "stats": {
          "unique_count": 13,
          "nan_count": 0,
          "min": "2.9",
          "max": "4.4",
          "histogram": [
           {
            "bin_start": 2.9,
            "bin_end": 3.05,
            "count": 2
           },
           {
            "bin_start": 3.05,
            "bin_end": 3.2,
            "count": 0
           },
           {
            "bin_start": 3.2,
            "bin_end": 3.35,
            "count": 1
           },
           {
            "bin_start": 3.35,
            "bin_end": 3.5,
            "count": 3
           },
           {
            "bin_start": 3.5,
            "bin_end": 3.6500000000000004,
            "count": 192
           },
           {
            "bin_start": 3.6500000000000004,
            "bin_end": 3.8000000000000003,
            "count": 70
           },
           {
            "bin_start": 3.8000000000000003,
            "bin_end": 3.95,
            "count": 439
           },
           {
            "bin_start": 3.95,
            "bin_end": 4.1000000000000005,
            "count": 43
           },
           {
            "bin_start": 4.1000000000000005,
            "bin_end": 4.25,
            "count": 8
           },
           {
            "bin_start": 4.25,
            "bin_end": 4.4,
            "count": 12
           }
          ]
         }
        },
        {
         "name": "NumberOfRatings",
         "dtype": "int64",
         "stats": {
          "unique_count": 5,
          "nan_count": 0,
          "min": "100",
          "max": "1012",
          "histogram": [
           {
            "bin_start": 100,
            "bin_end": 191.2,
            "count": 764
           },
           {
            "bin_start": 191.2,
            "bin_end": 282.4,
            "count": 0
           },
           {
            "bin_start": 282.4,
            "bin_end": 373.6,
            "count": 0
           },
           {
            "bin_start": 373.6,
            "bin_end": 464.8,
            "count": 0
           },
           {
            "bin_start": 464.8,
            "bin_end": 556,
            "count": 0
           },
           {
            "bin_start": 556,
            "bin_end": 647.2,
            "count": 0
           },
           {
            "bin_start": 647.2,
            "bin_end": 738.4,
            "count": 0
           },
           {
            "bin_start": 738.4,
            "bin_end": 829.6,
            "count": 0
           },
           {
            "bin_start": 829.6,
            "bin_end": 920.8000000000001,
            "count": 0
           },
           {
            "bin_start": 920.8000000000001,
            "bin_end": 1012,
            "count": 6
           }
          ]
         }
        },
        {
         "name": "Price",
         "dtype": "float64",
         "stats": {
          "unique_count": 31,
          "nan_count": 0,
          "min": "6.5",
          "max": "174.49",
          "histogram": [
           {
            "bin_start": 6.5,
            "bin_end": 23.299,
            "count": 619
           },
           {
            "bin_start": 23.299,
            "bin_end": 40.098,
            "count": 106
           },
           {
            "bin_start": 40.098,
            "bin_end": 56.897,
            "count": 34
           },
           {
            "bin_start": 56.897,
            "bin_end": 73.696,
            "count": 0
           },
           {
            "bin_start": 73.696,
            "bin_end": 90.495,
            "count": 0
           },
           {
            "bin_start": 90.495,
            "bin_end": 107.294,
            "count": 0
           },
           {
            "bin_start": 107.294,
            "bin_end": 124.09299999999999,
            "count": 0
           },
           {
            "bin_start": 124.09299999999999,
            "bin_end": 140.892,
            "count": 10
           },
           {
            "bin_start": 140.892,
            "bin_end": 157.691,
            "count": 0
           },
           {
            "bin_start": 157.691,
            "bin_end": 174.49,
            "count": 1
           }
          ]
         }
        },
        {
         "name": "Year",
         "dtype": "object",
         "stats": {
          "unique_count": 8,
          "nan_count": 0,
          "categories": [
           {
            "name": "2015",
            "count": 345
           },
           {
            "name": "2016",
            "count": 149
           },
           {
            "name": "6 others",
            "count": 276
           }
          ]
         }
        },
        {
         "name": "Type",
         "dtype": "object",
         "stats": {
          "unique_count": 1,
          "nan_count": 0,
          "categories": [
           {
            "name": "Red",
            "count": 770
           }
          ]
         }
        },
        {
         "name": "_deepnote_index_column",
         "dtype": "int64"
        }
       ],
       "rows": [
        {
         "Name": "Pinot Noir 2016",
         "Country": "New Zealand",
         "Region": "Marlborough",
         "Winery": "Clos Henri Vineyard",
         "Rating": 3.9,
         "NumberOfRatings": 102,
         "Price": 27.78,
         "Year": "2016",
         "Type": "Red",
         "_deepnote_index_column": 78
        },
        {
         "Name": "Fausto Tannat 2015",
         "Country": "Brazil",
         "Region": "Serra Gaúcha",
         "Winery": "Pizzato",
         "Rating": 3.6,
         "NumberOfRatings": 1012,
         "Price": 11.35,
         "Year": "2015",
         "Type": "Red",
         "_deepnote_index_column": 66
        },
        {
         "Name": "El Abuelo Selección Edición Limitada 2013",
         "Country": "Spain",
         "Region": "Almansa",
         "Winery": "Bodegas Piqueras",
         "Rating": 4.2,
         "NumberOfRatings": 101,
         "Price": 10.95,
         "Year": "2013",
         "Type": "Red",
         "_deepnote_index_column": 51
        },
        {
         "Name": "Roma Rosso 2018",
         "Country": "Italy",
         "Region": "Lazio",
         "Winery": "Poggio le Volpi",
         "Rating": 4,
         "NumberOfRatings": 101,
         "Price": 9.95,
         "Year": "2018",
         "Type": "Red",
         "_deepnote_index_column": 43
        },
        {
         "Name": "Cuvée Alienor Fronsac 2015",
         "Country": "France",
         "Region": "Fronsac",
         "Winery": "Château Mayne-Vieil",
         "Rating": 3.7,
         "NumberOfRatings": 101,
         "Price": 16.47,
         "Year": "2015",
         "Type": "Red",
         "_deepnote_index_column": 41
        },
        {
         "Name": "Cuvée Alienor Fronsac 2015",
         "Country": "France",
         "Region": "Fronsac",
         "Winery": "Château Mayne-Vieil",
         "Rating": 3.7,
         "NumberOfRatings": 101,
         "Price": 16.47,
         "Year": "2015",
         "Type": "Red",
         "_deepnote_index_column": 41
        },
        {
         "Name": "I Tratturi Rosso 2017",
         "Country": "Italy",
         "Region": "Salento",
         "Winery": "San Marzano",
         "Rating": 3.8,
         "NumberOfRatings": 101,
         "Price": 7.04,
         "Year": "2017",
         "Type": "Red",
         "_deepnote_index_column": 35
        },
        {
         "Name": "Carlo V Il Rosso dell'Imperatore 2013",
         "Country": "Italy",
         "Region": "Veneto",
         "Winery": "Colli Vicentini",
         "Rating": 3.7,
         "NumberOfRatings": 1000,
         "Price": 15.9,
         "Year": "2013",
         "Type": "Red",
         "_deepnote_index_column": 27
        },
        {
         "Name": "Carlo V Il Rosso dell'Imperatore 2013",
         "Country": "Italy",
         "Region": "Veneto",
         "Winery": "Colli Vicentini",
         "Rating": 3.7,
         "NumberOfRatings": 1000,
         "Price": 15.9,
         "Year": "2013",
         "Type": "Red",
         "_deepnote_index_column": 27
        },
        {
         "Name": "Saint-Émilion Grand Cru (Premier Grand Cru Classé) 2012",
         "Country": "France",
         "Region": "Saint-Émilion Grand Cru",
         "Winery": "Château Figeac",
         "Rating": 4.4,
         "NumberOfRatings": 1000,
         "Price": 174.49,
         "Year": "2012",
         "Type": "Red",
         "_deepnote_index_column": 26
        }
       ]
      },
      "text/plain": "                                         Name      Country        Region  \\\n78                            Pinot Noir 2016  New Zealand   Marlborough   \n66                         Fausto Tannat 2015       Brazil  Serra Gaúcha   \n51  El Abuelo Selección Edición Limitada 2013        Spain       Almansa   \n43                            Roma Rosso 2018        Italy         Lazio   \n41                 Cuvée Alienor Fronsac 2015       France       Fronsac   \n..                                        ...          ...           ...   \n2          Erta e China Rosso di Toscana 2015        Italy       Toscana   \n2          Erta e China Rosso di Toscana 2015        Italy       Toscana   \n2          Erta e China Rosso di Toscana 2015        Italy       Toscana   \n2          Erta e China Rosso di Toscana 2015        Italy       Toscana   \n2          Erta e China Rosso di Toscana 2015        Italy       Toscana   \n\n                 Winery  Rating  NumberOfRatings  Price  Year Type  \n78  Clos Henri Vineyard     3.9              102  27.78  2016  Red  \n66              Pizzato     3.6             1012  11.35  2015  Red  \n51     Bodegas Piqueras     4.2              101  10.95  2013  Red  \n43      Poggio le Volpi     4.0              101   9.95  2018  Red  \n41  Château Mayne-Vieil     3.7              101  16.47  2015  Red  \n..                  ...     ...              ...    ...   ...  ...  \n2            Renzo Masi     3.9              100   7.45  2015  Red  \n2            Renzo Masi     3.9              100   7.45  2015  Red  \n2            Renzo Masi     3.9              100   7.45  2015  Red  \n2            Renzo Masi     3.9              100   7.45  2015  Red  \n2            Renzo Masi     3.9              100   7.45  2015  Red  \n\n[770 rows x 9 columns]",
      "text/html": "<div>\n<style scoped>\n    .dataframe tbody tr th:only-of-type {\n        vertical-align: middle;\n    }\n\n    .dataframe tbody tr th {\n        vertical-align: top;\n    }\n\n    .dataframe thead th {\n        text-align: right;\n    }\n</style>\n<table border=\"1\" class=\"dataframe\">\n  <thead>\n    <tr style=\"text-align: right;\">\n      <th></th>\n      <th>Name</th>\n      <th>Country</th>\n      <th>Region</th>\n      <th>Winery</th>\n      <th>Rating</th>\n      <th>NumberOfRatings</th>\n      <th>Price</th>\n      <th>Year</th>\n      <th>Type</th>\n    </tr>\n  </thead>\n  <tbody>\n    <tr>\n      <th>78</th>\n      <td>Pinot Noir 2016</td>\n      <td>New Zealand</td>\n      <td>Marlborough</td>\n      <td>Clos Henri Vineyard</td>\n      <td>3.9</td>\n      <td>102</td>\n      <td>27.78</td>\n      <td>2016</td>\n      <td>Red</td>\n    </tr>\n    <tr>\n      <th>66</th>\n      <td>Fausto Tannat 2015</td>\n      <td>Brazil</td>\n      <td>Serra Gaúcha</td>\n      <td>Pizzato</td>\n      <td>3.6</td>\n      <td>1012</td>\n      <td>11.35</td>\n      <td>2015</td>\n      <td>Red</td>\n    </tr>\n    <tr>\n      <th>51</th>\n      <td>El Abuelo Selección Edición Limitada 2013</td>\n      <td>Spain</td>\n      <td>Almansa</td>\n      <td>Bodegas Piqueras</td>\n      <td>4.2</td>\n      <td>101</td>\n      <td>10.95</td>\n      <td>2013</td>\n      <td>Red</td>\n    </tr>\n    <tr>\n      <th>43</th>\n      <td>Roma Rosso 2018</td>\n      <td>Italy</td>\n      <td>Lazio</td>\n      <td>Poggio le Volpi</td>\n      <td>4.0</td>\n      <td>101</td>\n      <td>9.95</td>\n      <td>2018</td>\n      <td>Red</td>\n    </tr>\n    <tr>\n      <th>41</th>\n      <td>Cuvée Alienor Fronsac 2015</td>\n      <td>France</td>\n      <td>Fronsac</td>\n      <td>Château Mayne-Vieil</td>\n      <td>3.7</td>\n      <td>101</td>\n      <td>16.47</td>\n      <td>2015</td>\n      <td>Red</td>\n    </tr>\n    <tr>\n      <th>...</th>\n      <td>...</td>\n      <td>...</td>\n      <td>...</td>\n      <td>...</td>\n      <td>...</td>\n      <td>...</td>\n      <td>...</td>\n      <td>...</td>\n      <td>...</td>\n    </tr>\n    <tr>\n      <th>2</th>\n      <td>Erta e China Rosso di Toscana 2015</td>\n      <td>Italy</td>\n      <td>Toscana</td>\n      <td>Renzo Masi</td>\n      <td>3.9</td>\n      <td>100</td>\n      <td>7.45</td>\n      <td>2015</td>\n      <td>Red</td>\n    </tr>\n    <tr>\n      <th>2</th>\n      <td>Erta e China Rosso di Toscana 2015</td>\n      <td>Italy</td>\n      <td>Toscana</td>\n      <td>Renzo Masi</td>\n      <td>3.9</td>\n      <td>100</td>\n      <td>7.45</td>\n      <td>2015</td>\n      <td>Red</td>\n    </tr>\n    <tr>\n      <th>2</th>\n      <td>Erta e China Rosso di Toscana 2015</td>\n      <td>Italy</td>\n      <td>Toscana</td>\n      <td>Renzo Masi</td>\n      <td>3.9</td>\n      <td>100</td>\n      <td>7.45</td>\n      <td>2015</td>\n      <td>Red</td>\n    </tr>\n    <tr>\n      <th>2</th>\n      <td>Erta e China Rosso di Toscana 2015</td>\n      <td>Italy</td>\n      <td>Toscana</td>\n      <td>Renzo Masi</td>\n      <td>3.9</td>\n      <td>100</td>\n      <td>7.45</td>\n      <td>2015</td>\n      <td>Red</td>\n    </tr>\n    <tr>\n      <th>2</th>\n      <td>Erta e China Rosso di Toscana 2015</td>\n      <td>Italy</td>\n      <td>Toscana</td>\n      <td>Renzo Masi</td>\n      <td>3.9</td>\n      <td>100</td>\n      <td>7.45</td>\n      <td>2015</td>\n      <td>Red</td>\n    </tr>\n  </tbody>\n</table>\n<p>770 rows × 9 columns</p>\n</div>"
     },
     "metadata": {}
    }
   ]
  },
  {
   "cell_type": "markdown",
   "source": "#### Analysis of Data Points with \"Name\" as \"Chardonnay 2018\"",
   "metadata": {
    "tags": [],
    "cell_id": "00017-1b724d1a-0e00-4f68-aabc-f802d5ceadd1",
    "deepnote_cell_type": "markdown",
    "deepnote_cell_height": 54
   }
  },
  {
   "cell_type": "markdown",
   "source": "As \"Chardonnay 2018\" is the most frequently repeated name, we will use it to investigate the relationship between \"Name\" and the other variables.",
   "metadata": {
    "tags": [],
    "cell_id": "00018-97fea03d-6b60-4c67-b54c-eb95b854e437",
    "deepnote_cell_type": "markdown",
    "deepnote_cell_height": 74.80000305175781
   }
  },
  {
   "cell_type": "code",
   "metadata": {
    "tags": [],
    "deepnote_to_be_reexecuted": false,
    "source_hash": "57fc9aff",
    "execution_start": 1650699947391,
    "execution_millis": 80,
    "deepnote_table_state": {
     "pageSize": 10,
     "pageIndex": 0,
     "filters": [],
     "sortBy": [
      {
       "id": "NumberOfRatings",
       "type": "desc"
      }
     ]
    },
    "deepnote_table_loading": false,
    "cell_id": "00019-277e8b98-c9b1-4805-a659-e2ba587ba9f0",
    "deepnote_cell_type": "code",
    "deepnote_cell_height": 649
   },
   "source": "wine.loc[wine['Name'] == 'Chardonnay 2018']",
   "execution_count": null,
   "outputs": [
    {
     "output_type": "execute_result",
     "execution_count": 6,
     "data": {
      "application/vnd.deepnote.dataframe.v3+json": {
       "column_count": 9,
       "row_count": 78,
       "columns": [
        {
         "name": "Name",
         "dtype": "object",
         "stats": {
          "unique_count": 1,
          "nan_count": 0,
          "categories": [
           {
            "name": "Chardonnay 2018",
            "count": 78
           }
          ]
         }
        },
        {
         "name": "Country",
         "dtype": "object",
         "stats": {
          "unique_count": 12,
          "nan_count": 0,
          "categories": [
           {
            "name": "South Africa",
            "count": 18
           },
           {
            "name": "United States",
            "count": 16
           },
           {
            "name": "10 others",
            "count": 44
           }
          ]
         }
        },
        {
         "name": "Region",
         "dtype": "object",
         "stats": {
          "unique_count": 41,
          "nan_count": 0,
          "categories": [
           {
            "name": "Pays d'Oc",
            "count": 11
           },
           {
            "name": "California",
            "count": 9
           },
           {
            "name": "39 others",
            "count": 58
           }
          ]
         }
        },
        {
         "name": "Winery",
         "dtype": "object",
         "stats": {
          "unique_count": 78,
          "nan_count": 0,
          "categories": [
           {
            "name": "Rombauer Vineyards",
            "count": 1
           },
           {
            "name": "Planeta",
            "count": 1
           },
           {
            "name": "76 others",
            "count": 76
           }
          ]
         }
        },
        {
         "name": "Rating",
         "dtype": "float64",
         "stats": {
          "unique_count": 15,
          "nan_count": 0,
          "min": "2.8",
          "max": "4.3",
          "histogram": [
           {
            "bin_start": 2.8,
            "bin_end": 2.9499999999999997,
            "count": 1
           },
           {
            "bin_start": 2.9499999999999997,
            "bin_end": 3.0999999999999996,
            "count": 1
           },
           {
            "bin_start": 3.0999999999999996,
            "bin_end": 3.25,
            "count": 2
           },
           {
            "bin_start": 3.25,
            "bin_end": 3.4,
            "count": 3
           },
           {
            "bin_start": 3.4,
            "bin_end": 3.55,
            "count": 23
           },
           {
            "bin_start": 3.55,
            "bin_end": 3.6999999999999997,
            "count": 11
           },
           {
            "bin_start": 3.6999999999999997,
            "bin_end": 3.8499999999999996,
            "count": 22
           },
           {
            "bin_start": 3.8499999999999996,
            "bin_end": 4,
            "count": 5
           },
           {
            "bin_start": 4,
            "bin_end": 4.1499999999999995,
            "count": 6
           },
           {
            "bin_start": 4.1499999999999995,
            "bin_end": 4.3,
            "count": 4
           }
          ]
         }
        },
        {
         "name": "NumberOfRatings",
         "dtype": "int64",
         "stats": {
          "unique_count": 67,
          "nan_count": 0,
          "min": "25",
          "max": "2034",
          "histogram": [
           {
            "bin_start": 25,
            "bin_end": 225.9,
            "count": 53
           },
           {
            "bin_start": 225.9,
            "bin_end": 426.8,
            "count": 11
           },
           {
            "bin_start": 426.8,
            "bin_end": 627.7,
            "count": 6
           },
           {
            "bin_start": 627.7,
            "bin_end": 828.6,
            "count": 3
           },
           {
            "bin_start": 828.6,
            "bin_end": 1029.5,
            "count": 2
           },
           {
            "bin_start": 1029.5,
            "bin_end": 1230.4,
            "count": 2
           },
           {
            "bin_start": 1230.4,
            "bin_end": 1431.3,
            "count": 0
           },
           {
            "bin_start": 1431.3,
            "bin_end": 1632.2,
            "count": 0
           },
           {
            "bin_start": 1632.2,
            "bin_end": 1833.1000000000001,
            "count": 0
           },
           {
            "bin_start": 1833.1000000000001,
            "bin_end": 2034,
            "count": 1
           }
          ]
         }
        },
        {
         "name": "Price",
         "dtype": "float64",
         "stats": {
          "unique_count": 69,
          "nan_count": 0,
          "min": "5.5",
          "max": "39.9",
          "histogram": [
           {
            "bin_start": 5.5,
            "bin_end": 8.94,
            "count": 36
           },
           {
            "bin_start": 8.94,
            "bin_end": 12.379999999999999,
            "count": 19
           },
           {
            "bin_start": 12.379999999999999,
            "bin_end": 15.82,
            "count": 9
           },
           {
            "bin_start": 15.82,
            "bin_end": 19.259999999999998,
            "count": 5
           },
           {
            "bin_start": 19.259999999999998,
            "bin_end": 22.7,
            "count": 3
           },
           {
            "bin_start": 22.7,
            "bin_end": 26.14,
            "count": 3
           },
           {
            "bin_start": 26.14,
            "bin_end": 29.58,
            "count": 1
           },
           {
            "bin_start": 29.58,
            "bin_end": 33.019999999999996,
            "count": 1
           },
           {
            "bin_start": 33.019999999999996,
            "bin_end": 36.46,
            "count": 0
           },
           {
            "bin_start": 36.46,
            "bin_end": 39.9,
            "count": 1
           }
          ]
         }
        },
        {
         "name": "Year",
         "dtype": "object",
         "stats": {
          "unique_count": 1,
          "nan_count": 0,
          "categories": [
           {
            "name": "2018",
            "count": 78
           }
          ]
         }
        },
        {
         "name": "Type",
         "dtype": "object",
         "stats": {
          "unique_count": 1,
          "nan_count": 0,
          "categories": [
           {
            "name": "White",
            "count": 78
           }
          ]
         }
        },
        {
         "name": "_deepnote_index_column",
         "dtype": "int64"
        }
       ],
       "rows": [
        {
         "Name": "Chardonnay 2018",
         "Country": "United States",
         "Region": "Los Carneros",
         "Winery": "Rombauer Vineyards",
         "Rating": 4.3,
         "NumberOfRatings": 2034,
         "Price": 39.9,
         "Year": "2018",
         "Type": "White",
         "_deepnote_index_column": 12808
        },
        {
         "Name": "Chardonnay 2018",
         "Country": "Italy",
         "Region": "Menfi",
         "Winery": "Planeta",
         "Rating": 4.2,
         "NumberOfRatings": 1116,
         "Price": 22.8,
         "Year": "2018",
         "Type": "White",
         "_deepnote_index_column": 12769
        },
        {
         "Name": "Chardonnay 2018",
         "Country": "United States",
         "Region": "California",
         "Winery": "Woodbridge by Robert Mondavi",
         "Rating": 3.4,
         "NumberOfRatings": 1100,
         "Price": 8.72,
         "Year": "2018",
         "Type": "White",
         "_deepnote_index_column": 12768
        },
        {
         "Name": "Chardonnay 2018",
         "Country": "Argentina",
         "Region": "Mendoza",
         "Winery": "Catena",
         "Rating": 4,
         "NumberOfRatings": 979,
         "Price": 15.79,
         "Year": "2018",
         "Type": "White",
         "_deepnote_index_column": 12753
        },
        {
         "Name": "Chardonnay 2018",
         "Country": "United States",
         "Region": "California",
         "Winery": "Bogle",
         "Rating": 3.8,
         "NumberOfRatings": 898,
         "Price": 14.36,
         "Year": "2018",
         "Type": "White",
         "_deepnote_index_column": 12739
        },
        {
         "Name": "Chardonnay 2018",
         "Country": "France",
         "Region": "Pays d'Oc",
         "Winery": "Laroche",
         "Rating": 3.4,
         "NumberOfRatings": 719,
         "Price": 8.25,
         "Year": "2018",
         "Type": "White",
         "_deepnote_index_column": 12698
        },
        {
         "Name": "Chardonnay 2018",
         "Country": "United States",
         "Region": "Napa Valley",
         "Winery": "Black Stallion",
         "Rating": 3.9,
         "NumberOfRatings": 710,
         "Price": 22.35,
         "Year": "2018",
         "Type": "White",
         "_deepnote_index_column": 12693
        },
        {
         "Name": "Chardonnay 2018",
         "Country": "United States",
         "Region": "California",
         "Winery": "Robert Mondavi Private Selection",
         "Rating": 3.8,
         "NumberOfRatings": 676,
         "Price": 11.5,
         "Year": "2018",
         "Type": "White",
         "_deepnote_index_column": 12682
        },
        {
         "Name": "Chardonnay 2018",
         "Country": "France",
         "Region": "Pays d'Oc",
         "Winery": "Les Jamelles",
         "Rating": 3.6,
         "NumberOfRatings": 570,
         "Price": 5.69,
         "Year": "2018",
         "Type": "White",
         "_deepnote_index_column": 12634
        },
        {
         "Name": "Chardonnay 2018",
         "Country": "United States",
         "Region": "Columbia Valley",
         "Winery": "Chateau Ste. Michelle",
         "Rating": 3.8,
         "NumberOfRatings": 567,
         "Price": 12.5,
         "Year": "2018",
         "Type": "White",
         "_deepnote_index_column": 12630
        }
       ]
      },
      "text/plain": "                  Name        Country            Region  \\\n9066   Chardonnay 2018        Germany       Rheinhessen   \n9221   Chardonnay 2018        Austria  Mittelburgenland   \n9239   Chardonnay 2018         France         Pays d'Oc   \n9271   Chardonnay 2018  United States       North Coast   \n9309   Chardonnay 2018   South Africa         Cape Town   \n...                ...            ...               ...   \n12739  Chardonnay 2018  United States        California   \n12753  Chardonnay 2018      Argentina           Mendoza   \n12768  Chardonnay 2018  United States        California   \n12769  Chardonnay 2018          Italy             Menfi   \n12808  Chardonnay 2018  United States      Los Carneros   \n\n                             Winery  Rating  NumberOfRatings  Price  Year  \\\n9066              Krämer - Straight     3.9               25   8.99  2018   \n9221                     Gesellmann     3.5               27  15.90  2018   \n9239             Abbotts & Delaunay     3.7               28   6.73  2018   \n9271                    Ghost Pines     3.8               28  13.47  2018   \n9309              Cape Town Wine Co     3.0               29   7.50  2018   \n...                             ...     ...              ...    ...   ...   \n12739                         Bogle     3.8              898  14.36  2018   \n12753                        Catena     4.0              979  15.79  2018   \n12768  Woodbridge by Robert Mondavi     3.4             1100   8.72  2018   \n12769                       Planeta     4.2             1116  22.80  2018   \n12808            Rombauer Vineyards     4.3             2034  39.90  2018   \n\n        Type  \n9066   White  \n9221   White  \n9239   White  \n9271   White  \n9309   White  \n...      ...  \n12739  White  \n12753  White  \n12768  White  \n12769  White  \n12808  White  \n\n[78 rows x 9 columns]",
      "text/html": "<div>\n<style scoped>\n    .dataframe tbody tr th:only-of-type {\n        vertical-align: middle;\n    }\n\n    .dataframe tbody tr th {\n        vertical-align: top;\n    }\n\n    .dataframe thead th {\n        text-align: right;\n    }\n</style>\n<table border=\"1\" class=\"dataframe\">\n  <thead>\n    <tr style=\"text-align: right;\">\n      <th></th>\n      <th>Name</th>\n      <th>Country</th>\n      <th>Region</th>\n      <th>Winery</th>\n      <th>Rating</th>\n      <th>NumberOfRatings</th>\n      <th>Price</th>\n      <th>Year</th>\n      <th>Type</th>\n    </tr>\n  </thead>\n  <tbody>\n    <tr>\n      <th>9066</th>\n      <td>Chardonnay 2018</td>\n      <td>Germany</td>\n      <td>Rheinhessen</td>\n      <td>Krämer - Straight</td>\n      <td>3.9</td>\n      <td>25</td>\n      <td>8.99</td>\n      <td>2018</td>\n      <td>White</td>\n    </tr>\n    <tr>\n      <th>9221</th>\n      <td>Chardonnay 2018</td>\n      <td>Austria</td>\n      <td>Mittelburgenland</td>\n      <td>Gesellmann</td>\n      <td>3.5</td>\n      <td>27</td>\n      <td>15.90</td>\n      <td>2018</td>\n      <td>White</td>\n    </tr>\n    <tr>\n      <th>9239</th>\n      <td>Chardonnay 2018</td>\n      <td>France</td>\n      <td>Pays d'Oc</td>\n      <td>Abbotts &amp; Delaunay</td>\n      <td>3.7</td>\n      <td>28</td>\n      <td>6.73</td>\n      <td>2018</td>\n      <td>White</td>\n    </tr>\n    <tr>\n      <th>9271</th>\n      <td>Chardonnay 2018</td>\n      <td>United States</td>\n      <td>North Coast</td>\n      <td>Ghost Pines</td>\n      <td>3.8</td>\n      <td>28</td>\n      <td>13.47</td>\n      <td>2018</td>\n      <td>White</td>\n    </tr>\n    <tr>\n      <th>9309</th>\n      <td>Chardonnay 2018</td>\n      <td>South Africa</td>\n      <td>Cape Town</td>\n      <td>Cape Town Wine Co</td>\n      <td>3.0</td>\n      <td>29</td>\n      <td>7.50</td>\n      <td>2018</td>\n      <td>White</td>\n    </tr>\n    <tr>\n      <th>...</th>\n      <td>...</td>\n      <td>...</td>\n      <td>...</td>\n      <td>...</td>\n      <td>...</td>\n      <td>...</td>\n      <td>...</td>\n      <td>...</td>\n      <td>...</td>\n    </tr>\n    <tr>\n      <th>12739</th>\n      <td>Chardonnay 2018</td>\n      <td>United States</td>\n      <td>California</td>\n      <td>Bogle</td>\n      <td>3.8</td>\n      <td>898</td>\n      <td>14.36</td>\n      <td>2018</td>\n      <td>White</td>\n    </tr>\n    <tr>\n      <th>12753</th>\n      <td>Chardonnay 2018</td>\n      <td>Argentina</td>\n      <td>Mendoza</td>\n      <td>Catena</td>\n      <td>4.0</td>\n      <td>979</td>\n      <td>15.79</td>\n      <td>2018</td>\n      <td>White</td>\n    </tr>\n    <tr>\n      <th>12768</th>\n      <td>Chardonnay 2018</td>\n      <td>United States</td>\n      <td>California</td>\n      <td>Woodbridge by Robert Mondavi</td>\n      <td>3.4</td>\n      <td>1100</td>\n      <td>8.72</td>\n      <td>2018</td>\n      <td>White</td>\n    </tr>\n    <tr>\n      <th>12769</th>\n      <td>Chardonnay 2018</td>\n      <td>Italy</td>\n      <td>Menfi</td>\n      <td>Planeta</td>\n      <td>4.2</td>\n      <td>1116</td>\n      <td>22.80</td>\n      <td>2018</td>\n      <td>White</td>\n    </tr>\n    <tr>\n      <th>12808</th>\n      <td>Chardonnay 2018</td>\n      <td>United States</td>\n      <td>Los Carneros</td>\n      <td>Rombauer Vineyards</td>\n      <td>4.3</td>\n      <td>2034</td>\n      <td>39.90</td>\n      <td>2018</td>\n      <td>White</td>\n    </tr>\n  </tbody>\n</table>\n<p>78 rows × 9 columns</p>\n</div>"
     },
     "metadata": {}
    }
   ]
  },
  {
   "cell_type": "markdown",
   "source": "It appears that most of the wines with similar names are not duplicates - they come from different regions, countries, and wineries; they also have different values for the other variables.",
   "metadata": {
    "tags": [],
    "cell_id": "00020-aea106b7-90a3-4575-97e5-caea3fae8edd",
    "deepnote_cell_type": "markdown",
    "deepnote_cell_height": 74.80000305175781
   }
  },
  {
   "cell_type": "code",
   "metadata": {
    "tags": [],
    "deepnote_to_be_reexecuted": false,
    "source_hash": "5fab3006",
    "execution_start": 1650608209550,
    "execution_millis": 44,
    "cell_id": "00021-897a3e4a-654f-4d47-89a8-da2311e12202",
    "deepnote_cell_type": "code",
    "deepnote_cell_height": 617
   },
   "source": "wine.loc[(wine['Name'] == 'Chardonnay 2018') & (wine['Region'] == 'Pays d\\'Oc')]",
   "execution_count": null,
   "outputs": [
    {
     "output_type": "execute_result",
     "execution_count": 8,
     "data": {
      "application/vnd.deepnote.dataframe.v3+json": {
       "column_count": 9,
       "row_count": 11,
       "columns": [
        {
         "name": "Name",
         "dtype": "object",
         "stats": {
          "unique_count": 1,
          "nan_count": 0,
          "categories": [
           {
            "name": "Chardonnay 2018",
            "count": 11
           }
          ]
         }
        },
        {
         "name": "Country",
         "dtype": "object",
         "stats": {
          "unique_count": 1,
          "nan_count": 0,
          "categories": [
           {
            "name": "France",
            "count": 11
           }
          ]
         }
        },
        {
         "name": "Region",
         "dtype": "object",
         "stats": {
          "unique_count": 1,
          "nan_count": 0,
          "categories": [
           {
            "name": "Pays d'Oc",
            "count": 11
           }
          ]
         }
        },
        {
         "name": "Winery",
         "dtype": "object",
         "stats": {
          "unique_count": 11,
          "nan_count": 0,
          "categories": [
           {
            "name": "Abbotts & Delaunay",
            "count": 1
           },
           {
            "name": "Domaine d'Aubaret",
            "count": 1
           },
           {
            "name": "9 others",
            "count": 9
           }
          ]
         }
        },
        {
         "name": "Rating",
         "dtype": "float64",
         "stats": {
          "unique_count": 6,
          "nan_count": 0,
          "min": "3.3",
          "max": "3.8",
          "histogram": [
           {
            "bin_start": 3.3,
            "bin_end": 3.3499999999999996,
            "count": 1
           },
           {
            "bin_start": 3.3499999999999996,
            "bin_end": 3.4,
            "count": 0
           },
           {
            "bin_start": 3.4,
            "bin_end": 3.4499999999999997,
            "count": 1
           },
           {
            "bin_start": 3.4499999999999997,
            "bin_end": 3.5,
            "count": 0
           },
           {
            "bin_start": 3.5,
            "bin_end": 3.55,
            "count": 3
           },
           {
            "bin_start": 3.55,
            "bin_end": 3.5999999999999996,
            "count": 0
           },
           {
            "bin_start": 3.5999999999999996,
            "bin_end": 3.65,
            "count": 1
           },
           {
            "bin_start": 3.65,
            "bin_end": 3.6999999999999997,
            "count": 0
           },
           {
            "bin_start": 3.6999999999999997,
            "bin_end": 3.75,
            "count": 4
           },
           {
            "bin_start": 3.75,
            "bin_end": 3.8,
            "count": 1
           }
          ]
         }
        },
        {
         "name": "NumberOfRatings",
         "dtype": "int64",
         "stats": {
          "unique_count": 11,
          "nan_count": 0,
          "min": "28",
          "max": "719",
          "histogram": [
           {
            "bin_start": 28,
            "bin_end": 97.1,
            "count": 5
           },
           {
            "bin_start": 97.1,
            "bin_end": 166.2,
            "count": 1
           },
           {
            "bin_start": 166.2,
            "bin_end": 235.29999999999998,
            "count": 2
           },
           {
            "bin_start": 235.29999999999998,
            "bin_end": 304.4,
            "count": 0
           },
           {
            "bin_start": 304.4,
            "bin_end": 373.5,
            "count": 1
           },
           {
            "bin_start": 373.5,
            "bin_end": 442.59999999999997,
            "count": 0
           },
           {
            "bin_start": 442.59999999999997,
            "bin_end": 511.69999999999993,
            "count": 0
           },
           {
            "bin_start": 511.69999999999993,
            "bin_end": 580.8,
            "count": 1
           },
           {
            "bin_start": 580.8,
            "bin_end": 649.9,
            "count": 0
           },
           {
            "bin_start": 649.9,
            "bin_end": 719,
            "count": 1
           }
          ]
         }
        },
        {
         "name": "Price",
         "dtype": "float64",
         "stats": {
          "unique_count": 11,
          "nan_count": 0,
          "min": "5.5",
          "max": "8.78",
          "histogram": [
           {
            "bin_start": 5.5,
            "bin_end": 5.828,
            "count": 2
           },
           {
            "bin_start": 5.828,
            "bin_end": 6.156,
            "count": 0
           },
           {
            "bin_start": 6.156,
            "bin_end": 6.484,
            "count": 0
           },
           {
            "bin_start": 6.484,
            "bin_end": 6.811999999999999,
            "count": 2
           },
           {
            "bin_start": 6.811999999999999,
            "bin_end": 7.14,
            "count": 3
           },
           {
            "bin_start": 7.14,
            "bin_end": 7.468,
            "count": 0
           },
           {
            "bin_start": 7.468,
            "bin_end": 7.795999999999999,
            "count": 1
           },
           {
            "bin_start": 7.795999999999999,
            "bin_end": 8.123999999999999,
            "count": 1
           },
           {
            "bin_start": 8.123999999999999,
            "bin_end": 8.452,
            "count": 1
           },
           {
            "bin_start": 8.452,
            "bin_end": 8.78,
            "count": 1
           }
          ]
         }
        },
        {
         "name": "Year",
         "dtype": "object",
         "stats": {
          "unique_count": 1,
          "nan_count": 0,
          "categories": [
           {
            "name": "2018",
            "count": 11
           }
          ]
         }
        },
        {
         "name": "Type",
         "dtype": "object",
         "stats": {
          "unique_count": 1,
          "nan_count": 0,
          "categories": [
           {
            "name": "White",
            "count": 11
           }
          ]
         }
        },
        {
         "name": "_deepnote_index_column",
         "dtype": "int64"
        }
       ],
       "rows": [
        {
         "Name": "Chardonnay 2018",
         "Country": "France",
         "Region": "Pays d'Oc",
         "Winery": "Abbotts & Delaunay",
         "Rating": 3.7,
         "NumberOfRatings": 28,
         "Price": 6.73,
         "Year": "2018",
         "Type": "White",
         "_deepnote_index_column": 9239
        },
        {
         "Name": "Chardonnay 2018",
         "Country": "France",
         "Region": "Pays d'Oc",
         "Winery": "Domaine d'Aubaret",
         "Rating": 3.5,
         "NumberOfRatings": 29,
         "Price": 6.95,
         "Year": "2018",
         "Type": "White",
         "_deepnote_index_column": 9325
        },
        {
         "Name": "Chardonnay 2018",
         "Country": "France",
         "Region": "Pays d'Oc",
         "Winery": "Les Salices",
         "Rating": 3.5,
         "NumberOfRatings": 36,
         "Price": 7.1,
         "Year": "2018",
         "Type": "White",
         "_deepnote_index_column": 9708
        },
        {
         "Name": "Chardonnay 2018",
         "Country": "France",
         "Region": "Pays d'Oc",
         "Winery": "Cap Cette",
         "Rating": 3.3,
         "NumberOfRatings": 41,
         "Price": 7.5,
         "Year": "2018",
         "Type": "White",
         "_deepnote_index_column": 9926
        },
        {
         "Name": "Chardonnay 2018",
         "Country": "France",
         "Region": "Pays d'Oc",
         "Winery": "Croix d'Or",
         "Rating": 3.8,
         "NumberOfRatings": 47,
         "Price": 6.9,
         "Year": "2018",
         "Type": "White",
         "_deepnote_index_column": 10150
        },
        {
         "Name": "Chardonnay 2018",
         "Country": "France",
         "Region": "Pays d'Oc",
         "Winery": "Domaines Astruc",
         "Rating": 3.7,
         "NumberOfRatings": 165,
         "Price": 6.5,
         "Year": "2018",
         "Type": "White",
         "_deepnote_index_column": 11833
        },
        {
         "Name": "Chardonnay 2018",
         "Country": "France",
         "Region": "Pays d'Oc",
         "Winery": "La Chevalière",
         "Rating": 3.7,
         "NumberOfRatings": 199,
         "Price": 7.89,
         "Year": "2018",
         "Type": "White",
         "_deepnote_index_column": 12010
        },
        {
         "Name": "Chardonnay 2018",
         "Country": "France",
         "Region": "Pays d'Oc",
         "Winery": "Baron Philippe de Rothschild",
         "Rating": 3.5,
         "NumberOfRatings": 226,
         "Price": 8.78,
         "Year": "2018",
         "Type": "White",
         "_deepnote_index_column": 12116
        },
        {
         "Name": "Chardonnay 2018",
         "Country": "France",
         "Region": "Pays d'Oc",
         "Winery": "Paul Mas",
         "Rating": 3.7,
         "NumberOfRatings": 311,
         "Price": 5.5,
         "Year": "2018",
         "Type": "White",
         "_deepnote_index_column": 12352
        },
        {
         "Name": "Chardonnay 2018",
         "Country": "France",
         "Region": "Pays d'Oc",
         "Winery": "Les Jamelles",
         "Rating": 3.6,
         "NumberOfRatings": 570,
         "Price": 5.69,
         "Year": "2018",
         "Type": "White",
         "_deepnote_index_column": 12634
        }
       ]
      },
      "text/plain": "                  Name Country     Region                        Winery  \\\n9239   Chardonnay 2018  France  Pays d'Oc            Abbotts & Delaunay   \n9325   Chardonnay 2018  France  Pays d'Oc             Domaine d'Aubaret   \n9708   Chardonnay 2018  France  Pays d'Oc                   Les Salices   \n9926   Chardonnay 2018  France  Pays d'Oc                     Cap Cette   \n10150  Chardonnay 2018  France  Pays d'Oc                    Croix d'Or   \n11833  Chardonnay 2018  France  Pays d'Oc               Domaines Astruc   \n12010  Chardonnay 2018  France  Pays d'Oc                 La Chevalière   \n12116  Chardonnay 2018  France  Pays d'Oc  Baron Philippe de Rothschild   \n12352  Chardonnay 2018  France  Pays d'Oc                      Paul Mas   \n12634  Chardonnay 2018  France  Pays d'Oc                  Les Jamelles   \n12698  Chardonnay 2018  France  Pays d'Oc                       Laroche   \n\n       Rating  NumberOfRatings  Price  Year   Type  \n9239      3.7               28   6.73  2018  White  \n9325      3.5               29   6.95  2018  White  \n9708      3.5               36   7.10  2018  White  \n9926      3.3               41   7.50  2018  White  \n10150     3.8               47   6.90  2018  White  \n11833     3.7              165   6.50  2018  White  \n12010     3.7              199   7.89  2018  White  \n12116     3.5              226   8.78  2018  White  \n12352     3.7              311   5.50  2018  White  \n12634     3.6              570   5.69  2018  White  \n12698     3.4              719   8.25  2018  White  ",
      "text/html": "<div>\n<style scoped>\n    .dataframe tbody tr th:only-of-type {\n        vertical-align: middle;\n    }\n\n    .dataframe tbody tr th {\n        vertical-align: top;\n    }\n\n    .dataframe thead th {\n        text-align: right;\n    }\n</style>\n<table border=\"1\" class=\"dataframe\">\n  <thead>\n    <tr style=\"text-align: right;\">\n      <th></th>\n      <th>Name</th>\n      <th>Country</th>\n      <th>Region</th>\n      <th>Winery</th>\n      <th>Rating</th>\n      <th>NumberOfRatings</th>\n      <th>Price</th>\n      <th>Year</th>\n      <th>Type</th>\n    </tr>\n  </thead>\n  <tbody>\n    <tr>\n      <th>9239</th>\n      <td>Chardonnay 2018</td>\n      <td>France</td>\n      <td>Pays d'Oc</td>\n      <td>Abbotts &amp; Delaunay</td>\n      <td>3.7</td>\n      <td>28</td>\n      <td>6.73</td>\n      <td>2018</td>\n      <td>White</td>\n    </tr>\n    <tr>\n      <th>9325</th>\n      <td>Chardonnay 2018</td>\n      <td>France</td>\n      <td>Pays d'Oc</td>\n      <td>Domaine d'Aubaret</td>\n      <td>3.5</td>\n      <td>29</td>\n      <td>6.95</td>\n      <td>2018</td>\n      <td>White</td>\n    </tr>\n    <tr>\n      <th>9708</th>\n      <td>Chardonnay 2018</td>\n      <td>France</td>\n      <td>Pays d'Oc</td>\n      <td>Les Salices</td>\n      <td>3.5</td>\n      <td>36</td>\n      <td>7.10</td>\n      <td>2018</td>\n      <td>White</td>\n    </tr>\n    <tr>\n      <th>9926</th>\n      <td>Chardonnay 2018</td>\n      <td>France</td>\n      <td>Pays d'Oc</td>\n      <td>Cap Cette</td>\n      <td>3.3</td>\n      <td>41</td>\n      <td>7.50</td>\n      <td>2018</td>\n      <td>White</td>\n    </tr>\n    <tr>\n      <th>10150</th>\n      <td>Chardonnay 2018</td>\n      <td>France</td>\n      <td>Pays d'Oc</td>\n      <td>Croix d'Or</td>\n      <td>3.8</td>\n      <td>47</td>\n      <td>6.90</td>\n      <td>2018</td>\n      <td>White</td>\n    </tr>\n    <tr>\n      <th>11833</th>\n      <td>Chardonnay 2018</td>\n      <td>France</td>\n      <td>Pays d'Oc</td>\n      <td>Domaines Astruc</td>\n      <td>3.7</td>\n      <td>165</td>\n      <td>6.50</td>\n      <td>2018</td>\n      <td>White</td>\n    </tr>\n    <tr>\n      <th>12010</th>\n      <td>Chardonnay 2018</td>\n      <td>France</td>\n      <td>Pays d'Oc</td>\n      <td>La Chevalière</td>\n      <td>3.7</td>\n      <td>199</td>\n      <td>7.89</td>\n      <td>2018</td>\n      <td>White</td>\n    </tr>\n    <tr>\n      <th>12116</th>\n      <td>Chardonnay 2018</td>\n      <td>France</td>\n      <td>Pays d'Oc</td>\n      <td>Baron Philippe de Rothschild</td>\n      <td>3.5</td>\n      <td>226</td>\n      <td>8.78</td>\n      <td>2018</td>\n      <td>White</td>\n    </tr>\n    <tr>\n      <th>12352</th>\n      <td>Chardonnay 2018</td>\n      <td>France</td>\n      <td>Pays d'Oc</td>\n      <td>Paul Mas</td>\n      <td>3.7</td>\n      <td>311</td>\n      <td>5.50</td>\n      <td>2018</td>\n      <td>White</td>\n    </tr>\n    <tr>\n      <th>12634</th>\n      <td>Chardonnay 2018</td>\n      <td>France</td>\n      <td>Pays d'Oc</td>\n      <td>Les Jamelles</td>\n      <td>3.6</td>\n      <td>570</td>\n      <td>5.69</td>\n      <td>2018</td>\n      <td>White</td>\n    </tr>\n    <tr>\n      <th>12698</th>\n      <td>Chardonnay 2018</td>\n      <td>France</td>\n      <td>Pays d'Oc</td>\n      <td>Laroche</td>\n      <td>3.4</td>\n      <td>719</td>\n      <td>8.25</td>\n      <td>2018</td>\n      <td>White</td>\n    </tr>\n  </tbody>\n</table>\n</div>"
     },
     "metadata": {}
    }
   ]
  },
  {
   "cell_type": "markdown",
   "source": "Wines with the same name, coming from the same region, can also be different. For example, while there are multiple wines named \"Chardonnay 2018\" that come from \"Pays d'Oc\" in France, they are not duplicates. They come from different wineries, and have different values for the other variables. We can conclude that duplicate wines are likely those that have the same \"Name\", \"Region\", and \"Winery\" values, as it is likely that a specific winery in a certain region only produces one type of wine with a specific name. Hence, we will use \"Winery\" to check for duplicate values in the dataset.",
   "metadata": {
    "tags": [],
    "cell_id": "00022-7a88d042-e41b-4b56-a561-1450e8d73ed2",
    "deepnote_cell_type": "markdown",
    "deepnote_cell_height": 142
   }
  },
  {
   "cell_type": "markdown",
   "source": "#### Combining \"Name\" and \"Winery\" to check for duplicate values",
   "metadata": {
    "tags": [],
    "cell_id": "00023-77d44b40-95c1-4323-939b-16ee10e8e833",
    "deepnote_cell_type": "markdown",
    "deepnote_cell_height": 54
   }
  },
  {
   "cell_type": "code",
   "metadata": {
    "tags": [],
    "deepnote_to_be_reexecuted": false,
    "source_hash": "bab9b09b",
    "execution_start": 1650608209639,
    "execution_millis": 98,
    "is_output_hidden": false,
    "deepnote_table_state": {
     "pageSize": 10,
     "pageIndex": 0,
     "filters": [],
     "sortBy": [
      {
       "id": "Year",
       "type": "asc"
      }
     ]
    },
    "deepnote_table_loading": false,
    "cell_id": "00024-78f27fa4-cd27-414f-b1f2-57db3c748430",
    "deepnote_cell_type": "code",
    "deepnote_cell_height": 667
   },
   "source": "wine['Name+Winery'] = wine['Name'] + ' ' + wine['Winery']\nwine",
   "execution_count": null,
   "outputs": [
    {
     "output_type": "execute_result",
     "execution_count": 9,
     "data": {
      "application/vnd.deepnote.dataframe.v3+json": {
       "column_count": 10,
       "row_count": 13834,
       "columns": [
        {
         "name": "Name",
         "dtype": "object",
         "stats": {
          "unique_count": 10934,
          "nan_count": 0,
          "categories": [
           {
            "name": "Chardonnay 2018",
            "count": 78
           },
           {
            "name": "Sauvignon Blanc 2019",
            "count": 66
           },
           {
            "name": "10932 others",
            "count": 13690
           }
          ]
         }
        },
        {
         "name": "Country",
         "dtype": "object",
         "stats": {
          "unique_count": 33,
          "nan_count": 0,
          "categories": [
           {
            "name": "Italy",
            "count": 3919
           },
           {
            "name": "France",
            "count": 3436
           },
           {
            "name": "31 others",
            "count": 6479
           }
          ]
         }
        },
        {
         "name": "Region",
         "dtype": "object",
         "stats": {
          "unique_count": 861,
          "nan_count": 0,
          "categories": [
           {
            "name": "Rioja",
            "count": 385
           },
           {
            "name": "Stellenbosch",
            "count": 337
           },
           {
            "name": "859 others",
            "count": 13112
           }
          ]
         }
        },
        {
         "name": "Winery",
         "dtype": "object",
         "stats": {
          "unique_count": 3505,
          "nan_count": 0,
          "categories": [
           {
            "name": "Markus Molitor",
            "count": 73
           },
           {
            "name": "Errazuriz",
            "count": 58
           },
           {
            "name": "3503 others",
            "count": 13703
           }
          ]
         }
        },
        {
         "name": "Rating",
         "dtype": "float64",
         "stats": {
          "unique_count": 26,
          "nan_count": 0,
          "min": "2.2",
          "max": "4.9",
          "histogram": [
           {
            "bin_start": 2.2,
            "bin_end": 2.47,
            "count": 1
           },
           {
            "bin_start": 2.47,
            "bin_end": 2.74,
            "count": 7
           },
           {
            "bin_start": 2.74,
            "bin_end": 3.0100000000000002,
            "count": 48
           },
           {
            "bin_start": 3.0100000000000002,
            "bin_end": 3.2800000000000002,
            "count": 190
           },
           {
            "bin_start": 3.2800000000000002,
            "bin_end": 3.5500000000000003,
            "count": 1574
           },
           {
            "bin_start": 3.5500000000000003,
            "bin_end": 3.8200000000000003,
            "count": 5075
           },
           {
            "bin_start": 3.8200000000000003,
            "bin_end": 4.09,
            "count": 3210
           },
           {
            "bin_start": 4.09,
            "bin_end": 4.36,
            "count": 2993
           },
           {
            "bin_start": 4.36,
            "bin_end": 4.630000000000001,
            "count": 696
           },
           {
            "bin_start": 4.630000000000001,
            "bin_end": 4.9,
            "count": 40
           }
          ]
         }
        },
        {
         "name": "NumberOfRatings",
         "dtype": "int64",
         "stats": {
          "unique_count": 1821,
          "nan_count": 0,
          "min": "25",
          "max": "94287",
          "histogram": [
           {
            "bin_start": 25,
            "bin_end": 9451.2,
            "count": 13788
           },
           {
            "bin_start": 9451.2,
            "bin_end": 18877.4,
            "count": 28
           },
           {
            "bin_start": 18877.4,
            "bin_end": 28303.600000000002,
            "count": 10
           },
           {
            "bin_start": 28303.600000000002,
            "bin_end": 37729.8,
            "count": 2
           },
           {
            "bin_start": 37729.8,
            "bin_end": 47156,
            "count": 2
           },
           {
            "bin_start": 47156,
            "bin_end": 56582.200000000004,
            "count": 0
           },
           {
            "bin_start": 56582.200000000004,
            "bin_end": 66008.40000000001,
            "count": 1
           },
           {
            "bin_start": 66008.40000000001,
            "bin_end": 75434.6,
            "count": 0
           },
           {
            "bin_start": 75434.6,
            "bin_end": 84860.8,
            "count": 1
           },
           {
            "bin_start": 84860.8,
            "bin_end": 94287,
            "count": 2
           }
          ]
         }
        },
        {
         "name": "Price",
         "dtype": "float64",
         "stats": {
          "unique_count": 3008,
          "nan_count": 0,
          "min": "3.15",
          "max": "3410.79",
          "histogram": [
           {
            "bin_start": 3.15,
            "bin_end": 343.914,
            "count": 13727
           },
           {
            "bin_start": 343.914,
            "bin_end": 684.678,
            "count": 82
           },
           {
            "bin_start": 684.678,
            "bin_end": 1025.442,
            "count": 14
           },
           {
            "bin_start": 1025.442,
            "bin_end": 1366.2060000000001,
            "count": 8
           },
           {
            "bin_start": 1366.2060000000001,
            "bin_end": 1706.9700000000003,
            "count": 2
           },
           {
            "bin_start": 1706.9700000000003,
            "bin_end": 2047.7340000000002,
            "count": 0
           },
           {
            "bin_start": 2047.7340000000002,
            "bin_end": 2388.498,
            "count": 0
           },
           {
            "bin_start": 2388.498,
            "bin_end": 2729.262,
            "count": 0
           },
           {
            "bin_start": 2729.262,
            "bin_end": 3070.0260000000003,
            "count": 0
           },
           {
            "bin_start": 3070.0260000000003,
            "bin_end": 3410.79,
            "count": 1
           }
          ]
         }
        },
        {
         "name": "Year",
         "dtype": "object"
        },
        {
         "name": "Type",
         "dtype": "object"
        },
        {
         "name": "Name+Winery",
         "dtype": "object"
        },
        {
         "name": "_deepnote_index_column",
         "dtype": "int64"
        }
       ],
       "rows": [
        {
         "Name": "‘61 Franciacorta Rosé 1961",
         "Country": "Italy",
         "Region": "Franciacorta",
         "Winery": "Berlucchi",
         "Rating": 3.8,
         "NumberOfRatings": 37,
         "Price": 18.91,
         "Year": "1961",
         "Type": "Sparkling",
         "Name+Winery": "‘61 Franciacorta Rosé 1961 Berlucchi",
         "_deepnote_index_column": 12904
        },
        {
         "Name": "‘61 Franciacorta Satèn 1961",
         "Country": "Italy",
         "Region": "Franciacorta",
         "Winery": "Berlucchi",
         "Rating": 3.9,
         "NumberOfRatings": 421,
         "Price": 19.9,
         "Year": "1961",
         "Type": "Sparkling",
         "Name+Winery": "‘61 Franciacorta Satèn 1961 Berlucchi",
         "_deepnote_index_column": 13450
        },
        {
         "Name": "‘61 Franciacorta Brut 1961",
         "Country": "Italy",
         "Region": "Lombardia",
         "Winery": "Berlucchi",
         "Rating": 3.9,
         "NumberOfRatings": 282,
         "Price": 17.95,
         "Year": "1961",
         "Type": "Sparkling",
         "Name+Winery": "‘61 Franciacorta Brut 1961 Berlucchi",
         "_deepnote_index_column": 13348
        },
        {
         "Name": "Hermitage La Chapelle Rouge 1988",
         "Country": "France",
         "Region": "Hermitage",
         "Winery": "Paul Jaboulet Aîné",
         "Rating": 4.3,
         "NumberOfRatings": 203,
         "Price": 209.6,
         "Year": "1988",
         "Type": "Red",
         "Name+Winery": "Hermitage La Chapelle Rouge 1988 Paul Jaboulet Aîné",
         "_deepnote_index_column": 2333
        },
        {
         "Name": "Pauillac (Premier Grand Cru Classé) 1989",
         "Country": "France",
         "Region": "Pauillac",
         "Winery": "Château Mouton Rothschild",
         "Rating": 4.6,
         "NumberOfRatings": 2069,
         "Price": 1168.77,
         "Year": "1989",
         "Type": "Red",
         "Name+Winery": "Pauillac (Premier Grand Cru Classé) 1989 Château Mouton Rothschild",
         "_deepnote_index_column": 2378
        },
        {
         "Name": "Tignanello 1989",
         "Country": "Italy",
         "Region": "Toscana",
         "Winery": "Antinori",
         "Rating": 4.5,
         "NumberOfRatings": 81,
         "Price": 925.08,
         "Year": "1989",
         "Type": "Red",
         "Name+Winery": "Tignanello 1989 Antinori",
         "_deepnote_index_column": 7902
        },
        {
         "Name": "Saint-Julien (Grand Cru Classé) 1990",
         "Country": "France",
         "Region": "Saint-Julien",
         "Winery": "Château Gruaud Larose",
         "Rating": 4.4,
         "NumberOfRatings": 589,
         "Price": 252.47,
         "Year": "1990",
         "Type": "Red",
         "Name+Winery": "Saint-Julien (Grand Cru Classé) 1990 Château Gruaud Larose",
         "_deepnote_index_column": 6612
        },
        {
         "Name": "Musigny Grand Cru (Cuveé Vieilles Vignes) 1990",
         "Country": "France",
         "Region": "Musigny Grand Cru",
         "Winery": "Domaine Comte Georges de Vogüé",
         "Rating": 4.4,
         "NumberOfRatings": 137,
         "Price": 995,
         "Year": "1990",
         "Type": "Red",
         "Name+Winery": "Musigny Grand Cru (Cuveé Vieilles Vignes) 1990 Domaine Comte Georges de Vogüé",
         "_deepnote_index_column": 1067
        },
        {
         "Name": "Pauillac (Premier Grand Cru Classé) 1991",
         "Country": "France",
         "Region": "Pauillac",
         "Winery": "Château Mouton Rothschild",
         "Rating": 4.4,
         "NumberOfRatings": 603,
         "Price": 866.59,
         "Year": "1991",
         "Type": "Red",
         "Name+Winery": "Pauillac (Premier Grand Cru Classé) 1991 Château Mouton Rothschild",
         "_deepnote_index_column": 6742
        },
        {
         "Name": "Pauillac (Premier Grand Cru Classé) 1992",
         "Country": "France",
         "Region": "Pauillac",
         "Winery": "Château Mouton Rothschild",
         "Rating": 4.4,
         "NumberOfRatings": 840,
         "Price": 1071.29,
         "Year": "1992",
         "Type": "Red",
         "Name+Winery": "Pauillac (Premier Grand Cru Classé) 1992 Château Mouton Rothschild",
         "_deepnote_index_column": 8056
        }
       ]
      },
      "text/plain": "                                       Name  Country                 Region  \\\n0                              Pomerol 2011   France                Pomerol   \n1                                Lirac 2017   France                  Lirac   \n2        Erta e China Rosso di Toscana 2015    Italy                Toscana   \n3                            Bardolino 2019    Italy              Bardolino   \n4            Ried Scheibner Pinot Noir 2016  Austria              Carnuntum   \n...                                     ...      ...                    ...   \n13829  Special Cuvée Brut Aÿ Champagne N.V.   France              Champagne   \n13830           Brut Premier Champagne N.V.   France  Champagne Premier Cru   \n13831          Impérial Brut Champagne N.V.   France              Champagne   \n13832     Brut (Carte Jaune) Champagne N.V.   France              Champagne   \n13833                   Brut Champagne N.V.   France              Champagne   \n\n                      Winery  Rating  NumberOfRatings   Price  Year  \\\n0      Château La Providence     4.2              100   95.00  2011   \n1         Château Mont-Redon     4.3              100   15.50  2017   \n2                 Renzo Masi     3.9              100    7.45  2015   \n3                 Cavalchina     3.5              100    8.72  2019   \n4                Markowitsch     3.9              100   29.15  2016   \n...                      ...     ...              ...     ...   ...   \n13829              Bollinger     4.2            37765   46.00  N.V.   \n13830         Louis Roederer     4.2            40004   36.48  N.V.   \n13831         Moët & Chandon     4.1            76037   40.61  N.V.   \n13832         Veuve Clicquot     4.2            86839   43.60  N.V.   \n13833           Dom Pérignon     4.6            94287  170.00  N.V.   \n\n            Type                                       Name+Winery  \n0            Red                Pomerol 2011 Château La Providence  \n1            Red                     Lirac 2017 Château Mont-Redon  \n2            Red     Erta e China Rosso di Toscana 2015 Renzo Masi  \n3            Red                         Bardolino 2019 Cavalchina  \n4            Red        Ried Scheibner Pinot Noir 2016 Markowitsch  \n...          ...                                               ...  \n13829  Sparkling    Special Cuvée Brut Aÿ Champagne N.V. Bollinger  \n13830  Sparkling        Brut Premier Champagne N.V. Louis Roederer  \n13831  Sparkling       Impérial Brut Champagne N.V. Moët & Chandon  \n13832  Sparkling  Brut (Carte Jaune) Champagne N.V. Veuve Clicquot  \n13833  Sparkling                  Brut Champagne N.V. Dom Pérignon  \n\n[13834 rows x 10 columns]",
      "text/html": "<div>\n<style scoped>\n    .dataframe tbody tr th:only-of-type {\n        vertical-align: middle;\n    }\n\n    .dataframe tbody tr th {\n        vertical-align: top;\n    }\n\n    .dataframe thead th {\n        text-align: right;\n    }\n</style>\n<table border=\"1\" class=\"dataframe\">\n  <thead>\n    <tr style=\"text-align: right;\">\n      <th></th>\n      <th>Name</th>\n      <th>Country</th>\n      <th>Region</th>\n      <th>Winery</th>\n      <th>Rating</th>\n      <th>NumberOfRatings</th>\n      <th>Price</th>\n      <th>Year</th>\n      <th>Type</th>\n      <th>Name+Winery</th>\n    </tr>\n  </thead>\n  <tbody>\n    <tr>\n      <th>0</th>\n      <td>Pomerol 2011</td>\n      <td>France</td>\n      <td>Pomerol</td>\n      <td>Château La Providence</td>\n      <td>4.2</td>\n      <td>100</td>\n      <td>95.00</td>\n      <td>2011</td>\n      <td>Red</td>\n      <td>Pomerol 2011 Château La Providence</td>\n    </tr>\n    <tr>\n      <th>1</th>\n      <td>Lirac 2017</td>\n      <td>France</td>\n      <td>Lirac</td>\n      <td>Château Mont-Redon</td>\n      <td>4.3</td>\n      <td>100</td>\n      <td>15.50</td>\n      <td>2017</td>\n      <td>Red</td>\n      <td>Lirac 2017 Château Mont-Redon</td>\n    </tr>\n    <tr>\n      <th>2</th>\n      <td>Erta e China Rosso di Toscana 2015</td>\n      <td>Italy</td>\n      <td>Toscana</td>\n      <td>Renzo Masi</td>\n      <td>3.9</td>\n      <td>100</td>\n      <td>7.45</td>\n      <td>2015</td>\n      <td>Red</td>\n      <td>Erta e China Rosso di Toscana 2015 Renzo Masi</td>\n    </tr>\n    <tr>\n      <th>3</th>\n      <td>Bardolino 2019</td>\n      <td>Italy</td>\n      <td>Bardolino</td>\n      <td>Cavalchina</td>\n      <td>3.5</td>\n      <td>100</td>\n      <td>8.72</td>\n      <td>2019</td>\n      <td>Red</td>\n      <td>Bardolino 2019 Cavalchina</td>\n    </tr>\n    <tr>\n      <th>4</th>\n      <td>Ried Scheibner Pinot Noir 2016</td>\n      <td>Austria</td>\n      <td>Carnuntum</td>\n      <td>Markowitsch</td>\n      <td>3.9</td>\n      <td>100</td>\n      <td>29.15</td>\n      <td>2016</td>\n      <td>Red</td>\n      <td>Ried Scheibner Pinot Noir 2016 Markowitsch</td>\n    </tr>\n    <tr>\n      <th>...</th>\n      <td>...</td>\n      <td>...</td>\n      <td>...</td>\n      <td>...</td>\n      <td>...</td>\n      <td>...</td>\n      <td>...</td>\n      <td>...</td>\n      <td>...</td>\n      <td>...</td>\n    </tr>\n    <tr>\n      <th>13829</th>\n      <td>Special Cuvée Brut Aÿ Champagne N.V.</td>\n      <td>France</td>\n      <td>Champagne</td>\n      <td>Bollinger</td>\n      <td>4.2</td>\n      <td>37765</td>\n      <td>46.00</td>\n      <td>N.V.</td>\n      <td>Sparkling</td>\n      <td>Special Cuvée Brut Aÿ Champagne N.V. Bollinger</td>\n    </tr>\n    <tr>\n      <th>13830</th>\n      <td>Brut Premier Champagne N.V.</td>\n      <td>France</td>\n      <td>Champagne Premier Cru</td>\n      <td>Louis Roederer</td>\n      <td>4.2</td>\n      <td>40004</td>\n      <td>36.48</td>\n      <td>N.V.</td>\n      <td>Sparkling</td>\n      <td>Brut Premier Champagne N.V. Louis Roederer</td>\n    </tr>\n    <tr>\n      <th>13831</th>\n      <td>Impérial Brut Champagne N.V.</td>\n      <td>France</td>\n      <td>Champagne</td>\n      <td>Moët &amp; Chandon</td>\n      <td>4.1</td>\n      <td>76037</td>\n      <td>40.61</td>\n      <td>N.V.</td>\n      <td>Sparkling</td>\n      <td>Impérial Brut Champagne N.V. Moët &amp; Chandon</td>\n    </tr>\n    <tr>\n      <th>13832</th>\n      <td>Brut (Carte Jaune) Champagne N.V.</td>\n      <td>France</td>\n      <td>Champagne</td>\n      <td>Veuve Clicquot</td>\n      <td>4.2</td>\n      <td>86839</td>\n      <td>43.60</td>\n      <td>N.V.</td>\n      <td>Sparkling</td>\n      <td>Brut (Carte Jaune) Champagne N.V. Veuve Clicquot</td>\n    </tr>\n    <tr>\n      <th>13833</th>\n      <td>Brut Champagne N.V.</td>\n      <td>France</td>\n      <td>Champagne</td>\n      <td>Dom Pérignon</td>\n      <td>4.6</td>\n      <td>94287</td>\n      <td>170.00</td>\n      <td>N.V.</td>\n      <td>Sparkling</td>\n      <td>Brut Champagne N.V. Dom Pérignon</td>\n    </tr>\n  </tbody>\n</table>\n<p>13834 rows × 10 columns</p>\n</div>"
     },
     "metadata": {}
    }
   ]
  },
  {
   "cell_type": "code",
   "metadata": {
    "tags": [],
    "deepnote_to_be_reexecuted": false,
    "source_hash": "dcc075fd",
    "execution_start": 1650608209800,
    "execution_millis": 3,
    "cell_id": "00025-40a2a236-cec9-4a1d-9a2f-12bddbf65308",
    "deepnote_cell_type": "code",
    "deepnote_cell_height": 195,
    "deepnote_output_heights": [
     98
    ]
   },
   "source": "wine['Name+Winery'].value_counts().loc[lambda x: x>1]",
   "execution_count": null,
   "outputs": [
    {
     "output_type": "execute_result",
     "execution_count": 10,
     "data": {
      "text/plain": "Cabernet Sauvignon 2016 Louis M. Martini    2\nGrande Cuvée 2017 Salzl Seewinkelhof        2\nOld Vine Zinfandel 2016 Ravenswood          2\nMâcon-Villages 2018 Joseph Drouhin          2\nName: Name+Winery, dtype: int64"
     },
     "metadata": {}
    }
   ]
  },
  {
   "cell_type": "markdown",
   "source": "There are a total of 4 types of wines containing a duplicate entry with the same Name and Winery. We will now carry out further investigation to check if the other variables are duplicates as well.",
   "metadata": {
    "tags": [],
    "cell_id": "00026-64614dab-bec7-4cff-88a7-ed422202afc1",
    "deepnote_cell_type": "markdown",
    "deepnote_cell_height": 74.80000305175781
   }
  },
  {
   "cell_type": "code",
   "metadata": {
    "tags": [],
    "deepnote_to_be_reexecuted": false,
    "source_hash": "e2c67296",
    "execution_start": 1650608209801,
    "execution_millis": 60,
    "deepnote_table_state": {
     "pageSize": 10,
     "pageIndex": 0,
     "filters": [],
     "sortBy": [
      {
       "id": "Country",
       "type": "asc"
      }
     ]
    },
    "deepnote_table_loading": false,
    "cell_id": "00027-0a7367cb-cb09-4f77-8746-8d9bf1995791",
    "deepnote_cell_type": "code",
    "deepnote_cell_height": 567
   },
   "source": "wine.loc[wine['Name+Winery'].isin(wine['Name+Winery'].value_counts().loc[lambda x: x>1].index.values)]",
   "execution_count": null,
   "outputs": [
    {
     "output_type": "execute_result",
     "execution_count": 11,
     "data": {
      "application/vnd.deepnote.dataframe.v3+json": {
       "column_count": 10,
       "row_count": 8,
       "columns": [
        {
         "name": "Name",
         "dtype": "object",
         "stats": {
          "unique_count": 4,
          "nan_count": 0,
          "categories": [
           {
            "name": "Grande Cuvée 2017",
            "count": 2
           },
           {
            "name": "Mâcon-Villages 2018",
            "count": 2
           },
           {
            "name": "2 others",
            "count": 4
           }
          ]
         }
        },
        {
         "name": "Country",
         "dtype": "object",
         "stats": {
          "unique_count": 3,
          "nan_count": 0,
          "categories": [
           {
            "name": "United States",
            "count": 4
           },
           {
            "name": "Austria",
            "count": 2
           },
           {
            "name": "France",
            "count": 2
           }
          ]
         }
        },
        {
         "name": "Region",
         "dtype": "object",
         "stats": {
          "unique_count": 5,
          "nan_count": 0,
          "categories": [
           {
            "name": "Burgenland",
            "count": 2
           },
           {
            "name": "Mâcon-Villages",
            "count": 2
           },
           {
            "name": "3 others",
            "count": 4
           }
          ]
         }
        },
        {
         "name": "Winery",
         "dtype": "object",
         "stats": {
          "unique_count": 4,
          "nan_count": 0,
          "categories": [
           {
            "name": "Salzl Seewinkelhof",
            "count": 2
           },
           {
            "name": "Joseph Drouhin",
            "count": 2
           },
           {
            "name": "2 others",
            "count": 4
           }
          ]
         }
        },
        {
         "name": "Rating",
         "dtype": "float64",
         "stats": {
          "unique_count": 4,
          "nan_count": 0,
          "min": "3.8",
          "max": "4.1",
          "histogram": [
           {
            "bin_start": 3.8,
            "bin_end": 3.8299999999999996,
            "count": 4
           },
           {
            "bin_start": 3.8299999999999996,
            "bin_end": 3.86,
            "count": 0
           },
           {
            "bin_start": 3.86,
            "bin_end": 3.8899999999999997,
            "count": 0
           },
           {
            "bin_start": 3.8899999999999997,
            "bin_end": 3.92,
            "count": 2
           },
           {
            "bin_start": 3.92,
            "bin_end": 3.9499999999999997,
            "count": 0
           },
           {
            "bin_start": 3.9499999999999997,
            "bin_end": 3.9799999999999995,
            "count": 0
           },
           {
            "bin_start": 3.9799999999999995,
            "bin_end": 4.01,
            "count": 1
           },
           {
            "bin_start": 4.01,
            "bin_end": 4.04,
            "count": 0
           },
           {
            "bin_start": 4.04,
            "bin_end": 4.069999999999999,
            "count": 0
           },
           {
            "bin_start": 4.069999999999999,
            "bin_end": 4.1,
            "count": 1
           }
          ]
         }
        },
        {
         "name": "NumberOfRatings",
         "dtype": "int64",
         "stats": {
          "unique_count": 6,
          "nan_count": 0,
          "min": "49",
          "max": "2882",
          "histogram": [
           {
            "bin_start": 49,
            "bin_end": 332.3,
            "count": 3
           },
           {
            "bin_start": 332.3,
            "bin_end": 615.6,
            "count": 0
           },
           {
            "bin_start": 615.6,
            "bin_end": 898.9000000000001,
            "count": 2
           },
           {
            "bin_start": 898.9000000000001,
            "bin_end": 1182.2,
            "count": 0
           },
           {
            "bin_start": 1182.2,
            "bin_end": 1465.5,
            "count": 0
           },
           {
            "bin_start": 1465.5,
            "bin_end": 1748.8000000000002,
            "count": 1
           },
           {
            "bin_start": 1748.8000000000002,
            "bin_end": 2032.1000000000001,
            "count": 0
           },
           {
            "bin_start": 2032.1000000000001,
            "bin_end": 2315.4,
            "count": 1
           },
           {
            "bin_start": 2315.4,
            "bin_end": 2598.7000000000003,
            "count": 0
           },
           {
            "bin_start": 2598.7000000000003,
            "bin_end": 2882,
            "count": 1
           }
          ]
         }
        },
        {
         "name": "Price",
         "dtype": "float64",
         "stats": {
          "unique_count": 8,
          "nan_count": 0,
          "min": "11.4",
          "max": "30.43",
          "histogram": [
           {
            "bin_start": 11.4,
            "bin_end": 13.303,
            "count": 1
           },
           {
            "bin_start": 13.303,
            "bin_end": 15.206,
            "count": 2
           },
           {
            "bin_start": 15.206,
            "bin_end": 17.109,
            "count": 1
           },
           {
            "bin_start": 17.109,
            "bin_end": 19.012,
            "count": 2
           },
           {
            "bin_start": 19.012,
            "bin_end": 20.915,
            "count": 0
           },
           {
            "bin_start": 20.915,
            "bin_end": 22.817999999999998,
            "count": 0
           },
           {
            "bin_start": 22.817999999999998,
            "bin_end": 24.721,
            "count": 0
           },
           {
            "bin_start": 24.721,
            "bin_end": 26.624000000000002,
            "count": 1
           },
           {
            "bin_start": 26.624000000000002,
            "bin_end": 28.527,
            "count": 0
           },
           {
            "bin_start": 28.527,
            "bin_end": 30.43,
            "count": 1
           }
          ]
         }
        },
        {
         "name": "Year",
         "dtype": "object",
         "stats": {
          "unique_count": 3,
          "nan_count": 0,
          "categories": [
           {
            "name": "2016",
            "count": 4
           },
           {
            "name": "2017",
            "count": 2
           },
           {
            "name": "2018",
            "count": 2
           }
          ]
         }
        },
        {
         "name": "Type",
         "dtype": "object",
         "stats": {
          "unique_count": 2,
          "nan_count": 0,
          "categories": [
           {
            "name": "Red",
            "count": 6
           },
           {
            "name": "White",
            "count": 2
           }
          ]
         }
        },
        {
         "name": "Name+Winery",
         "dtype": "object",
         "stats": {
          "unique_count": 4,
          "nan_count": 0,
          "categories": [
           {
            "name": "Grande Cuvée 2017 Salzl Seewinkelhof",
            "count": 2
           },
           {
            "name": "Mâcon-Villages 2018 Joseph Drouhin",
            "count": 2
           },
           {
            "name": "2 others",
            "count": 4
           }
          ]
         }
        },
        {
         "name": "_deepnote_index_column",
         "dtype": "int64"
        }
       ],
       "rows": [
        {
         "Name": "Grande Cuvée 2017",
         "Country": "Austria",
         "Region": "Burgenland",
         "Winery": "Salzl Seewinkelhof",
         "Rating": 3.9,
         "NumberOfRatings": 91,
         "Price": 14.35,
         "Year": "2017",
         "Type": "Red",
         "Name+Winery": "Grande Cuvée 2017 Salzl Seewinkelhof",
         "_deepnote_index_column": 8335
        },
        {
         "Name": "Grande Cuvée 2017",
         "Country": "Austria",
         "Region": "Burgenland",
         "Winery": "Salzl Seewinkelhof",
         "Rating": 3.9,
         "NumberOfRatings": 91,
         "Price": 17.29,
         "Year": "2017",
         "Type": "Red",
         "Name+Winery": "Grande Cuvée 2017 Salzl Seewinkelhof",
         "_deepnote_index_column": 8348
        },
        {
         "Name": "Mâcon-Villages 2018",
         "Country": "France",
         "Region": "Mâcon-Villages",
         "Winery": "Joseph Drouhin",
         "Rating": 3.8,
         "NumberOfRatings": 731,
         "Price": 11.4,
         "Year": "2018",
         "Type": "White",
         "Name+Winery": "Mâcon-Villages 2018 Joseph Drouhin",
         "_deepnote_index_column": 12702
        },
        {
         "Name": "Mâcon-Villages 2018",
         "Country": "France",
         "Region": "Mâcon-Villages",
         "Winery": "Joseph Drouhin",
         "Rating": 3.8,
         "NumberOfRatings": 731,
         "Price": 13.6,
         "Year": "2018",
         "Type": "White",
         "Name+Winery": "Mâcon-Villages 2018 Joseph Drouhin",
         "_deepnote_index_column": 12703
        },
        {
         "Name": "Old Vine Zinfandel 2016",
         "Country": "United States",
         "Region": "Lodi",
         "Winery": "Ravenswood",
         "Rating": 3.8,
         "NumberOfRatings": 1711,
         "Price": 15.49,
         "Year": "2016",
         "Type": "Red",
         "Name+Winery": "Old Vine Zinfandel 2016 Ravenswood",
         "_deepnote_index_column": 1801
        },
        {
         "Name": "Cabernet Sauvignon 2016",
         "Country": "United States",
         "Region": "Napa Valley",
         "Winery": "Louis M. Martini",
         "Rating": 4.1,
         "NumberOfRatings": 2216,
         "Price": 30.43,
         "Year": "2016",
         "Type": "Red",
         "Name+Winery": "Cabernet Sauvignon 2016 Louis M. Martini",
         "_deepnote_index_column": 2574
        },
        {
         "Name": "Cabernet Sauvignon 2016",
         "Country": "United States",
         "Region": "Sonoma County",
         "Winery": "Louis M. Martini",
         "Rating": 3.8,
         "NumberOfRatings": 2882,
         "Price": 17.79,
         "Year": "2016",
         "Type": "Red",
         "Name+Winery": "Cabernet Sauvignon 2016 Louis M. Martini",
         "_deepnote_index_column": 3552
        },
        {
         "Name": "Old Vine Zinfandel 2016",
         "Country": "United States",
         "Region": "Sonoma County",
         "Winery": "Ravenswood",
         "Rating": 4,
         "NumberOfRatings": 49,
         "Price": 25.99,
         "Year": "2016",
         "Type": "Red",
         "Name+Winery": "Old Vine Zinfandel 2016 Ravenswood",
         "_deepnote_index_column": 5890
        }
       ]
      },
      "text/plain": "                          Name        Country          Region  \\\n1801   Old Vine Zinfandel 2016  United States            Lodi   \n2574   Cabernet Sauvignon 2016  United States     Napa Valley   \n3552   Cabernet Sauvignon 2016  United States   Sonoma County   \n5890   Old Vine Zinfandel 2016  United States   Sonoma County   \n8335         Grande Cuvée 2017        Austria      Burgenland   \n8348         Grande Cuvée 2017        Austria      Burgenland   \n12702      Mâcon-Villages 2018         France  Mâcon-Villages   \n12703      Mâcon-Villages 2018         France  Mâcon-Villages   \n\n                   Winery  Rating  NumberOfRatings  Price  Year   Type  \\\n1801           Ravenswood     3.8             1711  15.49  2016    Red   \n2574     Louis M. Martini     4.1             2216  30.43  2016    Red   \n3552     Louis M. Martini     3.8             2882  17.79  2016    Red   \n5890           Ravenswood     4.0               49  25.99  2016    Red   \n8335   Salzl Seewinkelhof     3.9               91  14.35  2017    Red   \n8348   Salzl Seewinkelhof     3.9               91  17.29  2017    Red   \n12702      Joseph Drouhin     3.8              731  11.40  2018  White   \n12703      Joseph Drouhin     3.8              731  13.60  2018  White   \n\n                                    Name+Winery  \n1801         Old Vine Zinfandel 2016 Ravenswood  \n2574   Cabernet Sauvignon 2016 Louis M. Martini  \n3552   Cabernet Sauvignon 2016 Louis M. Martini  \n5890         Old Vine Zinfandel 2016 Ravenswood  \n8335       Grande Cuvée 2017 Salzl Seewinkelhof  \n8348       Grande Cuvée 2017 Salzl Seewinkelhof  \n12702        Mâcon-Villages 2018 Joseph Drouhin  \n12703        Mâcon-Villages 2018 Joseph Drouhin  ",
      "text/html": "<div>\n<style scoped>\n    .dataframe tbody tr th:only-of-type {\n        vertical-align: middle;\n    }\n\n    .dataframe tbody tr th {\n        vertical-align: top;\n    }\n\n    .dataframe thead th {\n        text-align: right;\n    }\n</style>\n<table border=\"1\" class=\"dataframe\">\n  <thead>\n    <tr style=\"text-align: right;\">\n      <th></th>\n      <th>Name</th>\n      <th>Country</th>\n      <th>Region</th>\n      <th>Winery</th>\n      <th>Rating</th>\n      <th>NumberOfRatings</th>\n      <th>Price</th>\n      <th>Year</th>\n      <th>Type</th>\n      <th>Name+Winery</th>\n    </tr>\n  </thead>\n  <tbody>\n    <tr>\n      <th>1801</th>\n      <td>Old Vine Zinfandel 2016</td>\n      <td>United States</td>\n      <td>Lodi</td>\n      <td>Ravenswood</td>\n      <td>3.8</td>\n      <td>1711</td>\n      <td>15.49</td>\n      <td>2016</td>\n      <td>Red</td>\n      <td>Old Vine Zinfandel 2016 Ravenswood</td>\n    </tr>\n    <tr>\n      <th>2574</th>\n      <td>Cabernet Sauvignon 2016</td>\n      <td>United States</td>\n      <td>Napa Valley</td>\n      <td>Louis M. Martini</td>\n      <td>4.1</td>\n      <td>2216</td>\n      <td>30.43</td>\n      <td>2016</td>\n      <td>Red</td>\n      <td>Cabernet Sauvignon 2016 Louis M. Martini</td>\n    </tr>\n    <tr>\n      <th>3552</th>\n      <td>Cabernet Sauvignon 2016</td>\n      <td>United States</td>\n      <td>Sonoma County</td>\n      <td>Louis M. Martini</td>\n      <td>3.8</td>\n      <td>2882</td>\n      <td>17.79</td>\n      <td>2016</td>\n      <td>Red</td>\n      <td>Cabernet Sauvignon 2016 Louis M. Martini</td>\n    </tr>\n    <tr>\n      <th>5890</th>\n      <td>Old Vine Zinfandel 2016</td>\n      <td>United States</td>\n      <td>Sonoma County</td>\n      <td>Ravenswood</td>\n      <td>4.0</td>\n      <td>49</td>\n      <td>25.99</td>\n      <td>2016</td>\n      <td>Red</td>\n      <td>Old Vine Zinfandel 2016 Ravenswood</td>\n    </tr>\n    <tr>\n      <th>8335</th>\n      <td>Grande Cuvée 2017</td>\n      <td>Austria</td>\n      <td>Burgenland</td>\n      <td>Salzl Seewinkelhof</td>\n      <td>3.9</td>\n      <td>91</td>\n      <td>14.35</td>\n      <td>2017</td>\n      <td>Red</td>\n      <td>Grande Cuvée 2017 Salzl Seewinkelhof</td>\n    </tr>\n    <tr>\n      <th>8348</th>\n      <td>Grande Cuvée 2017</td>\n      <td>Austria</td>\n      <td>Burgenland</td>\n      <td>Salzl Seewinkelhof</td>\n      <td>3.9</td>\n      <td>91</td>\n      <td>17.29</td>\n      <td>2017</td>\n      <td>Red</td>\n      <td>Grande Cuvée 2017 Salzl Seewinkelhof</td>\n    </tr>\n    <tr>\n      <th>12702</th>\n      <td>Mâcon-Villages 2018</td>\n      <td>France</td>\n      <td>Mâcon-Villages</td>\n      <td>Joseph Drouhin</td>\n      <td>3.8</td>\n      <td>731</td>\n      <td>11.40</td>\n      <td>2018</td>\n      <td>White</td>\n      <td>Mâcon-Villages 2018 Joseph Drouhin</td>\n    </tr>\n    <tr>\n      <th>12703</th>\n      <td>Mâcon-Villages 2018</td>\n      <td>France</td>\n      <td>Mâcon-Villages</td>\n      <td>Joseph Drouhin</td>\n      <td>3.8</td>\n      <td>731</td>\n      <td>13.60</td>\n      <td>2018</td>\n      <td>White</td>\n      <td>Mâcon-Villages 2018 Joseph Drouhin</td>\n    </tr>\n  </tbody>\n</table>\n</div>"
     },
     "metadata": {}
    }
   ]
  },
  {
   "cell_type": "markdown",
   "source": "Observing the dataframe above, we realised that there are also wines with the same name and winery, but are from different regions - namely, Old Vine Zinfandel 2016. Hence, they are not duplicates. ",
   "metadata": {
    "tags": [],
    "is_collapsed": false,
    "cell_id": "00028-814651b5-931e-42ea-89e7-174b8440161a",
    "deepnote_cell_type": "text-cell-p"
   }
  },
  {
   "cell_type": "markdown",
   "source": "However, there is duplicate data for Grande Cuvée 2017 and Mâcon-Villages 2018 (same name, region and winery). We have decided to drop the rows containing a lower price.",
   "metadata": {
    "tags": [],
    "is_collapsed": false,
    "cell_id": "00029-aea140e2-9caa-4ba6-b7c5-bc92fa4a334e",
    "deepnote_cell_type": "text-cell-p"
   }
  },
  {
   "cell_type": "code",
   "metadata": {
    "tags": [],
    "deepnote_to_be_reexecuted": false,
    "source_hash": "b95ed588",
    "execution_start": 1650608209867,
    "execution_millis": 68,
    "deepnote_table_state": {
     "pageSize": 50,
     "pageIndex": 0,
     "filters": [],
     "sortBy": []
    },
    "deepnote_table_loading": false,
    "cell_id": "00030-e8cffae1-d187-480f-af16-5a96b04183fe",
    "deepnote_cell_type": "code",
    "deepnote_cell_height": 389
   },
   "source": "wine = wine.drop([8335, 12702])\nwine.loc[wine['Name+Winery'].isin(wine['Name+Winery'].value_counts().loc[lambda x: x>1].index.values)]",
   "execution_count": null,
   "outputs": [
    {
     "output_type": "execute_result",
     "execution_count": 12,
     "data": {
      "application/vnd.deepnote.dataframe.v3+json": {
       "column_count": 10,
       "row_count": 4,
       "columns": [
        {
         "name": "Name",
         "dtype": "object",
         "stats": {
          "unique_count": 2,
          "nan_count": 0,
          "categories": [
           {
            "name": "Old Vine Zinfandel 2016",
            "count": 2
           },
           {
            "name": "Cabernet Sauvignon 2016",
            "count": 2
           }
          ]
         }
        },
        {
         "name": "Country",
         "dtype": "object",
         "stats": {
          "unique_count": 1,
          "nan_count": 0,
          "categories": [
           {
            "name": "United States",
            "count": 4
           }
          ]
         }
        },
        {
         "name": "Region",
         "dtype": "object",
         "stats": {
          "unique_count": 3,
          "nan_count": 0,
          "categories": [
           {
            "name": "Sonoma County",
            "count": 2
           },
           {
            "name": "Lodi",
            "count": 1
           },
           {
            "name": "Napa Valley",
            "count": 1
           }
          ]
         }
        },
        {
         "name": "Winery",
         "dtype": "object",
         "stats": {
          "unique_count": 2,
          "nan_count": 0,
          "categories": [
           {
            "name": "Ravenswood",
            "count": 2
           },
           {
            "name": "Louis M. Martini",
            "count": 2
           }
          ]
         }
        },
        {
         "name": "Rating",
         "dtype": "float64",
         "stats": {
          "unique_count": 3,
          "nan_count": 0,
          "min": "3.8",
          "max": "4.1",
          "histogram": [
           {
            "bin_start": 3.8,
            "bin_end": 3.8299999999999996,
            "count": 2
           },
           {
            "bin_start": 3.8299999999999996,
            "bin_end": 3.86,
            "count": 0
           },
           {
            "bin_start": 3.86,
            "bin_end": 3.8899999999999997,
            "count": 0
           },
           {
            "bin_start": 3.8899999999999997,
            "bin_end": 3.92,
            "count": 0
           },
           {
            "bin_start": 3.92,
            "bin_end": 3.9499999999999997,
            "count": 0
           },
           {
            "bin_start": 3.9499999999999997,
            "bin_end": 3.9799999999999995,
            "count": 0
           },
           {
            "bin_start": 3.9799999999999995,
            "bin_end": 4.01,
            "count": 1
           },
           {
            "bin_start": 4.01,
            "bin_end": 4.04,
            "count": 0
           },
           {
            "bin_start": 4.04,
            "bin_end": 4.069999999999999,
            "count": 0
           },
           {
            "bin_start": 4.069999999999999,
            "bin_end": 4.1,
            "count": 1
           }
          ]
         }
        },
        {
         "name": "NumberOfRatings",
         "dtype": "int64",
         "stats": {
          "unique_count": 4,
          "nan_count": 0,
          "min": "49",
          "max": "2882",
          "histogram": [
           {
            "bin_start": 49,
            "bin_end": 332.3,
            "count": 1
           },
           {
            "bin_start": 332.3,
            "bin_end": 615.6,
            "count": 0
           },
           {
            "bin_start": 615.6,
            "bin_end": 898.9000000000001,
            "count": 0
           },
           {
            "bin_start": 898.9000000000001,
            "bin_end": 1182.2,
            "count": 0
           },
           {
            "bin_start": 1182.2,
            "bin_end": 1465.5,
            "count": 0
           },
           {
            "bin_start": 1465.5,
            "bin_end": 1748.8000000000002,
            "count": 1
           },
           {
            "bin_start": 1748.8000000000002,
            "bin_end": 2032.1000000000001,
            "count": 0
           },
           {
            "bin_start": 2032.1000000000001,
            "bin_end": 2315.4,
            "count": 1
           },
           {
            "bin_start": 2315.4,
            "bin_end": 2598.7000000000003,
            "count": 0
           },
           {
            "bin_start": 2598.7000000000003,
            "bin_end": 2882,
            "count": 1
           }
          ]
         }
        },
        {
         "name": "Price",
         "dtype": "float64",
         "stats": {
          "unique_count": 4,
          "nan_count": 0,
          "min": "15.49",
          "max": "30.43",
          "histogram": [
           {
            "bin_start": 15.49,
            "bin_end": 16.984,
            "count": 1
           },
           {
            "bin_start": 16.984,
            "bin_end": 18.478,
            "count": 1
           },
           {
            "bin_start": 18.478,
            "bin_end": 19.972,
            "count": 0
           },
           {
            "bin_start": 19.972,
            "bin_end": 21.466,
            "count": 0
           },
           {
            "bin_start": 21.466,
            "bin_end": 22.96,
            "count": 0
           },
           {
            "bin_start": 22.96,
            "bin_end": 24.454,
            "count": 0
           },
           {
            "bin_start": 24.454,
            "bin_end": 25.948,
            "count": 0
           },
           {
            "bin_start": 25.948,
            "bin_end": 27.442,
            "count": 1
           },
           {
            "bin_start": 27.442,
            "bin_end": 28.936,
            "count": 0
           },
           {
            "bin_start": 28.936,
            "bin_end": 30.43,
            "count": 1
           }
          ]
         }
        },
        {
         "name": "Year",
         "dtype": "object",
         "stats": {
          "unique_count": 1,
          "nan_count": 0,
          "categories": [
           {
            "name": "2016",
            "count": 4
           }
          ]
         }
        },
        {
         "name": "Type",
         "dtype": "object",
         "stats": {
          "unique_count": 1,
          "nan_count": 0,
          "categories": [
           {
            "name": "Red",
            "count": 4
           }
          ]
         }
        },
        {
         "name": "Name+Winery",
         "dtype": "object",
         "stats": {
          "unique_count": 2,
          "nan_count": 0,
          "categories": [
           {
            "name": "Old Vine Zinfandel 2016 Ravenswood",
            "count": 2
           },
           {
            "name": "Cabernet Sauvignon 2016 Louis M. Martini",
            "count": 2
           }
          ]
         }
        },
        {
         "name": "_deepnote_index_column",
         "dtype": "int64"
        }
       ],
       "rows": [
        {
         "Name": "Old Vine Zinfandel 2016",
         "Country": "United States",
         "Region": "Lodi",
         "Winery": "Ravenswood",
         "Rating": 3.8,
         "NumberOfRatings": 1711,
         "Price": 15.49,
         "Year": "2016",
         "Type": "Red",
         "Name+Winery": "Old Vine Zinfandel 2016 Ravenswood",
         "_deepnote_index_column": 1801
        },
        {
         "Name": "Cabernet Sauvignon 2016",
         "Country": "United States",
         "Region": "Napa Valley",
         "Winery": "Louis M. Martini",
         "Rating": 4.1,
         "NumberOfRatings": 2216,
         "Price": 30.43,
         "Year": "2016",
         "Type": "Red",
         "Name+Winery": "Cabernet Sauvignon 2016 Louis M. Martini",
         "_deepnote_index_column": 2574
        },
        {
         "Name": "Cabernet Sauvignon 2016",
         "Country": "United States",
         "Region": "Sonoma County",
         "Winery": "Louis M. Martini",
         "Rating": 3.8,
         "NumberOfRatings": 2882,
         "Price": 17.79,
         "Year": "2016",
         "Type": "Red",
         "Name+Winery": "Cabernet Sauvignon 2016 Louis M. Martini",
         "_deepnote_index_column": 3552
        },
        {
         "Name": "Old Vine Zinfandel 2016",
         "Country": "United States",
         "Region": "Sonoma County",
         "Winery": "Ravenswood",
         "Rating": 4,
         "NumberOfRatings": 49,
         "Price": 25.99,
         "Year": "2016",
         "Type": "Red",
         "Name+Winery": "Old Vine Zinfandel 2016 Ravenswood",
         "_deepnote_index_column": 5890
        }
       ]
      },
      "text/plain": "                         Name        Country         Region            Winery  \\\n1801  Old Vine Zinfandel 2016  United States           Lodi        Ravenswood   \n2574  Cabernet Sauvignon 2016  United States    Napa Valley  Louis M. Martini   \n3552  Cabernet Sauvignon 2016  United States  Sonoma County  Louis M. Martini   \n5890  Old Vine Zinfandel 2016  United States  Sonoma County        Ravenswood   \n\n      Rating  NumberOfRatings  Price  Year Type  \\\n1801     3.8             1711  15.49  2016  Red   \n2574     4.1             2216  30.43  2016  Red   \n3552     3.8             2882  17.79  2016  Red   \n5890     4.0               49  25.99  2016  Red   \n\n                                   Name+Winery  \n1801        Old Vine Zinfandel 2016 Ravenswood  \n2574  Cabernet Sauvignon 2016 Louis M. Martini  \n3552  Cabernet Sauvignon 2016 Louis M. Martini  \n5890        Old Vine Zinfandel 2016 Ravenswood  ",
      "text/html": "<div>\n<style scoped>\n    .dataframe tbody tr th:only-of-type {\n        vertical-align: middle;\n    }\n\n    .dataframe tbody tr th {\n        vertical-align: top;\n    }\n\n    .dataframe thead th {\n        text-align: right;\n    }\n</style>\n<table border=\"1\" class=\"dataframe\">\n  <thead>\n    <tr style=\"text-align: right;\">\n      <th></th>\n      <th>Name</th>\n      <th>Country</th>\n      <th>Region</th>\n      <th>Winery</th>\n      <th>Rating</th>\n      <th>NumberOfRatings</th>\n      <th>Price</th>\n      <th>Year</th>\n      <th>Type</th>\n      <th>Name+Winery</th>\n    </tr>\n  </thead>\n  <tbody>\n    <tr>\n      <th>1801</th>\n      <td>Old Vine Zinfandel 2016</td>\n      <td>United States</td>\n      <td>Lodi</td>\n      <td>Ravenswood</td>\n      <td>3.8</td>\n      <td>1711</td>\n      <td>15.49</td>\n      <td>2016</td>\n      <td>Red</td>\n      <td>Old Vine Zinfandel 2016 Ravenswood</td>\n    </tr>\n    <tr>\n      <th>2574</th>\n      <td>Cabernet Sauvignon 2016</td>\n      <td>United States</td>\n      <td>Napa Valley</td>\n      <td>Louis M. Martini</td>\n      <td>4.1</td>\n      <td>2216</td>\n      <td>30.43</td>\n      <td>2016</td>\n      <td>Red</td>\n      <td>Cabernet Sauvignon 2016 Louis M. Martini</td>\n    </tr>\n    <tr>\n      <th>3552</th>\n      <td>Cabernet Sauvignon 2016</td>\n      <td>United States</td>\n      <td>Sonoma County</td>\n      <td>Louis M. Martini</td>\n      <td>3.8</td>\n      <td>2882</td>\n      <td>17.79</td>\n      <td>2016</td>\n      <td>Red</td>\n      <td>Cabernet Sauvignon 2016 Louis M. Martini</td>\n    </tr>\n    <tr>\n      <th>5890</th>\n      <td>Old Vine Zinfandel 2016</td>\n      <td>United States</td>\n      <td>Sonoma County</td>\n      <td>Ravenswood</td>\n      <td>4.0</td>\n      <td>49</td>\n      <td>25.99</td>\n      <td>2016</td>\n      <td>Red</td>\n      <td>Old Vine Zinfandel 2016 Ravenswood</td>\n    </tr>\n  </tbody>\n</table>\n</div>"
     },
     "metadata": {}
    }
   ]
  },
  {
   "cell_type": "markdown",
   "source": "#### Checking for NULL Values",
   "metadata": {
    "tags": [],
    "cell_id": "00031-59596421-ffb1-4368-a475-40c08d6e785b",
    "deepnote_cell_type": "markdown",
    "deepnote_cell_height": 54
   }
  },
  {
   "cell_type": "code",
   "metadata": {
    "tags": [],
    "deepnote_to_be_reexecuted": false,
    "source_hash": "3c4dbd2f",
    "execution_start": 1650609500311,
    "execution_millis": 0,
    "cell_id": "00032-5a12b2e6-98b9-4f19-98da-262e80863099",
    "deepnote_cell_type": "code",
    "deepnote_cell_height": 118,
    "deepnote_output_heights": [
     21
    ]
   },
   "source": "wine.isnull().sum().sum()",
   "execution_count": null,
   "outputs": [
    {
     "output_type": "execute_result",
     "execution_count": 59,
     "data": {
      "text/plain": "0"
     },
     "metadata": {}
    }
   ]
  },
  {
   "cell_type": "markdown",
   "source": "As there are no NULL values in the dataset, removal will not be necessary.",
   "metadata": {
    "tags": [],
    "cell_id": "00033-681547a6-502f-43c2-92c8-21044f800739",
    "deepnote_cell_type": "markdown",
    "deepnote_cell_height": 52.399993896484375
   }
  },
  {
   "cell_type": "markdown",
   "source": "## Exploratory Data Analysis",
   "metadata": {
    "tags": [],
    "cell_id": "00034-316dffb0-e85b-4886-a4dc-f800fde87fb1",
    "deepnote_cell_type": "markdown",
    "deepnote_cell_height": 70
   }
  },
  {
   "cell_type": "markdown",
   "source": "### General Data Analysis",
   "metadata": {
    "tags": [],
    "is_collapsed": false,
    "cell_id": "00035-dcbe9971-07c5-482d-8b30-3cdcfa539278",
    "deepnote_cell_type": "text-cell-h3"
   }
  },
  {
   "cell_type": "code",
   "metadata": {
    "tags": [],
    "deepnote_to_be_reexecuted": false,
    "source_hash": "d987c3c6",
    "execution_start": 1650608210033,
    "execution_millis": 41,
    "cell_id": "00036-d7e9ca98-bad5-4f41-b606-7fe57bec6740",
    "deepnote_cell_type": "code",
    "deepnote_cell_height": 518
   },
   "source": "wine.describe()",
   "execution_count": null,
   "outputs": [
    {
     "output_type": "execute_result",
     "execution_count": 14,
     "data": {
      "application/vnd.deepnote.dataframe.v3+json": {
       "column_count": 3,
       "row_count": 8,
       "columns": [
        {
         "name": "Rating",
         "dtype": "float64",
         "stats": {
          "unique_count": 8,
          "nan_count": 0,
          "min": "0.29644765608609003",
          "max": "13832.0",
          "histogram": [
           {
            "bin_start": 0.29644765608609003,
            "bin_end": 1383.4668028904773,
            "count": 7
           },
           {
            "bin_start": 1383.4668028904773,
            "bin_end": 2766.6371581248686,
            "count": 0
           },
           {
            "bin_start": 2766.6371581248686,
            "bin_end": 4149.80751335926,
            "count": 0
           },
           {
            "bin_start": 4149.80751335926,
            "bin_end": 5532.977868593652,
            "count": 0
           },
           {
            "bin_start": 5532.977868593652,
            "bin_end": 6916.148223828043,
            "count": 0
           },
           {
            "bin_start": 6916.148223828043,
            "bin_end": 8299.318579062434,
            "count": 0
           },
           {
            "bin_start": 8299.318579062434,
            "bin_end": 9682.488934296825,
            "count": 0
           },
           {
            "bin_start": 9682.488934296825,
            "bin_end": 11065.659289531217,
            "count": 0
           },
           {
            "bin_start": 11065.659289531217,
            "bin_end": 12448.829644765608,
            "count": 0
           },
           {
            "bin_start": 12448.829644765608,
            "bin_end": 13832,
            "count": 1
           }
          ]
         }
        },
        {
         "name": "NumberOfRatings",
         "dtype": "float64",
         "stats": {
          "unique_count": 8,
          "nan_count": 0,
          "min": "25.0",
          "max": "94287.0",
          "histogram": [
           {
            "bin_start": 25,
            "bin_end": 9451.2,
            "count": 6
           },
           {
            "bin_start": 9451.2,
            "bin_end": 18877.4,
            "count": 1
           },
           {
            "bin_start": 18877.4,
            "bin_end": 28303.600000000002,
            "count": 0
           },
           {
            "bin_start": 28303.600000000002,
            "bin_end": 37729.8,
            "count": 0
           },
           {
            "bin_start": 37729.8,
            "bin_end": 47156,
            "count": 0
           },
           {
            "bin_start": 47156,
            "bin_end": 56582.200000000004,
            "count": 0
           },
           {
            "bin_start": 56582.200000000004,
            "bin_end": 66008.40000000001,
            "count": 0
           },
           {
            "bin_start": 66008.40000000001,
            "bin_end": 75434.6,
            "count": 0
           },
           {
            "bin_start": 75434.6,
            "bin_end": 84860.8,
            "count": 0
           },
           {
            "bin_start": 84860.8,
            "bin_end": 94287,
            "count": 1
           }
          ]
         }
        },
        {
         "name": "Price",
         "dtype": "float64",
         "stats": {
          "unique_count": 8,
          "nan_count": 0,
          "min": "3.15",
          "max": "13832.0",
          "histogram": [
           {
            "bin_start": 3.15,
            "bin_end": 1386.035,
            "count": 6
           },
           {
            "bin_start": 1386.035,
            "bin_end": 2768.92,
            "count": 0
           },
           {
            "bin_start": 2768.92,
            "bin_end": 4151.804999999999,
            "count": 1
           },
           {
            "bin_start": 4151.804999999999,
            "bin_end": 5534.69,
            "count": 0
           },
           {
            "bin_start": 5534.69,
            "bin_end": 6917.575,
            "count": 0
           },
           {
            "bin_start": 6917.575,
            "bin_end": 8300.46,
            "count": 0
           },
           {
            "bin_start": 8300.46,
            "bin_end": 9683.345,
            "count": 0
           },
           {
            "bin_start": 9683.345,
            "bin_end": 11066.23,
            "count": 0
           },
           {
            "bin_start": 11066.23,
            "bin_end": 12449.115,
            "count": 0
           },
           {
            "bin_start": 12449.115,
            "bin_end": 13832,
            "count": 1
           }
          ]
         }
        },
        {
         "name": "_deepnote_index_column",
         "dtype": "object"
        }
       ],
       "rows": [
        {
         "Rating": 13832,
         "NumberOfRatings": 13832,
         "Price": 13832,
         "_deepnote_index_column": "count"
        },
        {
         "Rating": 3.865666570271833,
         "NumberOfRatings": 428.32497108155,
         "Price": 33.027763880855986,
         "_deepnote_index_column": "mean"
        },
        {
         "Rating": 0.29644765608609003,
         "NumberOfRatings": 1838.542688458443,
         "Price": 70.90460225271543,
         "_deepnote_index_column": "std"
        },
        {
         "Rating": 2.2,
         "NumberOfRatings": 25,
         "Price": 3.15,
         "_deepnote_index_column": "min"
        },
        {
         "Rating": 3.7,
         "NumberOfRatings": 56,
         "Price": 9.9,
         "_deepnote_index_column": "25%"
        },
        {
         "Rating": 3.9,
         "NumberOfRatings": 129,
         "Price": 15.95,
         "_deepnote_index_column": "50%"
        },
        {
         "Rating": 4.1,
         "NumberOfRatings": 336,
         "Price": 32.5,
         "_deepnote_index_column": "75%"
        },
        {
         "Rating": 4.9,
         "NumberOfRatings": 94287,
         "Price": 3410.79,
         "_deepnote_index_column": "max"
        }
       ]
      },
      "text/plain": "             Rating  NumberOfRatings         Price\ncount  13832.000000     13832.000000  13832.000000\nmean       3.865667       428.324971     33.027764\nstd        0.296448      1838.542688     70.904602\nmin        2.200000        25.000000      3.150000\n25%        3.700000        56.000000      9.900000\n50%        3.900000       129.000000     15.950000\n75%        4.100000       336.000000     32.500000\nmax        4.900000     94287.000000   3410.790000",
      "text/html": "<div>\n<style scoped>\n    .dataframe tbody tr th:only-of-type {\n        vertical-align: middle;\n    }\n\n    .dataframe tbody tr th {\n        vertical-align: top;\n    }\n\n    .dataframe thead th {\n        text-align: right;\n    }\n</style>\n<table border=\"1\" class=\"dataframe\">\n  <thead>\n    <tr style=\"text-align: right;\">\n      <th></th>\n      <th>Rating</th>\n      <th>NumberOfRatings</th>\n      <th>Price</th>\n    </tr>\n  </thead>\n  <tbody>\n    <tr>\n      <th>count</th>\n      <td>13832.000000</td>\n      <td>13832.000000</td>\n      <td>13832.000000</td>\n    </tr>\n    <tr>\n      <th>mean</th>\n      <td>3.865667</td>\n      <td>428.324971</td>\n      <td>33.027764</td>\n    </tr>\n    <tr>\n      <th>std</th>\n      <td>0.296448</td>\n      <td>1838.542688</td>\n      <td>70.904602</td>\n    </tr>\n    <tr>\n      <th>min</th>\n      <td>2.200000</td>\n      <td>25.000000</td>\n      <td>3.150000</td>\n    </tr>\n    <tr>\n      <th>25%</th>\n      <td>3.700000</td>\n      <td>56.000000</td>\n      <td>9.900000</td>\n    </tr>\n    <tr>\n      <th>50%</th>\n      <td>3.900000</td>\n      <td>129.000000</td>\n      <td>15.950000</td>\n    </tr>\n    <tr>\n      <th>75%</th>\n      <td>4.100000</td>\n      <td>336.000000</td>\n      <td>32.500000</td>\n    </tr>\n    <tr>\n      <th>max</th>\n      <td>4.900000</td>\n      <td>94287.000000</td>\n      <td>3410.790000</td>\n    </tr>\n  </tbody>\n</table>\n</div>"
     },
     "metadata": {}
    }
   ]
  },
  {
   "cell_type": "code",
   "metadata": {
    "tags": [],
    "deepnote_to_be_reexecuted": false,
    "source_hash": "9f986458",
    "execution_start": 1650608210076,
    "execution_millis": 2057331439,
    "cell_id": "00037-23727202-de7d-4dfe-8672-bfcc33b85145",
    "deepnote_cell_type": "code",
    "deepnote_cell_height": 310,
    "deepnote_output_heights": [
     213
    ]
   },
   "source": "wine.dtypes",
   "execution_count": null,
   "outputs": [
    {
     "output_type": "execute_result",
     "execution_count": 15,
     "data": {
      "text/plain": "Name                object\nCountry             object\nRegion              object\nWinery              object\nRating             float64\nNumberOfRatings      int64\nPrice              float64\nYear                object\nType                object\nName+Winery         object\ndtype: object"
     },
     "metadata": {}
    }
   ]
  },
  {
   "cell_type": "code",
   "metadata": {
    "tags": [],
    "deepnote_to_be_reexecuted": false,
    "source_hash": "3d6fc740",
    "execution_start": 1650699970197,
    "execution_millis": 29,
    "cell_id": "00038-0a04e900-3aa3-4366-ac46-57a0c61b39d3",
    "deepnote_cell_type": "code",
    "deepnote_cell_height": 226.8000030517578
   },
   "source": "print(\"Unique Values for Country: \", wine['Country'].nunique())\nprint(\"Unique Values for Region: \", wine['Region'].nunique())\nprint(\"Unique Values for Winery: \", wine['Winery'].nunique())\nprint(\"Unique Values for Name: \", wine['Name'].nunique())",
   "execution_count": null,
   "outputs": [
    {
     "name": "stdout",
     "text": "Unique Values for Country:  33\nUnique Values for Region:  861\nUnique Values for Winery:  3505\nUnique Values for Name:  10934\n",
     "output_type": "stream"
    }
   ]
  },
  {
   "cell_type": "markdown",
   "source": "We have decided to predict 'Price' based on the variables: 'Year', 'Rating', 'Country'.",
   "metadata": {
    "tags": [],
    "is_collapsed": false,
    "cell_id": "00039-d84c3339-2d27-4d34-bb64-4b481e087c18",
    "deepnote_cell_type": "text-cell-p"
   }
  },
  {
   "cell_type": "markdown",
   "source": "The dataset consists of both numerical and categorical variables. For the 'Name', 'Winery', and 'Region', there are a large number of unique values that will make it difficult to analyse. Hence, we have chosen to use two numerical variables, and 'Country', which has the least number of unique values.",
   "metadata": {
    "tags": [],
    "cell_id": "00040-5f0b4681-6bdc-4865-a85b-2a7258750975",
    "deepnote_cell_type": "markdown",
    "deepnote_cell_height": 97.19999694824219
   }
  },
  {
   "cell_type": "markdown",
   "source": "### Analysis of 'Price' - Response",
   "metadata": {
    "tags": [],
    "is_collapsed": false,
    "cell_id": "00041-0d5fee14-1919-470e-90da-6121bfcfaa6a",
    "deepnote_cell_type": "text-cell-h3"
   }
  },
  {
   "cell_type": "markdown",
   "source": "#### Histogram of 'Price'",
   "metadata": {
    "tags": [],
    "cell_id": "00042-fa2d75c9-4a1c-41ab-9b23-3fe3a8bceb03",
    "deepnote_cell_type": "markdown",
    "deepnote_cell_height": 54
   }
  },
  {
   "cell_type": "code",
   "metadata": {
    "tags": [],
    "deepnote_to_be_reexecuted": false,
    "source_hash": "f9031d43",
    "execution_start": 1650608210174,
    "execution_millis": 5369,
    "cell_id": "00043-59a94896-ae34-4cfc-99f3-9e3a59391896",
    "deepnote_cell_type": "code",
    "deepnote_cell_height": 606,
    "deepnote_output_heights": [
     21,
     439
    ]
   },
   "source": "f = plt.figure(figsize=(16,8))\nsb.histplot(data = wine['Price'], kde = True)",
   "execution_count": null,
   "outputs": [
    {
     "output_type": "execute_result",
     "execution_count": 17,
     "data": {
      "text/plain": "<AxesSubplot:xlabel='Price', ylabel='Count'>"
     },
     "metadata": {}
    },
    {
     "data": {
      "text/plain": "<Figure size 1152x576 with 1 Axes>",
      "image/png": "[encoded data removed]"
     },
     "metadata": {
      "image/png": {
       "width": 961,
       "height": 485
      }
     },
     "output_type": "display_data"
    }
   ]
  },
  {
   "cell_type": "markdown",
   "source": "#### Violin Plot of 'Price'",
   "metadata": {
    "tags": [],
    "cell_id": "00044-fa95d7d4-854b-446e-8fbb-6f7c01cc97ee",
    "deepnote_cell_type": "markdown",
    "deepnote_cell_height": 54
   }
  },
  {
   "cell_type": "code",
   "metadata": {
    "tags": [],
    "deepnote_to_be_reexecuted": false,
    "source_hash": "51595014",
    "execution_start": 1650608215592,
    "execution_millis": 400,
    "cell_id": "00045-37f657a5-301e-432c-9270-3c667c9da6b8",
    "deepnote_cell_type": "code",
    "deepnote_cell_height": 608,
    "deepnote_output_heights": [
     21,
     441
    ]
   },
   "source": "f = plt.figure(figsize=(16,8))\nsb.violinplot(data = wine['Price'], orient = \"h\")",
   "execution_count": null,
   "outputs": [
    {
     "output_type": "execute_result",
     "execution_count": 18,
     "data": {
      "text/plain": "<AxesSubplot:>"
     },
     "metadata": {}
    },
    {
     "data": {
      "text/plain": "<Figure size 1152x576 with 1 Axes>",
      "image/png": "[encoded data removed]"
     },
     "metadata": {
      "image/png": {
       "width": 923,
       "height": 468
      }
     },
     "output_type": "display_data"
    }
   ]
  },
  {
   "cell_type": "markdown",
   "source": "The range of data for 'Price' has a very wide range, from 3.15 to 3410.79. However, the data is mostly concentrated around the lower range, with a median of only 15.95.",
   "metadata": {
    "tags": [],
    "is_collapsed": false,
    "cell_id": "00046-ed6973ac-7b6f-4cd5-9ecd-2b1221ac476c",
    "deepnote_cell_type": "text-cell-p"
   }
  },
  {
   "cell_type": "code",
   "metadata": {
    "tags": [],
    "deepnote_to_be_reexecuted": false,
    "source_hash": "bb9239d2",
    "execution_start": 1650608216036,
    "execution_millis": 3,
    "cell_id": "00047-eb579f55-af2d-4b75-8b1d-a1123bee2ad4",
    "deepnote_cell_type": "code",
    "deepnote_cell_height": 240.39999389648438
   },
   "source": "Q1price = wine['Price'].quantile(0.25)\nQ3price = wine['Price'].quantile(0.75)\nIQRprice = Q3price - Q1price\nnum_price_outliers = ((wine['Price'] < Q1price-1.5*IQRprice) | (wine['Price'] > Q3price+1.5*IQRprice)).sum()\n\nprint(\"Number of price outliers: \" + str(num_price_outliers))\nprint(f\"Percentage of price as outliers(%): {num_price_outliers/wine.shape[0]*100:0.2f}\")",
   "execution_count": null,
   "outputs": [
    {
     "name": "stdout",
     "text": "Number of price outliers: 1313\nPercentage of price as outliers(%): 9.49\n",
     "output_type": "stream"
    }
   ]
  },
  {
   "cell_type": "markdown",
   "source": "We have chosen not to remove outliers for Price, as they represent natural variations in the data rather than data that is poorly processed, wrongfully measured or sampling errors. ",
   "metadata": {
    "tags": [],
    "cell_id": "00048-885b1cff-20f5-4bf6-adb3-6b3842bff046",
    "deepnote_cell_type": "markdown",
    "deepnote_cell_height": 74.80000305175781
   }
  },
  {
   "cell_type": "markdown",
   "source": "### Analysis of 'Year'",
   "metadata": {
    "tags": [],
    "is_collapsed": false,
    "cell_id": "00049-8d19c162-27dd-46b3-815c-bc1ed82e9f8a",
    "deepnote_cell_type": "text-cell-h3"
   }
  },
  {
   "cell_type": "code",
   "metadata": {
    "tags": [],
    "deepnote_to_be_reexecuted": false,
    "source_hash": "632ed32c",
    "execution_start": 1650608216037,
    "execution_millis": 2,
    "cell_id": "00050-90d02c80-e9dc-4c11-9d14-bdfa23ce7fe8",
    "deepnote_cell_type": "code",
    "deepnote_cell_height": 195,
    "deepnote_output_heights": [
     98
    ]
   },
   "source": "wine['Year'].unique()",
   "execution_count": null,
   "outputs": [
    {
     "output_type": "execute_result",
     "execution_count": 20,
     "data": {
      "text/plain": "array(['2011', '2017', '2015', '2019', '2016', '2014', '2013', '2018',\n       '2012', '2010', '2007', '2005', '1999', '2002', '2008', '2006',\n       '2009', 'N.V.', '2000', '2004', '2001', '1996', '1998', '1990',\n       '1995', '2003', '1993', '1988', '1989', '1997', '1992', '1991',\n       '2020', '1961'], dtype=object)"
     },
     "metadata": {}
    }
   ]
  },
  {
   "cell_type": "markdown",
   "source": "#### Explanation of value 'N.V.'\n\nN.V is non vintage wine, which is made by blending grapes from different years together, hence it has no single date attributed to it. We have replaced all values of 'N.V.' with '2023'.",
   "metadata": {
    "tags": [],
    "cell_id": "00051-eadee5f6-d794-441f-a3ce-2c95ec3badbf",
    "deepnote_cell_type": "markdown",
    "deepnote_cell_height": 110.80000305175781
   }
  },
  {
   "cell_type": "code",
   "metadata": {
    "tags": [],
    "deepnote_to_be_reexecuted": false,
    "source_hash": "a9ada48f",
    "execution_start": 1650608216037,
    "execution_millis": 0,
    "output_cleared": true,
    "cell_id": "00052-7d78bd0d-8669-4867-886e-5fd3bbf566df",
    "deepnote_cell_type": "code",
    "deepnote_cell_height": 81
   },
   "source": "wine['Year'] = wine['Year'].replace('N.V.', '2023')",
   "execution_count": null,
   "outputs": []
  },
  {
   "cell_type": "code",
   "metadata": {
    "tags": [],
    "deepnote_to_be_reexecuted": false,
    "source_hash": "8d65a11c",
    "execution_start": 1650608216048,
    "execution_millis": 6,
    "cell_id": "00053-56c6b4a6-1a1a-4264-b67a-c538adaea86a",
    "deepnote_cell_type": "code",
    "deepnote_cell_height": 99
   },
   "source": "#convert Year to int64 for easier modelling\nwine = wine.astype({'Year':'int64'})",
   "execution_count": null,
   "outputs": []
  },
  {
   "cell_type": "code",
   "metadata": {
    "tags": [],
    "deepnote_to_be_reexecuted": false,
    "source_hash": "9f986458",
    "execution_start": 1650608216116,
    "execution_millis": 2057331908,
    "cell_id": "00054-0174fe20-0936-4813-8180-8a18bd212a58",
    "deepnote_cell_type": "code",
    "deepnote_cell_height": 310,
    "deepnote_output_heights": [
     213
    ]
   },
   "source": "wine.dtypes",
   "execution_count": null,
   "outputs": [
    {
     "output_type": "execute_result",
     "execution_count": 23,
     "data": {
      "text/plain": "Name                object\nCountry             object\nRegion              object\nWinery              object\nRating             float64\nNumberOfRatings      int64\nPrice              float64\nYear                 int64\nType                object\nName+Winery         object\ndtype: object"
     },
     "metadata": {}
    }
   ]
  },
  {
   "cell_type": "code",
   "metadata": {
    "tags": [],
    "deepnote_to_be_reexecuted": false,
    "source_hash": "8dee4ce1",
    "execution_start": 1650608216116,
    "execution_millis": 1128,
    "cell_id": "00055-2cf09816-4761-445b-8712-ab4545990b04",
    "deepnote_cell_type": "code",
    "deepnote_cell_height": 624,
    "deepnote_output_heights": [
     21,
     439
    ]
   },
   "source": "f = plt.figure(figsize=(16,8))\nsb.histplot(data = wine['Year'], kde = True)\n",
   "execution_count": null,
   "outputs": [
    {
     "output_type": "execute_result",
     "execution_count": 24,
     "data": {
      "text/plain": "<AxesSubplot:xlabel='Year', ylabel='Count'>"
     },
     "metadata": {}
    },
    {
     "data": {
      "text/plain": "<Figure size 1152x576 with 1 Axes>",
      "image/png": "[encoded data removed]"
     },
     "metadata": {
      "image/png": {
       "width": 961,
       "height": 485
      }
     },
     "output_type": "display_data"
    }
   ]
  },
  {
   "cell_type": "code",
   "metadata": {
    "tags": [],
    "deepnote_to_be_reexecuted": false,
    "source_hash": "2331c83",
    "execution_start": 1650608217254,
    "execution_millis": 39,
    "cell_id": "00056-68f65fb8-07ae-453a-95c0-9bef8dd8f627",
    "deepnote_cell_type": "code",
    "deepnote_cell_height": 240.39999389648438
   },
   "source": "Q1year = wine['Year'].quantile(0.25)\nQ3year = wine['Year'].quantile(0.75)\nIQRyear = Q3year - Q1year\nnum_year_outliers = ((wine['Year'] < Q1year-1.5*IQRyear) | (wine['Price'] > Q3year+1.5*IQRyear)).sum()\n\nprint(\"Number of Year outliers: \" + str(num_year_outliers))\nprint(f\"Percentage of Year as outliers(%): {num_year_outliers/wine.shape[0]*100:0.2f}\")",
   "execution_count": null,
   "outputs": [
    {
     "name": "stdout",
     "text": "Number of Year outliers: 825\nPercentage of Year as outliers(%): 5.96\n",
     "output_type": "stream"
    }
   ]
  },
  {
   "cell_type": "code",
   "metadata": {
    "tags": [],
    "deepnote_to_be_reexecuted": false,
    "source_hash": "d4d7fc6c",
    "execution_start": 1650608217291,
    "execution_millis": 5,
    "output_cleared": false,
    "deepnote_table_state": {
     "pageSize": 10,
     "pageIndex": 0,
     "filters": [],
     "sortBy": []
    },
    "deepnote_table_loading": false,
    "deepnote_table_invalid": false,
    "cell_id": "00057-49bb2299-995f-4bb6-9792-f8525c2dbbf7",
    "deepnote_cell_type": "code",
    "deepnote_cell_height": 672
   },
   "source": "wine_groupby_year = pd.DataFrame(wine.groupby('Year')['Price'].mean())\n#plt.figure(figsize=(24,24))\n#g = sb.histplot(data = wine_groupby_year, y='Price', x=wine_groupby_year.index)\n#plt.show()\nwine_groupby_year",
   "execution_count": null,
   "outputs": [
    {
     "output_type": "execute_result",
     "execution_count": 26,
     "data": {
      "application/vnd.deepnote.dataframe.v3+json": {
       "column_count": 1,
       "row_count": 34,
       "columns": [
        {
         "name": "Price",
         "dtype": "float64",
         "stats": {
          "unique_count": 34,
          "nan_count": 0,
          "min": "7.425000000000001",
          "max": "1046.925",
          "histogram": [
           {
            "bin_start": 7.425000000000001,
            "bin_end": 111.375,
            "count": 20
           },
           {
            "bin_start": 111.375,
            "bin_end": 215.32500000000002,
            "count": 8
           },
           {
            "bin_start": 215.32500000000002,
            "bin_end": 319.27500000000003,
            "count": 1
           },
           {
            "bin_start": 319.27500000000003,
            "bin_end": 423.225,
            "count": 0
           },
           {
            "bin_start": 423.225,
            "bin_end": 527.175,
            "count": 0
           },
           {
            "bin_start": 527.175,
            "bin_end": 631.125,
            "count": 1
           },
           {
            "bin_start": 631.125,
            "bin_end": 735.0749999999999,
            "count": 1
           },
           {
            "bin_start": 735.0749999999999,
            "bin_end": 839.025,
            "count": 1
           },
           {
            "bin_start": 839.025,
            "bin_end": 942.975,
            "count": 1
           },
           {
            "bin_start": 942.975,
            "bin_end": 1046.925,
            "count": 1
           }
          ]
         }
        },
        {
         "name": "_deepnote_index_column",
         "dtype": "int64"
        }
       ],
       "rows": [
        {
         "Price": 18.919999999999998,
         "_deepnote_index_column": 1961
        },
        {
         "Price": 209.6,
         "_deepnote_index_column": 1988
        },
        {
         "Price": 1046.925,
         "_deepnote_index_column": 1989
        },
        {
         "Price": 623.735,
         "_deepnote_index_column": 1990
        },
        {
         "Price": 866.59,
         "_deepnote_index_column": 1991
        },
        {
         "Price": 810.9433333333333,
         "_deepnote_index_column": 1992
        },
        {
         "Price": 650.875,
         "_deepnote_index_column": 1993
        },
        {
         "Price": 186.485,
         "_deepnote_index_column": 1995
        },
        {
         "Price": 160.0616666666667,
         "_deepnote_index_column": 1996
        },
        {
         "Price": 232.98857142857136,
         "_deepnote_index_column": 1997
        }
       ]
      },
      "text/plain": "            Price\nYear             \n1961    18.920000\n1988   209.600000\n1989  1046.925000\n1990   623.735000\n1991   866.590000\n1992   810.943333\n1993   650.875000\n1995   186.485000\n1996   160.061667\n1997   232.988571\n1998    94.387143\n1999   173.473684\n2000   153.249474\n2001    75.914167\n2002   162.859091\n2003   107.811333\n2004   131.645882\n2005   106.438188\n2006   133.488750\n2007    87.981000\n2008    92.542178\n2009   104.735758\n2010   110.252083\n2011    59.883205\n2012    58.101962\n2013    56.459744\n2014    41.161823\n2015    35.967586\n2016    30.576595\n2017    20.973061\n2018    12.454199\n2019     9.746204\n2020     7.425000\n2023    24.824960",
      "text/html": "<div>\n<style scoped>\n    .dataframe tbody tr th:only-of-type {\n        vertical-align: middle;\n    }\n\n    .dataframe tbody tr th {\n        vertical-align: top;\n    }\n\n    .dataframe thead th {\n        text-align: right;\n    }\n</style>\n<table border=\"1\" class=\"dataframe\">\n  <thead>\n    <tr style=\"text-align: right;\">\n      <th></th>\n      <th>Price</th>\n    </tr>\n    <tr>\n      <th>Year</th>\n      <th></th>\n    </tr>\n  </thead>\n  <tbody>\n    <tr>\n      <th>1961</th>\n      <td>18.920000</td>\n    </tr>\n    <tr>\n      <th>1988</th>\n      <td>209.600000</td>\n    </tr>\n    <tr>\n      <th>1989</th>\n      <td>1046.925000</td>\n    </tr>\n    <tr>\n      <th>1990</th>\n      <td>623.735000</td>\n    </tr>\n    <tr>\n      <th>1991</th>\n      <td>866.590000</td>\n    </tr>\n    <tr>\n      <th>1992</th>\n      <td>810.943333</td>\n    </tr>\n    <tr>\n      <th>1993</th>\n      <td>650.875000</td>\n    </tr>\n    <tr>\n      <th>1995</th>\n      <td>186.485000</td>\n    </tr>\n    <tr>\n      <th>1996</th>\n      <td>160.061667</td>\n    </tr>\n    <tr>\n      <th>1997</th>\n      <td>232.988571</td>\n    </tr>\n    <tr>\n      <th>1998</th>\n      <td>94.387143</td>\n    </tr>\n    <tr>\n      <th>1999</th>\n      <td>173.473684</td>\n    </tr>\n    <tr>\n      <th>2000</th>\n      <td>153.249474</td>\n    </tr>\n    <tr>\n      <th>2001</th>\n      <td>75.914167</td>\n    </tr>\n    <tr>\n      <th>2002</th>\n      <td>162.859091</td>\n    </tr>\n    <tr>\n      <th>2003</th>\n      <td>107.811333</td>\n    </tr>\n    <tr>\n      <th>2004</th>\n      <td>131.645882</td>\n    </tr>\n    <tr>\n      <th>2005</th>\n      <td>106.438188</td>\n    </tr>\n    <tr>\n      <th>2006</th>\n      <td>133.488750</td>\n    </tr>\n    <tr>\n      <th>2007</th>\n      <td>87.981000</td>\n    </tr>\n    <tr>\n      <th>2008</th>\n      <td>92.542178</td>\n    </tr>\n    <tr>\n      <th>2009</th>\n      <td>104.735758</td>\n    </tr>\n    <tr>\n      <th>2010</th>\n      <td>110.252083</td>\n    </tr>\n    <tr>\n      <th>2011</th>\n      <td>59.883205</td>\n    </tr>\n    <tr>\n      <th>2012</th>\n      <td>58.101962</td>\n    </tr>\n    <tr>\n      <th>2013</th>\n      <td>56.459744</td>\n    </tr>\n    <tr>\n      <th>2014</th>\n      <td>41.161823</td>\n    </tr>\n    <tr>\n      <th>2015</th>\n      <td>35.967586</td>\n    </tr>\n    <tr>\n      <th>2016</th>\n      <td>30.576595</td>\n    </tr>\n    <tr>\n      <th>2017</th>\n      <td>20.973061</td>\n    </tr>\n    <tr>\n      <th>2018</th>\n      <td>12.454199</td>\n    </tr>\n    <tr>\n      <th>2019</th>\n      <td>9.746204</td>\n    </tr>\n    <tr>\n      <th>2020</th>\n      <td>7.425000</td>\n    </tr>\n    <tr>\n      <th>2023</th>\n      <td>24.824960</td>\n    </tr>\n  </tbody>\n</table>\n</div>"
     },
     "metadata": {}
    }
   ]
  },
  {
   "cell_type": "code",
   "metadata": {
    "tags": [],
    "deepnote_to_be_reexecuted": false,
    "source_hash": "856d92b",
    "execution_start": 1650608217344,
    "execution_millis": 0,
    "cell_id": "00058-27781e57-c4e1-4a24-9d16-949089d70273",
    "deepnote_cell_type": "code",
    "deepnote_cell_height": 99
   },
   "source": "#wine = pd.cut(wine['Year'], bins=[2000, 2010, 2021, 2022], include_lowest=True, labels=['Before 2000s', '2000-2010', '2011-2022','N.V.'])\n#wine",
   "execution_count": null,
   "outputs": []
  },
  {
   "cell_type": "markdown",
   "source": "### Analysis of 'Rating'",
   "metadata": {
    "tags": [],
    "is_collapsed": false,
    "cell_id": "00059-9bed4354-8bd9-4c9a-baab-aa3c133fc06d",
    "deepnote_cell_type": "text-cell-h3"
   }
  },
  {
   "cell_type": "markdown",
   "source": "",
   "metadata": {
    "tags": [],
    "is_collapsed": false,
    "cell_id": "00060-e990d8af-0b28-4894-8e14-a35f7f1cd5aa",
    "deepnote_cell_type": "text-cell-p"
   }
  },
  {
   "cell_type": "code",
   "metadata": {
    "tags": [],
    "deepnote_to_be_reexecuted": false,
    "source_hash": "8ac53b4c",
    "execution_start": 1650608217345,
    "execution_millis": 582,
    "cell_id": "00061-416df90c-cdd3-49c1-a12a-829a579e7eff",
    "deepnote_cell_type": "code",
    "deepnote_cell_height": 548,
    "deepnote_output_heights": [
     379
    ]
   },
   "source": "plt.figure(figsize=(12,6))\ng = sb.countplot(data=wine, x='Rating', color='red')\ng.set_xlabel(\"Rating\") \ng.set_ylabel(\"Count\")\nplt.show()",
   "execution_count": null,
   "outputs": [
    {
     "data": {
      "text/plain": "<Figure size 864x432 with 1 Axes>",
      "image/png": "[encoded data removed]"
     },
     "metadata": {
      "image/png": {
       "width": 738,
       "height": 377
      }
     },
     "output_type": "display_data"
    }
   ]
  },
  {
   "cell_type": "markdown",
   "source": "Rating seems to have a fairly normal distribution",
   "metadata": {
    "tags": [],
    "cell_id": "00062-ef9249b4-d7a2-4106-99e1-cd2c854e309c",
    "deepnote_cell_type": "markdown",
    "deepnote_cell_height": 52.399993896484375
   }
  },
  {
   "cell_type": "code",
   "metadata": {
    "tags": [],
    "deepnote_to_be_reexecuted": false,
    "source_hash": "3656c35c",
    "execution_start": 1650608217980,
    "execution_millis": 2,
    "cell_id": "00063-2a94f66e-ef91-4cfd-a31f-87c02c5995d2",
    "deepnote_cell_type": "code",
    "deepnote_cell_height": 240.39999389648438
   },
   "source": "Q1rating = wine['Rating'].quantile(0.25)\nQ3rating = wine['Rating'].quantile(0.75)\nIQRrating = Q3rating - Q1rating\nnum_rating_outliers = ((wine['Rating'] < Q1rating-1.5*IQRrating) | (wine['Rating'] > Q3rating+1.5*IQRrating)).sum()\n\nprint(\"Number of rating outliers: \" + str(num_rating_outliers))\nprint(f\"Percentage of rating as outliers(%): {num_rating_outliers/wine.shape[0]*100:0.2f}\")",
   "execution_count": null,
   "outputs": [
    {
     "name": "stdout",
     "text": "Number of rating outliers: 144\nPercentage of rating as outliers(%): 1.04\n",
     "output_type": "stream"
    }
   ]
  },
  {
   "cell_type": "markdown",
   "source": "Number of outliers in rating is very minimal",
   "metadata": {
    "tags": [],
    "is_collapsed": false,
    "cell_id": "00064-e0f97566-85a3-4bbe-b32a-30222dcf9f86",
    "deepnote_cell_type": "text-cell-p"
   }
  },
  {
   "cell_type": "code",
   "metadata": {
    "tags": [],
    "deepnote_to_be_reexecuted": false,
    "source_hash": "a721169c",
    "execution_start": 1650608217981,
    "execution_millis": 5230,
    "cell_id": "00065-0b824df9-262f-4034-bdf9-44ab4ff7b824",
    "deepnote_cell_type": "code",
    "deepnote_cell_height": 548,
    "deepnote_output_heights": [
     379
    ]
   },
   "source": "plt.figure(figsize=(12,6))\ng = sb.histplot(data=wine, x='Price', color='purple')\ng.set_xlabel(\"Price\") \ng.set_ylabel(\"Count\")\nplt.show()",
   "execution_count": null,
   "outputs": [
    {
     "data": {
      "text/plain": "<Figure size 864x432 with 1 Axes>",
      "image/png": "[encoded data removed]"
     },
     "metadata": {
      "image/png": {
       "width": 738,
       "height": 377
      }
     },
     "output_type": "display_data"
    }
   ]
  },
  {
   "cell_type": "code",
   "metadata": {
    "tags": [],
    "deepnote_to_be_reexecuted": false,
    "source_hash": "d5c8d964",
    "execution_start": 1650608223255,
    "execution_millis": 722,
    "cell_id": "00066-dba8d448-3d25-40ba-b2a5-1df6bae62047",
    "deepnote_cell_type": "code",
    "deepnote_cell_height": 535,
    "deepnote_output_heights": [
     21,
     350
    ]
   },
   "source": "plt.figure(figsize=(24,24))\ng = sb.displot(np.log(wine['Price']))\nplt.show()",
   "execution_count": null,
   "outputs": [
    {
     "data": {
      "text/plain": "<Figure size 1728x1728 with 0 Axes>"
     },
     "metadata": {},
     "output_type": "display_data"
    },
    {
     "data": {
      "text/plain": "<Figure size 360x360 with 1 Axes>",
      "image/png": "[encoded data removed]"
     },
     "metadata": {
      "image/png": {
       "width": 348,
       "height": 348
      }
     },
     "output_type": "display_data"
    }
   ]
  },
  {
   "cell_type": "markdown",
   "source": "### Analysis of 'Country'",
   "metadata": {
    "tags": [],
    "is_collapsed": false,
    "cell_id": "00067-b3a1078f-4a17-4b61-9e6e-b5b57c05961d",
    "deepnote_cell_type": "text-cell-h3"
   }
  },
  {
   "cell_type": "code",
   "metadata": {
    "tags": [],
    "deepnote_to_be_reexecuted": false,
    "source_hash": "548d7599",
    "execution_start": 1650608223995,
    "execution_millis": 25,
    "cell_id": "00068-7dd37f74-87e7-4abc-98e0-d35063d32b97",
    "deepnote_cell_type": "code",
    "deepnote_cell_height": 708,
    "deepnote_output_heights": [
     611
    ]
   },
   "source": "wine.Country.value_counts()",
   "execution_count": null,
   "outputs": [
    {
     "output_type": "execute_result",
     "execution_count": 32,
     "data": {
      "text/plain": "Italy             3919\nFrance            3435\nSpain             1533\nGermany           1229\nSouth Africa       846\nUnited States      530\nAustria            491\nChile              431\nPortugal           336\nAustralia          318\nArgentina          308\nNew Zealand        165\nBrazil              50\nRomania             37\nGreece              25\nSwitzerland         23\nIsrael              23\nHungary             19\nSlovenia            18\nLebanon             16\nMoldova             16\nLuxembourg          14\nGeorgia             13\nTurkey              10\nCroatia              6\nUruguay              5\nChina                3\nCanada               3\nUnited Kingdom       3\nSlovakia             2\nCzech Republic       2\nBulgaria             2\nMexico               1\nName: Country, dtype: int64"
     },
     "metadata": {}
    }
   ]
  },
  {
   "cell_type": "code",
   "metadata": {
    "tags": [],
    "deepnote_to_be_reexecuted": false,
    "source_hash": "33de4ad4",
    "execution_start": 1650608224031,
    "execution_millis": 569,
    "cell_id": "00069-f1ef31de-3666-435f-bc39-f01dc6cec14f",
    "deepnote_cell_type": "code",
    "deepnote_cell_height": 118,
    "deepnote_output_heights": [
     21
    ]
   },
   "source": "wine.Country.value_counts()[:12].sum()",
   "execution_count": null,
   "outputs": [
    {
     "output_type": "execute_result",
     "execution_count": 33,
     "data": {
      "text/plain": "13541"
     },
     "metadata": {}
    }
   ]
  },
  {
   "cell_type": "markdown",
   "source": "We decided to pick countries with more than 100 wines",
   "metadata": {
    "tags": [],
    "cell_id": "00070-1f8da72e-9704-47d4-9587-b32c6f01e151",
    "deepnote_cell_type": "markdown",
    "deepnote_cell_height": 52.399993896484375
   }
  },
  {
   "cell_type": "code",
   "metadata": {
    "tags": [],
    "deepnote_to_be_reexecuted": false,
    "source_hash": "59b8fb84",
    "execution_start": 1650608224056,
    "execution_millis": 564,
    "cell_id": "00071-40fad0a6-55e8-4f45-bd9d-1ca248b539a4",
    "deepnote_cell_type": "code",
    "deepnote_cell_height": 469,
    "deepnote_output_heights": [
     300
    ]
   },
   "source": "plt.figure(figsize=(24,8))\ng = sb.countplot(data=wine[wine.Country.isin(wine.Country.value_counts()[:12].index.values)], x=\"Country\", color='green')\ng.set_xlabel(\"Country\") \ng.set_ylabel(\"Count\")\nplt.show()",
   "execution_count": null,
   "outputs": [
    {
     "data": {
      "text/plain": "<Figure size 1728x576 with 1 Axes>",
      "image/png": "[encoded data removed]"
     },
     "metadata": {
      "image/png": {
       "width": 1408,
       "height": 485
      }
     },
     "output_type": "display_data"
    }
   ]
  },
  {
   "cell_type": "code",
   "metadata": {
    "tags": [],
    "deepnote_to_be_reexecuted": false,
    "source_hash": "ddac1200",
    "execution_start": 1650608224627,
    "execution_millis": 5606,
    "cell_id": "00072-a6affabe-d3e2-43f2-9617-486cb5543f77",
    "deepnote_cell_type": "code",
    "deepnote_cell_height": 607,
    "deepnote_output_heights": [
     21,
     422
    ]
   },
   "source": "plt.figure(figsize=(24,8))\ng = sb.jointplot(data=wine, x='Price', y='Rating')\nplt.show()",
   "execution_count": null,
   "outputs": [
    {
     "data": {
      "text/plain": "<Figure size 1728x576 with 0 Axes>"
     },
     "metadata": {},
     "output_type": "display_data"
    },
    {
     "data": {
      "text/plain": "<Figure size 432x432 with 3 Axes>",
      "image/png": "[encoded data removed]"
     },
     "metadata": {
      "image/png": {
       "width": 420,
       "height": 420
      }
     },
     "output_type": "display_data"
    }
   ]
  },
  {
   "cell_type": "markdown",
   "source": "Using One-Hot Encoding to encode Country.",
   "metadata": {
    "tags": [],
    "is_collapsed": false,
    "cell_id": "00073-5ade0c69-b8a0-468e-8215-844137579d94",
    "deepnote_cell_type": "text-cell-p"
   }
  },
  {
   "cell_type": "code",
   "metadata": {
    "tags": [],
    "deepnote_to_be_reexecuted": false,
    "source_hash": "b961eff4",
    "execution_start": 1650610645547,
    "execution_millis": 3,
    "cell_id": "00074-d277a77f-0f3c-486f-996b-aade2abc912e",
    "deepnote_cell_type": "code",
    "deepnote_cell_height": 709.7999877929688
   },
   "source": "wineNew = wine[wine.Country.isin(wine.Country.value_counts()[:12].index.values)]\nfrom sklearn.preprocessing import OneHotEncoder\nohe = OneHotEncoder()\n\n# OneHotEncoding of categorical predictors (not the response)\nwineNew_cat = wineNew[['Country']]\nohe.fit(wineNew_cat)\nwineNew_cat_ohe = pd.DataFrame(ohe.transform(wineNew_cat).toarray(), \n                                  columns=ohe.get_feature_names_out(wineNew_cat.columns))\n\n# Check the encoded variables\nwineNew_cat_ohe.info()\n\n",
   "execution_count": null,
   "outputs": [
    {
     "name": "stdout",
     "text": "<class 'pandas.core.frame.DataFrame'>\nRangeIndex: 13541 entries, 0 to 13540\nData columns (total 12 columns):\n #   Column                 Non-Null Count  Dtype  \n---  ------                 --------------  -----  \n 0   Country_Argentina      13541 non-null  float64\n 1   Country_Australia      13541 non-null  float64\n 2   Country_Austria        13541 non-null  float64\n 3   Country_Chile          13541 non-null  float64\n 4   Country_France         13541 non-null  float64\n 5   Country_Germany        13541 non-null  float64\n 6   Country_Italy          13541 non-null  float64\n 7   Country_New Zealand    13541 non-null  float64\n 8   Country_Portugal       13541 non-null  float64\n 9   Country_South Africa   13541 non-null  float64\n 10  Country_Spain          13541 non-null  float64\n 11  Country_United States  13541 non-null  float64\ndtypes: float64(12)\nmemory usage: 1.2 MB\n",
     "output_type": "stream"
    }
   ]
  },
  {
   "cell_type": "code",
   "metadata": {
    "tags": [],
    "deepnote_to_be_reexecuted": false,
    "source_hash": "d97fb64e",
    "execution_start": 1650610142026,
    "execution_millis": 122,
    "deepnote_table_state": {
     "pageSize": 10,
     "pageIndex": 1354,
     "filters": [],
     "sortBy": []
    },
    "deepnote_table_loading": false,
    "cell_id": "00075-ba36dd8c-a112-4de9-b2a1-6e11b120a9b2",
    "deepnote_cell_type": "code",
    "deepnote_cell_height": 248
   },
   "source": "wineNew_cat_ohe",
   "execution_count": null,
   "outputs": [
    {
     "output_type": "execute_result",
     "execution_count": 75,
     "data": {
      "application/vnd.deepnote.dataframe.v3+json": {
       "column_count": 12,
       "row_count": 13541,
       "columns": [
        {
         "name": "Country_Argentina",
         "dtype": "float64",
         "stats": {
          "unique_count": 2,
          "nan_count": 0,
          "min": "0.0",
          "max": "1.0",
          "histogram": [
           {
            "bin_start": 0,
            "bin_end": 0.1,
            "count": 13233
           },
           {
            "bin_start": 0.1,
            "bin_end": 0.2,
            "count": 0
           },
           {
            "bin_start": 0.2,
            "bin_end": 0.30000000000000004,
            "count": 0
           },
           {
            "bin_start": 0.30000000000000004,
            "bin_end": 0.4,
            "count": 0
           },
           {
            "bin_start": 0.4,
            "bin_end": 0.5,
            "count": 0
           },
           {
            "bin_start": 0.5,
            "bin_end": 0.6000000000000001,
            "count": 0
           },
           {
            "bin_start": 0.6000000000000001,
            "bin_end": 0.7000000000000001,
            "count": 0
           },
           {
            "bin_start": 0.7000000000000001,
            "bin_end": 0.8,
            "count": 0
           },
           {
            "bin_start": 0.8,
            "bin_end": 0.9,
            "count": 0
           },
           {
            "bin_start": 0.9,
            "bin_end": 1,
            "count": 308
           }
          ]
         }
        },
        {
         "name": "Country_Australia",
         "dtype": "float64",
         "stats": {
          "unique_count": 2,
          "nan_count": 0,
          "min": "0.0",
          "max": "1.0",
          "histogram": [
           {
            "bin_start": 0,
            "bin_end": 0.1,
            "count": 13223
           },
           {
            "bin_start": 0.1,
            "bin_end": 0.2,
            "count": 0
           },
           {
            "bin_start": 0.2,
            "bin_end": 0.30000000000000004,
            "count": 0
           },
           {
            "bin_start": 0.30000000000000004,
            "bin_end": 0.4,
            "count": 0
           },
           {
            "bin_start": 0.4,
            "bin_end": 0.5,
            "count": 0
           },
           {
            "bin_start": 0.5,
            "bin_end": 0.6000000000000001,
            "count": 0
           },
           {
            "bin_start": 0.6000000000000001,
            "bin_end": 0.7000000000000001,
            "count": 0
           },
           {
            "bin_start": 0.7000000000000001,
            "bin_end": 0.8,
            "count": 0
           },
           {
            "bin_start": 0.8,
            "bin_end": 0.9,
            "count": 0
           },
           {
            "bin_start": 0.9,
            "bin_end": 1,
            "count": 318
           }
          ]
         }
        },
        {
         "name": "Country_Austria",
         "dtype": "float64",
         "stats": {
          "unique_count": 2,
          "nan_count": 0,
          "min": "0.0",
          "max": "1.0",
          "histogram": [
           {
            "bin_start": 0,
            "bin_end": 0.1,
            "count": 13050
           },
           {
            "bin_start": 0.1,
            "bin_end": 0.2,
            "count": 0
           },
           {
            "bin_start": 0.2,
            "bin_end": 0.30000000000000004,
            "count": 0
           },
           {
            "bin_start": 0.30000000000000004,
            "bin_end": 0.4,
            "count": 0
           },
           {
            "bin_start": 0.4,
            "bin_end": 0.5,
            "count": 0
           },
           {
            "bin_start": 0.5,
            "bin_end": 0.6000000000000001,
            "count": 0
           },
           {
            "bin_start": 0.6000000000000001,
            "bin_end": 0.7000000000000001,
            "count": 0
           },
           {
            "bin_start": 0.7000000000000001,
            "bin_end": 0.8,
            "count": 0
           },
           {
            "bin_start": 0.8,
            "bin_end": 0.9,
            "count": 0
           },
           {
            "bin_start": 0.9,
            "bin_end": 1,
            "count": 491
           }
          ]
         }
        },
        {
         "name": "Country_Chile",
         "dtype": "float64",
         "stats": {
          "unique_count": 2,
          "nan_count": 0,
          "min": "0.0",
          "max": "1.0",
          "histogram": [
           {
            "bin_start": 0,
            "bin_end": 0.1,
            "count": 13110
           },
           {
            "bin_start": 0.1,
            "bin_end": 0.2,
            "count": 0
           },
           {
            "bin_start": 0.2,
            "bin_end": 0.30000000000000004,
            "count": 0
           },
           {
            "bin_start": 0.30000000000000004,
            "bin_end": 0.4,
            "count": 0
           },
           {
            "bin_start": 0.4,
            "bin_end": 0.5,
            "count": 0
           },
           {
            "bin_start": 0.5,
            "bin_end": 0.6000000000000001,
            "count": 0
           },
           {
            "bin_start": 0.6000000000000001,
            "bin_end": 0.7000000000000001,
            "count": 0
           },
           {
            "bin_start": 0.7000000000000001,
            "bin_end": 0.8,
            "count": 0
           },
           {
            "bin_start": 0.8,
            "bin_end": 0.9,
            "count": 0
           },
           {
            "bin_start": 0.9,
            "bin_end": 1,
            "count": 431
           }
          ]
         }
        },
        {
         "name": "Country_France",
         "dtype": "float64",
         "stats": {
          "unique_count": 2,
          "nan_count": 0,
          "min": "0.0",
          "max": "1.0",
          "histogram": [
           {
            "bin_start": 0,
            "bin_end": 0.1,
            "count": 10106
           },
           {
            "bin_start": 0.1,
            "bin_end": 0.2,
            "count": 0
           },
           {
            "bin_start": 0.2,
            "bin_end": 0.30000000000000004,
            "count": 0
           },
           {
            "bin_start": 0.30000000000000004,
            "bin_end": 0.4,
            "count": 0
           },
           {
            "bin_start": 0.4,
            "bin_end": 0.5,
            "count": 0
           },
           {
            "bin_start": 0.5,
            "bin_end": 0.6000000000000001,
            "count": 0
           },
           {
            "bin_start": 0.6000000000000001,
            "bin_end": 0.7000000000000001,
            "count": 0
           },
           {
            "bin_start": 0.7000000000000001,
            "bin_end": 0.8,
            "count": 0
           },
           {
            "bin_start": 0.8,
            "bin_end": 0.9,
            "count": 0
           },
           {
            "bin_start": 0.9,
            "bin_end": 1,
            "count": 3435
           }
          ]
         }
        },
        {
         "name": "Country_Germany",
         "dtype": "float64",
         "stats": {
          "unique_count": 2,
          "nan_count": 0,
          "min": "0.0",
          "max": "1.0",
          "histogram": [
           {
            "bin_start": 0,
            "bin_end": 0.1,
            "count": 12312
           },
           {
            "bin_start": 0.1,
            "bin_end": 0.2,
            "count": 0
           },
           {
            "bin_start": 0.2,
            "bin_end": 0.30000000000000004,
            "count": 0
           },
           {
            "bin_start": 0.30000000000000004,
            "bin_end": 0.4,
            "count": 0
           },
           {
            "bin_start": 0.4,
            "bin_end": 0.5,
            "count": 0
           },
           {
            "bin_start": 0.5,
            "bin_end": 0.6000000000000001,
            "count": 0
           },
           {
            "bin_start": 0.6000000000000001,
            "bin_end": 0.7000000000000001,
            "count": 0
           },
           {
            "bin_start": 0.7000000000000001,
            "bin_end": 0.8,
            "count": 0
           },
           {
            "bin_start": 0.8,
            "bin_end": 0.9,
            "count": 0
           },
           {
            "bin_start": 0.9,
            "bin_end": 1,
            "count": 1229
           }
          ]
         }
        },
        {
         "name": "Country_Italy",
         "dtype": "float64",
         "stats": {
          "unique_count": 2,
          "nan_count": 0,
          "min": "0.0",
          "max": "1.0",
          "histogram": [
           {
            "bin_start": 0,
            "bin_end": 0.1,
            "count": 9622
           },
           {
            "bin_start": 0.1,
            "bin_end": 0.2,
            "count": 0
           },
           {
            "bin_start": 0.2,
            "bin_end": 0.30000000000000004,
            "count": 0
           },
           {
            "bin_start": 0.30000000000000004,
            "bin_end": 0.4,
            "count": 0
           },
           {
            "bin_start": 0.4,
            "bin_end": 0.5,
            "count": 0
           },
           {
            "bin_start": 0.5,
            "bin_end": 0.6000000000000001,
            "count": 0
           },
           {
            "bin_start": 0.6000000000000001,
            "bin_end": 0.7000000000000001,
            "count": 0
           },
           {
            "bin_start": 0.7000000000000001,
            "bin_end": 0.8,
            "count": 0
           },
           {
            "bin_start": 0.8,
            "bin_end": 0.9,
            "count": 0
           },
           {
            "bin_start": 0.9,
            "bin_end": 1,
            "count": 3919
           }
          ]
         }
        },
        {
         "name": "Country_New Zealand",
         "dtype": "float64"
        },
        {
         "name": "Country_Portugal",
         "dtype": "float64"
        },
        {
         "name": "Country_South Africa",
         "dtype": "float64"
        },
        {
         "name": "Country_Spain",
         "dtype": "float64"
        },
        {
         "name": "Country_United States",
         "dtype": "float64"
        },
        {
         "name": "_deepnote_index_column",
         "dtype": "int64"
        }
       ],
       "rows": [
        {
         "Country_Argentina": 0,
         "Country_Australia": 0,
         "Country_Austria": 0,
         "Country_Chile": 0,
         "Country_France": 1,
         "Country_Germany": 0,
         "Country_Italy": 0,
         "Country_New Zealand": 0,
         "Country_Portugal": 0,
         "Country_South Africa": 0,
         "Country_Spain": 0,
         "Country_United States": 0,
         "_deepnote_index_column": 13540
        }
       ]
      },
      "text/plain": "       Country_Argentina  Country_Australia  Country_Austria  Country_Chile  \\\n0                    0.0                0.0              0.0            0.0   \n1                    0.0                0.0              0.0            0.0   \n2                    0.0                0.0              0.0            0.0   \n3                    0.0                0.0              0.0            0.0   \n4                    0.0                0.0              1.0            0.0   \n...                  ...                ...              ...            ...   \n13536                0.0                0.0              0.0            0.0   \n13537                0.0                0.0              0.0            0.0   \n13538                0.0                0.0              0.0            0.0   \n13539                0.0                0.0              0.0            0.0   \n13540                0.0                0.0              0.0            0.0   \n\n       Country_France  Country_Germany  Country_Italy  Country_New Zealand  \\\n0                 1.0              0.0            0.0                  0.0   \n1                 1.0              0.0            0.0                  0.0   \n2                 0.0              0.0            1.0                  0.0   \n3                 0.0              0.0            1.0                  0.0   \n4                 0.0              0.0            0.0                  0.0   \n...               ...              ...            ...                  ...   \n13536             1.0              0.0            0.0                  0.0   \n13537             1.0              0.0            0.0                  0.0   \n13538             1.0              0.0            0.0                  0.0   \n13539             1.0              0.0            0.0                  0.0   \n13540             1.0              0.0            0.0                  0.0   \n\n       Country_Portugal  Country_South Africa  Country_Spain  \\\n0                   0.0                   0.0            0.0   \n1                   0.0                   0.0            0.0   \n2                   0.0                   0.0            0.0   \n3                   0.0                   0.0            0.0   \n4                   0.0                   0.0            0.0   \n...                 ...                   ...            ...   \n13536               0.0                   0.0            0.0   \n13537               0.0                   0.0            0.0   \n13538               0.0                   0.0            0.0   \n13539               0.0                   0.0            0.0   \n13540               0.0                   0.0            0.0   \n\n       Country_United States  \n0                        0.0  \n1                        0.0  \n2                        0.0  \n3                        0.0  \n4                        0.0  \n...                      ...  \n13536                    0.0  \n13537                    0.0  \n13538                    0.0  \n13539                    0.0  \n13540                    0.0  \n\n[13541 rows x 12 columns]",
      "text/html": "<div>\n<style scoped>\n    .dataframe tbody tr th:only-of-type {\n        vertical-align: middle;\n    }\n\n    .dataframe tbody tr th {\n        vertical-align: top;\n    }\n\n    .dataframe thead th {\n        text-align: right;\n    }\n</style>\n<table border=\"1\" class=\"dataframe\">\n  <thead>\n    <tr style=\"text-align: right;\">\n      <th></th>\n      <th>Country_Argentina</th>\n      <th>Country_Australia</th>\n      <th>Country_Austria</th>\n      <th>Country_Chile</th>\n      <th>Country_France</th>\n      <th>Country_Germany</th>\n      <th>Country_Italy</th>\n      <th>Country_New Zealand</th>\n      <th>Country_Portugal</th>\n      <th>Country_South Africa</th>\n      <th>Country_Spain</th>\n      <th>Country_United States</th>\n    </tr>\n  </thead>\n  <tbody>\n    <tr>\n      <th>0</th>\n      <td>0.0</td>\n      <td>0.0</td>\n      <td>0.0</td>\n      <td>0.0</td>\n      <td>1.0</td>\n      <td>0.0</td>\n      <td>0.0</td>\n      <td>0.0</td>\n      <td>0.0</td>\n      <td>0.0</td>\n      <td>0.0</td>\n      <td>0.0</td>\n    </tr>\n    <tr>\n      <th>1</th>\n      <td>0.0</td>\n      <td>0.0</td>\n      <td>0.0</td>\n      <td>0.0</td>\n      <td>1.0</td>\n      <td>0.0</td>\n      <td>0.0</td>\n      <td>0.0</td>\n      <td>0.0</td>\n      <td>0.0</td>\n      <td>0.0</td>\n      <td>0.0</td>\n    </tr>\n    <tr>\n      <th>2</th>\n      <td>0.0</td>\n      <td>0.0</td>\n      <td>0.0</td>\n      <td>0.0</td>\n      <td>0.0</td>\n      <td>0.0</td>\n      <td>1.0</td>\n      <td>0.0</td>\n      <td>0.0</td>\n      <td>0.0</td>\n      <td>0.0</td>\n      <td>0.0</td>\n    </tr>\n    <tr>\n      <th>3</th>\n      <td>0.0</td>\n      <td>0.0</td>\n      <td>0.0</td>\n      <td>0.0</td>\n      <td>0.0</td>\n      <td>0.0</td>\n      <td>1.0</td>\n      <td>0.0</td>\n      <td>0.0</td>\n      <td>0.0</td>\n      <td>0.0</td>\n      <td>0.0</td>\n    </tr>\n    <tr>\n      <th>4</th>\n      <td>0.0</td>\n      <td>0.0</td>\n      <td>1.0</td>\n      <td>0.0</td>\n      <td>0.0</td>\n      <td>0.0</td>\n      <td>0.0</td>\n      <td>0.0</td>\n      <td>0.0</td>\n      <td>0.0</td>\n      <td>0.0</td>\n      <td>0.0</td>\n    </tr>\n    <tr>\n      <th>...</th>\n      <td>...</td>\n      <td>...</td>\n      <td>...</td>\n      <td>...</td>\n      <td>...</td>\n      <td>...</td>\n      <td>...</td>\n      <td>...</td>\n      <td>...</td>\n      <td>...</td>\n      <td>...</td>\n      <td>...</td>\n    </tr>\n    <tr>\n      <th>13536</th>\n      <td>0.0</td>\n      <td>0.0</td>\n      <td>0.0</td>\n      <td>0.0</td>\n      <td>1.0</td>\n      <td>0.0</td>\n      <td>0.0</td>\n      <td>0.0</td>\n      <td>0.0</td>\n      <td>0.0</td>\n      <td>0.0</td>\n      <td>0.0</td>\n    </tr>\n    <tr>\n      <th>13537</th>\n      <td>0.0</td>\n      <td>0.0</td>\n      <td>0.0</td>\n      <td>0.0</td>\n      <td>1.0</td>\n      <td>0.0</td>\n      <td>0.0</td>\n      <td>0.0</td>\n      <td>0.0</td>\n      <td>0.0</td>\n      <td>0.0</td>\n      <td>0.0</td>\n    </tr>\n    <tr>\n      <th>13538</th>\n      <td>0.0</td>\n      <td>0.0</td>\n      <td>0.0</td>\n      <td>0.0</td>\n      <td>1.0</td>\n      <td>0.0</td>\n      <td>0.0</td>\n      <td>0.0</td>\n      <td>0.0</td>\n      <td>0.0</td>\n      <td>0.0</td>\n      <td>0.0</td>\n    </tr>\n    <tr>\n      <th>13539</th>\n      <td>0.0</td>\n      <td>0.0</td>\n      <td>0.0</td>\n      <td>0.0</td>\n      <td>1.0</td>\n      <td>0.0</td>\n      <td>0.0</td>\n      <td>0.0</td>\n      <td>0.0</td>\n      <td>0.0</td>\n      <td>0.0</td>\n      <td>0.0</td>\n    </tr>\n    <tr>\n      <th>13540</th>\n      <td>0.0</td>\n      <td>0.0</td>\n      <td>0.0</td>\n      <td>0.0</td>\n      <td>1.0</td>\n      <td>0.0</td>\n      <td>0.0</td>\n      <td>0.0</td>\n      <td>0.0</td>\n      <td>0.0</td>\n      <td>0.0</td>\n      <td>0.0</td>\n    </tr>\n  </tbody>\n</table>\n<p>13541 rows × 12 columns</p>\n</div>"
     },
     "metadata": {}
    }
   ]
  },
  {
   "cell_type": "code",
   "metadata": {
    "tags": [],
    "deepnote_to_be_reexecuted": false,
    "source_hash": "7db3e0e8",
    "execution_start": 1650610651293,
    "execution_millis": 146,
    "deepnote_table_state": {
     "pageSize": 10,
     "pageIndex": 1354,
     "filters": [],
     "sortBy": []
    },
    "deepnote_table_loading": false,
    "cell_id": "00076-4cc33904-768d-483e-bb60-999aebedb8ef",
    "deepnote_cell_type": "code",
    "deepnote_cell_height": 266
   },
   "source": "wineNew = wineNew.reset_index()\nwineNew",
   "execution_count": null,
   "outputs": [
    {
     "output_type": "execute_result",
     "execution_count": 87,
     "data": {
      "application/vnd.deepnote.dataframe.v3+json": {
       "column_count": 11,
       "row_count": 13541,
       "columns": [
        {
         "name": "index",
         "dtype": "int64",
         "stats": {
          "unique_count": 13541,
          "nan_count": 0,
          "min": "0",
          "max": "13833",
          "histogram": [
           {
            "bin_start": 0,
            "bin_end": 1383.3,
            "count": 1343
           },
           {
            "bin_start": 1383.3,
            "bin_end": 2766.6,
            "count": 1359
           },
           {
            "bin_start": 2766.6,
            "bin_end": 4149.9,
            "count": 1362
           },
           {
            "bin_start": 4149.9,
            "bin_end": 5533.2,
            "count": 1363
           },
           {
            "bin_start": 5533.2,
            "bin_end": 6916.5,
            "count": 1361
           },
           {
            "bin_start": 6916.5,
            "bin_end": 8299.8,
            "count": 1358
           },
           {
            "bin_start": 8299.8,
            "bin_end": 9683.1,
            "count": 1350
           },
           {
            "bin_start": 9683.1,
            "bin_end": 11066.4,
            "count": 1347
           },
           {
            "bin_start": 11066.4,
            "bin_end": 12449.699999999999,
            "count": 1346
           },
           {
            "bin_start": 12449.699999999999,
            "bin_end": 13833,
            "count": 1352
           }
          ]
         }
        },
        {
         "name": "Name",
         "dtype": "object",
         "stats": {
          "unique_count": 10682,
          "nan_count": 0,
          "categories": [
           {
            "name": "Chardonnay 2018",
            "count": 77
           },
           {
            "name": "Sauvignon Blanc 2019",
            "count": 65
           },
           {
            "name": "10680 others",
            "count": 13399
           }
          ]
         }
        },
        {
         "name": "Country",
         "dtype": "object",
         "stats": {
          "unique_count": 12,
          "nan_count": 0,
          "categories": [
           {
            "name": "Italy",
            "count": 3919
           },
           {
            "name": "France",
            "count": 3435
           },
           {
            "name": "10 others",
            "count": 6187
           }
          ]
         }
        },
        {
         "name": "Region",
         "dtype": "object",
         "stats": {
          "unique_count": 791,
          "nan_count": 0,
          "categories": [
           {
            "name": "Rioja",
            "count": 385
           },
           {
            "name": "Stellenbosch",
            "count": 337
           },
           {
            "name": "789 others",
            "count": 12819
           }
          ]
         }
        },
        {
         "name": "Winery",
         "dtype": "object",
         "stats": {
          "unique_count": 3421,
          "nan_count": 0,
          "categories": [
           {
            "name": "Markus Molitor",
            "count": 73
           },
           {
            "name": "Errazuriz",
            "count": 58
           },
           {
            "name": "3419 others",
            "count": 13410
           }
          ]
         }
        },
        {
         "name": "Rating",
         "dtype": "float64",
         "stats": {
          "unique_count": 25,
          "nan_count": 0,
          "min": "2.5",
          "max": "4.9",
          "histogram": [
           {
            "bin_start": 2.5,
            "bin_end": 2.74,
            "count": 6
           },
           {
            "bin_start": 2.74,
            "bin_end": 2.98,
            "count": 13
           },
           {
            "bin_start": 2.98,
            "bin_end": 3.22,
            "count": 203
           },
           {
            "bin_start": 3.22,
            "bin_end": 3.46,
            "count": 728
           },
           {
            "bin_start": 3.46,
            "bin_end": 3.7,
            "count": 2119
           },
           {
            "bin_start": 3.7,
            "bin_end": 3.9400000000000004,
            "count": 5409
           },
           {
            "bin_start": 3.9400000000000004,
            "bin_end": 4.180000000000001,
            "count": 2711
           },
           {
            "bin_start": 4.180000000000001,
            "bin_end": 4.42,
            "count": 1981
           },
           {
            "bin_start": 4.42,
            "bin_end": 4.66,
            "count": 331
           },
           {
            "bin_start": 4.66,
            "bin_end": 4.9,
            "count": 40
           }
          ]
         }
        },
        {
         "name": "NumberOfRatings",
         "dtype": "int64",
         "stats": {
          "unique_count": 1809,
          "nan_count": 0,
          "min": "25",
          "max": "94287",
          "histogram": [
           {
            "bin_start": 25,
            "bin_end": 9451.2,
            "count": 13495
           },
           {
            "bin_start": 9451.2,
            "bin_end": 18877.4,
            "count": 28
           },
           {
            "bin_start": 18877.4,
            "bin_end": 28303.600000000002,
            "count": 10
           },
           {
            "bin_start": 28303.600000000002,
            "bin_end": 37729.8,
            "count": 2
           },
           {
            "bin_start": 37729.8,
            "bin_end": 47156,
            "count": 2
           },
           {
            "bin_start": 47156,
            "bin_end": 56582.200000000004,
            "count": 0
           },
           {
            "bin_start": 56582.200000000004,
            "bin_end": 66008.40000000001,
            "count": 1
           },
           {
            "bin_start": 66008.40000000001,
            "bin_end": 75434.6,
            "count": 0
           },
           {
            "bin_start": 75434.6,
            "bin_end": 84860.8,
            "count": 1
           },
           {
            "bin_start": 84860.8,
            "bin_end": 94287,
            "count": 2
           }
          ]
         }
        },
        {
         "name": "Price",
         "dtype": "float64"
        },
        {
         "name": "Year",
         "dtype": "int64"
        },
        {
         "name": "Type",
         "dtype": "object"
        },
        {
         "name": "Name+Winery",
         "dtype": "object"
        },
        {
         "name": "_deepnote_index_column",
         "dtype": "int64"
        }
       ],
       "rows": [
        {
         "index": 13833,
         "Name": "Brut Champagne N.V.",
         "Country": "France",
         "Region": "Champagne",
         "Winery": "Dom Pérignon",
         "Rating": 4.6,
         "NumberOfRatings": 94287,
         "Price": 170,
         "Year": 2023,
         "Type": "Sparkling",
         "Name+Winery": "Brut Champagne N.V. Dom Pérignon",
         "_deepnote_index_column": 13540
        }
       ]
      },
      "text/plain": "       index                                  Name  Country  \\\n0          0                          Pomerol 2011   France   \n1          1                            Lirac 2017   France   \n2          2    Erta e China Rosso di Toscana 2015    Italy   \n3          3                        Bardolino 2019    Italy   \n4          4        Ried Scheibner Pinot Noir 2016  Austria   \n...      ...                                   ...      ...   \n13536  13829  Special Cuvée Brut Aÿ Champagne N.V.   France   \n13537  13830           Brut Premier Champagne N.V.   France   \n13538  13831          Impérial Brut Champagne N.V.   France   \n13539  13832     Brut (Carte Jaune) Champagne N.V.   France   \n13540  13833                   Brut Champagne N.V.   France   \n\n                      Region                 Winery  Rating  NumberOfRatings  \\\n0                    Pomerol  Château La Providence     4.2              100   \n1                      Lirac     Château Mont-Redon     4.3              100   \n2                    Toscana             Renzo Masi     3.9              100   \n3                  Bardolino             Cavalchina     3.5              100   \n4                  Carnuntum            Markowitsch     3.9              100   \n...                      ...                    ...     ...              ...   \n13536              Champagne              Bollinger     4.2            37765   \n13537  Champagne Premier Cru         Louis Roederer     4.2            40004   \n13538              Champagne         Moët & Chandon     4.1            76037   \n13539              Champagne         Veuve Clicquot     4.2            86839   \n13540              Champagne           Dom Pérignon     4.6            94287   \n\n        Price  Year       Type  \\\n0       95.00  2011        Red   \n1       15.50  2017        Red   \n2        7.45  2015        Red   \n3        8.72  2019        Red   \n4       29.15  2016        Red   \n...       ...   ...        ...   \n13536   46.00  2023  Sparkling   \n13537   36.48  2023  Sparkling   \n13538   40.61  2023  Sparkling   \n13539   43.60  2023  Sparkling   \n13540  170.00  2023  Sparkling   \n\n                                            Name+Winery  \n0                    Pomerol 2011 Château La Providence  \n1                         Lirac 2017 Château Mont-Redon  \n2         Erta e China Rosso di Toscana 2015 Renzo Masi  \n3                             Bardolino 2019 Cavalchina  \n4            Ried Scheibner Pinot Noir 2016 Markowitsch  \n...                                                 ...  \n13536    Special Cuvée Brut Aÿ Champagne N.V. Bollinger  \n13537        Brut Premier Champagne N.V. Louis Roederer  \n13538       Impérial Brut Champagne N.V. Moët & Chandon  \n13539  Brut (Carte Jaune) Champagne N.V. Veuve Clicquot  \n13540                  Brut Champagne N.V. Dom Pérignon  \n\n[13541 rows x 11 columns]",
      "text/html": "<div>\n<style scoped>\n    .dataframe tbody tr th:only-of-type {\n        vertical-align: middle;\n    }\n\n    .dataframe tbody tr th {\n        vertical-align: top;\n    }\n\n    .dataframe thead th {\n        text-align: right;\n    }\n</style>\n<table border=\"1\" class=\"dataframe\">\n  <thead>\n    <tr style=\"text-align: right;\">\n      <th></th>\n      <th>index</th>\n      <th>Name</th>\n      <th>Country</th>\n      <th>Region</th>\n      <th>Winery</th>\n      <th>Rating</th>\n      <th>NumberOfRatings</th>\n      <th>Price</th>\n      <th>Year</th>\n      <th>Type</th>\n      <th>Name+Winery</th>\n    </tr>\n  </thead>\n  <tbody>\n    <tr>\n      <th>0</th>\n      <td>0</td>\n      <td>Pomerol 2011</td>\n      <td>France</td>\n      <td>Pomerol</td>\n      <td>Château La Providence</td>\n      <td>4.2</td>\n      <td>100</td>\n      <td>95.00</td>\n      <td>2011</td>\n      <td>Red</td>\n      <td>Pomerol 2011 Château La Providence</td>\n    </tr>\n    <tr>\n      <th>1</th>\n      <td>1</td>\n      <td>Lirac 2017</td>\n      <td>France</td>\n      <td>Lirac</td>\n      <td>Château Mont-Redon</td>\n      <td>4.3</td>\n      <td>100</td>\n      <td>15.50</td>\n      <td>2017</td>\n      <td>Red</td>\n      <td>Lirac 2017 Château Mont-Redon</td>\n    </tr>\n    <tr>\n      <th>2</th>\n      <td>2</td>\n      <td>Erta e China Rosso di Toscana 2015</td>\n      <td>Italy</td>\n      <td>Toscana</td>\n      <td>Renzo Masi</td>\n      <td>3.9</td>\n      <td>100</td>\n      <td>7.45</td>\n      <td>2015</td>\n      <td>Red</td>\n      <td>Erta e China Rosso di Toscana 2015 Renzo Masi</td>\n    </tr>\n    <tr>\n      <th>3</th>\n      <td>3</td>\n      <td>Bardolino 2019</td>\n      <td>Italy</td>\n      <td>Bardolino</td>\n      <td>Cavalchina</td>\n      <td>3.5</td>\n      <td>100</td>\n      <td>8.72</td>\n      <td>2019</td>\n      <td>Red</td>\n      <td>Bardolino 2019 Cavalchina</td>\n    </tr>\n    <tr>\n      <th>4</th>\n      <td>4</td>\n      <td>Ried Scheibner Pinot Noir 2016</td>\n      <td>Austria</td>\n      <td>Carnuntum</td>\n      <td>Markowitsch</td>\n      <td>3.9</td>\n      <td>100</td>\n      <td>29.15</td>\n      <td>2016</td>\n      <td>Red</td>\n      <td>Ried Scheibner Pinot Noir 2016 Markowitsch</td>\n    </tr>\n    <tr>\n      <th>...</th>\n      <td>...</td>\n      <td>...</td>\n      <td>...</td>\n      <td>...</td>\n      <td>...</td>\n      <td>...</td>\n      <td>...</td>\n      <td>...</td>\n      <td>...</td>\n      <td>...</td>\n      <td>...</td>\n    </tr>\n    <tr>\n      <th>13536</th>\n      <td>13829</td>\n      <td>Special Cuvée Brut Aÿ Champagne N.V.</td>\n      <td>France</td>\n      <td>Champagne</td>\n      <td>Bollinger</td>\n      <td>4.2</td>\n      <td>37765</td>\n      <td>46.00</td>\n      <td>2023</td>\n      <td>Sparkling</td>\n      <td>Special Cuvée Brut Aÿ Champagne N.V. Bollinger</td>\n    </tr>\n    <tr>\n      <th>13537</th>\n      <td>13830</td>\n      <td>Brut Premier Champagne N.V.</td>\n      <td>France</td>\n      <td>Champagne Premier Cru</td>\n      <td>Louis Roederer</td>\n      <td>4.2</td>\n      <td>40004</td>\n      <td>36.48</td>\n      <td>2023</td>\n      <td>Sparkling</td>\n      <td>Brut Premier Champagne N.V. Louis Roederer</td>\n    </tr>\n    <tr>\n      <th>13538</th>\n      <td>13831</td>\n      <td>Impérial Brut Champagne N.V.</td>\n      <td>France</td>\n      <td>Champagne</td>\n      <td>Moët &amp; Chandon</td>\n      <td>4.1</td>\n      <td>76037</td>\n      <td>40.61</td>\n      <td>2023</td>\n      <td>Sparkling</td>\n      <td>Impérial Brut Champagne N.V. Moët &amp; Chandon</td>\n    </tr>\n    <tr>\n      <th>13539</th>\n      <td>13832</td>\n      <td>Brut (Carte Jaune) Champagne N.V.</td>\n      <td>France</td>\n      <td>Champagne</td>\n      <td>Veuve Clicquot</td>\n      <td>4.2</td>\n      <td>86839</td>\n      <td>43.60</td>\n      <td>2023</td>\n      <td>Sparkling</td>\n      <td>Brut (Carte Jaune) Champagne N.V. Veuve Clicquot</td>\n    </tr>\n    <tr>\n      <th>13540</th>\n      <td>13833</td>\n      <td>Brut Champagne N.V.</td>\n      <td>France</td>\n      <td>Champagne</td>\n      <td>Dom Pérignon</td>\n      <td>4.6</td>\n      <td>94287</td>\n      <td>170.00</td>\n      <td>2023</td>\n      <td>Sparkling</td>\n      <td>Brut Champagne N.V. Dom Pérignon</td>\n    </tr>\n  </tbody>\n</table>\n<p>13541 rows × 11 columns</p>\n</div>"
     },
     "metadata": {}
    }
   ]
  },
  {
   "cell_type": "code",
   "metadata": {
    "tags": [],
    "deepnote_to_be_reexecuted": false,
    "source_hash": "8da5ae74",
    "execution_start": 1650610673563,
    "execution_millis": 423,
    "deepnote_table_state": {
     "pageSize": 10,
     "pageIndex": 1354,
     "filters": [
      {
       "id": "Country",
       "value": "",
       "type": "contains"
      },
      {
       "id": "Country_United States",
       "value": "",
       "type": "contains"
      }
     ],
     "sortBy": []
    },
    "deepnote_table_loading": false,
    "cell_id": "00077-07614d95-6e84-41f2-9a7e-c5c27a6a1dc4",
    "deepnote_cell_type": "code",
    "deepnote_cell_height": 316
   },
   "source": "wineNew = wineNew.drop('Name+Winery', axis=1)\nwineNew_ohe = pd.concat([wineNew, wineNew_cat_ohe], sort = False, axis = 1).reindex(index=wineNew.index)\nwineNew_ohe",
   "execution_count": null,
   "outputs": [
    {
     "output_type": "execute_result",
     "execution_count": 91,
     "data": {
      "application/vnd.deepnote.dataframe.v3+json": {
       "column_count": 22,
       "row_count": 13541,
       "columns": [
        {
         "name": "index",
         "dtype": "int64",
         "stats": {
          "unique_count": 13541,
          "nan_count": 0,
          "min": "0",
          "max": "13833",
          "histogram": [
           {
            "bin_start": 0,
            "bin_end": 1383.3,
            "count": 1343
           },
           {
            "bin_start": 1383.3,
            "bin_end": 2766.6,
            "count": 1359
           },
           {
            "bin_start": 2766.6,
            "bin_end": 4149.9,
            "count": 1362
           },
           {
            "bin_start": 4149.9,
            "bin_end": 5533.2,
            "count": 1363
           },
           {
            "bin_start": 5533.2,
            "bin_end": 6916.5,
            "count": 1361
           },
           {
            "bin_start": 6916.5,
            "bin_end": 8299.8,
            "count": 1358
           },
           {
            "bin_start": 8299.8,
            "bin_end": 9683.1,
            "count": 1350
           },
           {
            "bin_start": 9683.1,
            "bin_end": 11066.4,
            "count": 1347
           },
           {
            "bin_start": 11066.4,
            "bin_end": 12449.699999999999,
            "count": 1346
           },
           {
            "bin_start": 12449.699999999999,
            "bin_end": 13833,
            "count": 1352
           }
          ]
         }
        },
        {
         "name": "Name",
         "dtype": "object",
         "stats": {
          "unique_count": 10682,
          "nan_count": 0,
          "categories": [
           {
            "name": "Chardonnay 2018",
            "count": 77
           },
           {
            "name": "Sauvignon Blanc 2019",
            "count": 65
           },
           {
            "name": "10680 others",
            "count": 13399
           }
          ]
         }
        },
        {
         "name": "Country",
         "dtype": "object",
         "stats": {
          "unique_count": 12,
          "nan_count": 0,
          "categories": [
           {
            "name": "Italy",
            "count": 3919
           },
           {
            "name": "France",
            "count": 3435
           },
           {
            "name": "10 others",
            "count": 6187
           }
          ]
         }
        },
        {
         "name": "Region",
         "dtype": "object",
         "stats": {
          "unique_count": 791,
          "nan_count": 0,
          "categories": [
           {
            "name": "Rioja",
            "count": 385
           },
           {
            "name": "Stellenbosch",
            "count": 337
           },
           {
            "name": "789 others",
            "count": 12819
           }
          ]
         }
        },
        {
         "name": "Winery",
         "dtype": "object",
         "stats": {
          "unique_count": 3421,
          "nan_count": 0,
          "categories": [
           {
            "name": "Markus Molitor",
            "count": 73
           },
           {
            "name": "Errazuriz",
            "count": 58
           },
           {
            "name": "3419 others",
            "count": 13410
           }
          ]
         }
        },
        {
         "name": "Rating",
         "dtype": "float64",
         "stats": {
          "unique_count": 25,
          "nan_count": 0,
          "min": "2.5",
          "max": "4.9",
          "histogram": [
           {
            "bin_start": 2.5,
            "bin_end": 2.74,
            "count": 6
           },
           {
            "bin_start": 2.74,
            "bin_end": 2.98,
            "count": 13
           },
           {
            "bin_start": 2.98,
            "bin_end": 3.22,
            "count": 203
           },
           {
            "bin_start": 3.22,
            "bin_end": 3.46,
            "count": 728
           },
           {
            "bin_start": 3.46,
            "bin_end": 3.7,
            "count": 2119
           },
           {
            "bin_start": 3.7,
            "bin_end": 3.9400000000000004,
            "count": 5409
           },
           {
            "bin_start": 3.9400000000000004,
            "bin_end": 4.180000000000001,
            "count": 2711
           },
           {
            "bin_start": 4.180000000000001,
            "bin_end": 4.42,
            "count": 1981
           },
           {
            "bin_start": 4.42,
            "bin_end": 4.66,
            "count": 331
           },
           {
            "bin_start": 4.66,
            "bin_end": 4.9,
            "count": 40
           }
          ]
         }
        },
        {
         "name": "NumberOfRatings",
         "dtype": "int64",
         "stats": {
          "unique_count": 1809,
          "nan_count": 0,
          "min": "25",
          "max": "94287",
          "histogram": [
           {
            "bin_start": 25,
            "bin_end": 9451.2,
            "count": 13495
           },
           {
            "bin_start": 9451.2,
            "bin_end": 18877.4,
            "count": 28
           },
           {
            "bin_start": 18877.4,
            "bin_end": 28303.600000000002,
            "count": 10
           },
           {
            "bin_start": 28303.600000000002,
            "bin_end": 37729.8,
            "count": 2
           },
           {
            "bin_start": 37729.8,
            "bin_end": 47156,
            "count": 2
           },
           {
            "bin_start": 47156,
            "bin_end": 56582.200000000004,
            "count": 0
           },
           {
            "bin_start": 56582.200000000004,
            "bin_end": 66008.40000000001,
            "count": 1
           },
           {
            "bin_start": 66008.40000000001,
            "bin_end": 75434.6,
            "count": 0
           },
           {
            "bin_start": 75434.6,
            "bin_end": 84860.8,
            "count": 1
           },
           {
            "bin_start": 84860.8,
            "bin_end": 94287,
            "count": 2
           }
          ]
         }
        },
        {
         "name": "Price",
         "dtype": "float64"
        },
        {
         "name": "Year",
         "dtype": "int64"
        },
        {
         "name": "Type",
         "dtype": "object"
        },
        {
         "name": "Country_Argentina",
         "dtype": "float64"
        },
        {
         "name": "Country_Australia",
         "dtype": "float64"
        },
        {
         "name": "Country_Austria",
         "dtype": "float64"
        },
        {
         "name": "Country_Chile",
         "dtype": "float64"
        },
        {
         "name": "Country_France",
         "dtype": "float64"
        },
        {
         "name": "Country_Germany",
         "dtype": "float64"
        },
        {
         "name": "Country_Italy",
         "dtype": "float64"
        },
        {
         "name": "Country_New Zealand",
         "dtype": "float64"
        },
        {
         "name": "Country_Portugal",
         "dtype": "float64"
        },
        {
         "name": "Country_South Africa",
         "dtype": "float64"
        },
        {
         "name": "Country_Spain",
         "dtype": "float64"
        },
        {
         "name": "Country_United States",
         "dtype": "float64"
        },
        {
         "name": "_deepnote_index_column",
         "dtype": "int64"
        }
       ],
       "rows": [
        {
         "index": 13833,
         "Name": "Brut Champagne N.V.",
         "Country": "France",
         "Region": "Champagne",
         "Winery": "Dom Pérignon",
         "Rating": 4.6,
         "NumberOfRatings": 94287,
         "Price": 170,
         "Year": 2023,
         "Type": "Sparkling",
         "Country_Argentina": 0,
         "Country_Australia": 0,
         "Country_Austria": 0,
         "Country_Chile": 0,
         "Country_France": 1,
         "Country_Germany": 0,
         "Country_Italy": 0,
         "Country_New Zealand": 0,
         "Country_Portugal": 0,
         "Country_South Africa": 0,
         "Country_Spain": 0,
         "Country_United States": 0,
         "_deepnote_index_column": 13540
        }
       ]
      },
      "text/plain": "       index                                  Name  Country  \\\n0          0                          Pomerol 2011   France   \n1          1                            Lirac 2017   France   \n2          2    Erta e China Rosso di Toscana 2015    Italy   \n3          3                        Bardolino 2019    Italy   \n4          4        Ried Scheibner Pinot Noir 2016  Austria   \n...      ...                                   ...      ...   \n13536  13829  Special Cuvée Brut Aÿ Champagne N.V.   France   \n13537  13830           Brut Premier Champagne N.V.   France   \n13538  13831          Impérial Brut Champagne N.V.   France   \n13539  13832     Brut (Carte Jaune) Champagne N.V.   France   \n13540  13833                   Brut Champagne N.V.   France   \n\n                      Region                 Winery  Rating  NumberOfRatings  \\\n0                    Pomerol  Château La Providence     4.2              100   \n1                      Lirac     Château Mont-Redon     4.3              100   \n2                    Toscana             Renzo Masi     3.9              100   \n3                  Bardolino             Cavalchina     3.5              100   \n4                  Carnuntum            Markowitsch     3.9              100   \n...                      ...                    ...     ...              ...   \n13536              Champagne              Bollinger     4.2            37765   \n13537  Champagne Premier Cru         Louis Roederer     4.2            40004   \n13538              Champagne         Moët & Chandon     4.1            76037   \n13539              Champagne         Veuve Clicquot     4.2            86839   \n13540              Champagne           Dom Pérignon     4.6            94287   \n\n        Price  Year       Type  ...  Country_Austria  Country_Chile  \\\n0       95.00  2011        Red  ...              0.0            0.0   \n1       15.50  2017        Red  ...              0.0            0.0   \n2        7.45  2015        Red  ...              0.0            0.0   \n3        8.72  2019        Red  ...              0.0            0.0   \n4       29.15  2016        Red  ...              1.0            0.0   \n...       ...   ...        ...  ...              ...            ...   \n13536   46.00  2023  Sparkling  ...              0.0            0.0   \n13537   36.48  2023  Sparkling  ...              0.0            0.0   \n13538   40.61  2023  Sparkling  ...              0.0            0.0   \n13539   43.60  2023  Sparkling  ...              0.0            0.0   \n13540  170.00  2023  Sparkling  ...              0.0            0.0   \n\n       Country_France  Country_Germany  Country_Italy  Country_New Zealand  \\\n0                 1.0              0.0            0.0                  0.0   \n1                 1.0              0.0            0.0                  0.0   \n2                 0.0              0.0            1.0                  0.0   \n3                 0.0              0.0            1.0                  0.0   \n4                 0.0              0.0            0.0                  0.0   \n...               ...              ...            ...                  ...   \n13536             1.0              0.0            0.0                  0.0   \n13537             1.0              0.0            0.0                  0.0   \n13538             1.0              0.0            0.0                  0.0   \n13539             1.0              0.0            0.0                  0.0   \n13540             1.0              0.0            0.0                  0.0   \n\n       Country_Portugal  Country_South Africa  Country_Spain  \\\n0                   0.0                   0.0            0.0   \n1                   0.0                   0.0            0.0   \n2                   0.0                   0.0            0.0   \n3                   0.0                   0.0            0.0   \n4                   0.0                   0.0            0.0   \n...                 ...                   ...            ...   \n13536               0.0                   0.0            0.0   \n13537               0.0                   0.0            0.0   \n13538               0.0                   0.0            0.0   \n13539               0.0                   0.0            0.0   \n13540               0.0                   0.0            0.0   \n\n       Country_United States  \n0                        0.0  \n1                        0.0  \n2                        0.0  \n3                        0.0  \n4                        0.0  \n...                      ...  \n13536                    0.0  \n13537                    0.0  \n13538                    0.0  \n13539                    0.0  \n13540                    0.0  \n\n[13541 rows x 22 columns]",
      "text/html": "<div>\n<style scoped>\n    .dataframe tbody tr th:only-of-type {\n        vertical-align: middle;\n    }\n\n    .dataframe tbody tr th {\n        vertical-align: top;\n    }\n\n    .dataframe thead th {\n        text-align: right;\n    }\n</style>\n<table border=\"1\" class=\"dataframe\">\n  <thead>\n    <tr style=\"text-align: right;\">\n      <th></th>\n      <th>index</th>\n      <th>Name</th>\n      <th>Country</th>\n      <th>Region</th>\n      <th>Winery</th>\n      <th>Rating</th>\n      <th>NumberOfRatings</th>\n      <th>Price</th>\n      <th>Year</th>\n      <th>Type</th>\n      <th>...</th>\n      <th>Country_Austria</th>\n      <th>Country_Chile</th>\n      <th>Country_France</th>\n      <th>Country_Germany</th>\n      <th>Country_Italy</th>\n      <th>Country_New Zealand</th>\n      <th>Country_Portugal</th>\n      <th>Country_South Africa</th>\n      <th>Country_Spain</th>\n      <th>Country_United States</th>\n    </tr>\n  </thead>\n  <tbody>\n    <tr>\n      <th>0</th>\n      <td>0</td>\n      <td>Pomerol 2011</td>\n      <td>France</td>\n      <td>Pomerol</td>\n      <td>Château La Providence</td>\n      <td>4.2</td>\n      <td>100</td>\n      <td>95.00</td>\n      <td>2011</td>\n      <td>Red</td>\n      <td>...</td>\n      <td>0.0</td>\n      <td>0.0</td>\n      <td>1.0</td>\n      <td>0.0</td>\n      <td>0.0</td>\n      <td>0.0</td>\n      <td>0.0</td>\n      <td>0.0</td>\n      <td>0.0</td>\n      <td>0.0</td>\n    </tr>\n    <tr>\n      <th>1</th>\n      <td>1</td>\n      <td>Lirac 2017</td>\n      <td>France</td>\n      <td>Lirac</td>\n      <td>Château Mont-Redon</td>\n      <td>4.3</td>\n      <td>100</td>\n      <td>15.50</td>\n      <td>2017</td>\n      <td>Red</td>\n      <td>...</td>\n      <td>0.0</td>\n      <td>0.0</td>\n      <td>1.0</td>\n      <td>0.0</td>\n      <td>0.0</td>\n      <td>0.0</td>\n      <td>0.0</td>\n      <td>0.0</td>\n      <td>0.0</td>\n      <td>0.0</td>\n    </tr>\n    <tr>\n      <th>2</th>\n      <td>2</td>\n      <td>Erta e China Rosso di Toscana 2015</td>\n      <td>Italy</td>\n      <td>Toscana</td>\n      <td>Renzo Masi</td>\n      <td>3.9</td>\n      <td>100</td>\n      <td>7.45</td>\n      <td>2015</td>\n      <td>Red</td>\n      <td>...</td>\n      <td>0.0</td>\n      <td>0.0</td>\n      <td>0.0</td>\n      <td>0.0</td>\n      <td>1.0</td>\n      <td>0.0</td>\n      <td>0.0</td>\n      <td>0.0</td>\n      <td>0.0</td>\n      <td>0.0</td>\n    </tr>\n    <tr>\n      <th>3</th>\n      <td>3</td>\n      <td>Bardolino 2019</td>\n      <td>Italy</td>\n      <td>Bardolino</td>\n      <td>Cavalchina</td>\n      <td>3.5</td>\n      <td>100</td>\n      <td>8.72</td>\n      <td>2019</td>\n      <td>Red</td>\n      <td>...</td>\n      <td>0.0</td>\n      <td>0.0</td>\n      <td>0.0</td>\n      <td>0.0</td>\n      <td>1.0</td>\n      <td>0.0</td>\n      <td>0.0</td>\n      <td>0.0</td>\n      <td>0.0</td>\n      <td>0.0</td>\n    </tr>\n    <tr>\n      <th>4</th>\n      <td>4</td>\n      <td>Ried Scheibner Pinot Noir 2016</td>\n      <td>Austria</td>\n      <td>Carnuntum</td>\n      <td>Markowitsch</td>\n      <td>3.9</td>\n      <td>100</td>\n      <td>29.15</td>\n      <td>2016</td>\n      <td>Red</td>\n      <td>...</td>\n      <td>1.0</td>\n      <td>0.0</td>\n      <td>0.0</td>\n      <td>0.0</td>\n      <td>0.0</td>\n      <td>0.0</td>\n      <td>0.0</td>\n      <td>0.0</td>\n      <td>0.0</td>\n      <td>0.0</td>\n    </tr>\n    <tr>\n      <th>...</th>\n      <td>...</td>\n      <td>...</td>\n      <td>...</td>\n      <td>...</td>\n      <td>...</td>\n      <td>...</td>\n      <td>...</td>\n      <td>...</td>\n      <td>...</td>\n      <td>...</td>\n      <td>...</td>\n      <td>...</td>\n      <td>...</td>\n      <td>...</td>\n      <td>...</td>\n      <td>...</td>\n      <td>...</td>\n      <td>...</td>\n      <td>...</td>\n      <td>...</td>\n      <td>...</td>\n    </tr>\n    <tr>\n      <th>13536</th>\n      <td>13829</td>\n      <td>Special Cuvée Brut Aÿ Champagne N.V.</td>\n      <td>France</td>\n      <td>Champagne</td>\n      <td>Bollinger</td>\n      <td>4.2</td>\n      <td>37765</td>\n      <td>46.00</td>\n      <td>2023</td>\n      <td>Sparkling</td>\n      <td>...</td>\n      <td>0.0</td>\n      <td>0.0</td>\n      <td>1.0</td>\n      <td>0.0</td>\n      <td>0.0</td>\n      <td>0.0</td>\n      <td>0.0</td>\n      <td>0.0</td>\n      <td>0.0</td>\n      <td>0.0</td>\n    </tr>\n    <tr>\n      <th>13537</th>\n      <td>13830</td>\n      <td>Brut Premier Champagne N.V.</td>\n      <td>France</td>\n      <td>Champagne Premier Cru</td>\n      <td>Louis Roederer</td>\n      <td>4.2</td>\n      <td>40004</td>\n      <td>36.48</td>\n      <td>2023</td>\n      <td>Sparkling</td>\n      <td>...</td>\n      <td>0.0</td>\n      <td>0.0</td>\n      <td>1.0</td>\n      <td>0.0</td>\n      <td>0.0</td>\n      <td>0.0</td>\n      <td>0.0</td>\n      <td>0.0</td>\n      <td>0.0</td>\n      <td>0.0</td>\n    </tr>\n    <tr>\n      <th>13538</th>\n      <td>13831</td>\n      <td>Impérial Brut Champagne N.V.</td>\n      <td>France</td>\n      <td>Champagne</td>\n      <td>Moët &amp; Chandon</td>\n      <td>4.1</td>\n      <td>76037</td>\n      <td>40.61</td>\n      <td>2023</td>\n      <td>Sparkling</td>\n      <td>...</td>\n      <td>0.0</td>\n      <td>0.0</td>\n      <td>1.0</td>\n      <td>0.0</td>\n      <td>0.0</td>\n      <td>0.0</td>\n      <td>0.0</td>\n      <td>0.0</td>\n      <td>0.0</td>\n      <td>0.0</td>\n    </tr>\n    <tr>\n      <th>13539</th>\n      <td>13832</td>\n      <td>Brut (Carte Jaune) Champagne N.V.</td>\n      <td>France</td>\n      <td>Champagne</td>\n      <td>Veuve Clicquot</td>\n      <td>4.2</td>\n      <td>86839</td>\n      <td>43.60</td>\n      <td>2023</td>\n      <td>Sparkling</td>\n      <td>...</td>\n      <td>0.0</td>\n      <td>0.0</td>\n      <td>1.0</td>\n      <td>0.0</td>\n      <td>0.0</td>\n      <td>0.0</td>\n      <td>0.0</td>\n      <td>0.0</td>\n      <td>0.0</td>\n      <td>0.0</td>\n    </tr>\n    <tr>\n      <th>13540</th>\n      <td>13833</td>\n      <td>Brut Champagne N.V.</td>\n      <td>France</td>\n      <td>Champagne</td>\n      <td>Dom Pérignon</td>\n      <td>4.6</td>\n      <td>94287</td>\n      <td>170.00</td>\n      <td>2023</td>\n      <td>Sparkling</td>\n      <td>...</td>\n      <td>0.0</td>\n      <td>0.0</td>\n      <td>1.0</td>\n      <td>0.0</td>\n      <td>0.0</td>\n      <td>0.0</td>\n      <td>0.0</td>\n      <td>0.0</td>\n      <td>0.0</td>\n      <td>0.0</td>\n    </tr>\n  </tbody>\n</table>\n<p>13541 rows × 22 columns</p>\n</div>"
     },
     "metadata": {}
    }
   ]
  },
  {
   "cell_type": "markdown",
   "source": "Trying out Analysis of Variance (ANOVA)",
   "metadata": {
    "tags": [],
    "cell_id": "00078-cc8112a8-0e1a-4c72-8c5b-071284bf558b",
    "deepnote_cell_type": "markdown",
    "deepnote_cell_height": 52.399993896484375
   }
  },
  {
   "cell_type": "code",
   "metadata": {
    "tags": [],
    "deepnote_to_be_reexecuted": false,
    "source_hash": "596c64a8",
    "execution_start": 1650610315259,
    "execution_millis": 471,
    "cell_id": "00079-a1f897fe-3620-4375-8ef2-bb018740b173",
    "deepnote_cell_type": "code",
    "deepnote_cell_height": 415.20001220703125
   },
   "source": "wineNew.info()",
   "execution_count": null,
   "outputs": [
    {
     "name": "stdout",
     "text": "<class 'pandas.core.frame.DataFrame'>\nInt64Index: 13541 entries, 0 to 13833\nData columns (total 9 columns):\n #   Column           Non-Null Count  Dtype  \n---  ------           --------------  -----  \n 0   Name             13541 non-null  object \n 1   Country          13541 non-null  object \n 2   Region           13541 non-null  object \n 3   Winery           13541 non-null  object \n 4   Rating           13541 non-null  float64\n 5   NumberOfRatings  13541 non-null  int64  \n 6   Price            13541 non-null  float64\n 7   Year             13541 non-null  int64  \n 8   Type             13541 non-null  object \ndtypes: float64(2), int64(2), object(5)\nmemory usage: 1.5+ MB\n",
     "output_type": "stream"
    }
   ]
  },
  {
   "cell_type": "code",
   "metadata": {
    "tags": [],
    "deepnote_to_be_reexecuted": false,
    "source_hash": "b31fd813",
    "execution_start": 1650782808527,
    "execution_millis": 1,
    "cell_id": "00080-6dc1b853-86db-4d9f-8d37-6f11536fcbbd",
    "deepnote_cell_type": "code",
    "deepnote_cell_height": 99
   },
   "source": "\n",
   "outputs": [],
   "execution_count": null
  },
  {
   "cell_type": "code",
   "metadata": {
    "tags": [],
    "deepnote_to_be_reexecuted": false,
    "source_hash": "7f4f9c6",
    "execution_start": 1650608230607,
    "execution_millis": 358,
    "cell_id": "00081-feca83aa-f1d0-4dd1-a565-c62d6bbadd38",
    "deepnote_cell_type": "code",
    "deepnote_cell_height": 99
   },
   "source": "import statsmodels.api as sm\nfrom statsmodels.formula.api import ols",
   "execution_count": null,
   "outputs": []
  },
  {
   "cell_type": "markdown",
   "source": "### Outlier Analysis",
   "metadata": {
    "tags": [],
    "cell_id": "00082-e9458ad0-6f7c-4f0b-a6f6-5b6b6bbb7273",
    "deepnote_cell_type": "markdown",
    "deepnote_cell_height": 62
   }
  },
  {
   "cell_type": "code",
   "metadata": {
    "tags": [],
    "deepnote_to_be_reexecuted": false,
    "source_hash": "124b5864",
    "execution_start": 1650608231065,
    "execution_millis": 2391,
    "cell_id": "00083-3abc40d3-51c3-4395-a2ac-28bd81b99676",
    "deepnote_cell_type": "code",
    "deepnote_cell_height": 607,
    "deepnote_output_heights": [
     21,
     422
    ]
   },
   "source": "plt.figure(figsize=(10,10))\ng = sb.jointplot(data=wine, x=np.log(wine['Price']), y='Rating', kind='reg')\nplt.show()",
   "execution_count": null,
   "outputs": [
    {
     "data": {
      "text/plain": "<Figure size 720x720 with 0 Axes>"
     },
     "metadata": {},
     "output_type": "display_data"
    },
    {
     "data": {
      "text/plain": "<Figure size 432x432 with 3 Axes>",
      "image/png": "[encoded data removed]"
     },
     "metadata": {
      "image/png": {
       "width": 420,
       "height": 420
      }
     },
     "output_type": "display_data"
    }
   ]
  },
  {
   "cell_type": "markdown",
   "source": "# Predicting Price using Rating and Year",
   "metadata": {
    "tags": [],
    "is_collapsed": false,
    "cell_id": "00084-77aa5197-67da-49b7-8475-1c4cda1f34f1",
    "deepnote_cell_type": "text-cell-h1"
   }
  },
  {
   "cell_type": "code",
   "metadata": {
    "tags": [],
    "deepnote_to_be_reexecuted": false,
    "source_hash": "a1bc7cbd",
    "execution_start": 1650608233466,
    "execution_millis": 0,
    "cell_id": "00085-cd12edde-c931-4d40-a885-ed2ba190da35",
    "deepnote_cell_type": "code",
    "deepnote_cell_height": 135
   },
   "source": "Rating = wineNew_ohe['Rating']\nPrice = wineNew_ohe['Price']\nYear = wineNew_ohe['Year']\nRVP = pd.concat([Rating,Price,Year],axis=1)",
   "execution_count": null,
   "outputs": []
  },
  {
   "cell_type": "code",
   "metadata": {
    "tags": [],
    "deepnote_to_be_reexecuted": false,
    "source_hash": "6428aa20",
    "execution_start": 1650608233472,
    "execution_millis": 59,
    "cell_id": "00086-2c5d1d35-485e-44ee-b1e9-53398bb8ce61",
    "deepnote_cell_type": "code",
    "deepnote_cell_height": 313
   },
   "source": "RVP.corr()",
   "execution_count": null,
   "outputs": [
    {
     "output_type": "execute_result",
     "execution_count": 41,
     "data": {
      "application/vnd.deepnote.dataframe.v3+json": {
       "column_count": 3,
       "row_count": 3,
       "columns": [
        {
         "name": "Rating",
         "dtype": "float64",
         "stats": {
          "unique_count": 3,
          "nan_count": 0,
          "min": "-0.3233456927768494",
          "max": "1.0",
          "histogram": [
           {
            "bin_start": -0.3233456927768494,
            "bin_end": -0.19101112349916444,
            "count": 1
           },
           {
            "bin_start": -0.19101112349916444,
            "bin_end": -0.05867655422147949,
            "count": 0
           },
           {
            "bin_start": -0.05867655422147949,
            "bin_end": 0.07365801505620545,
            "count": 0
           },
           {
            "bin_start": 0.07365801505620545,
            "bin_end": 0.2059925843338904,
            "count": 0
           },
           {
            "bin_start": 0.2059925843338904,
            "bin_end": 0.33832715361157534,
            "count": 0
           },
           {
            "bin_start": 0.33832715361157534,
            "bin_end": 0.4706617228892603,
            "count": 1
           },
           {
            "bin_start": 0.4706617228892603,
            "bin_end": 0.6029962921669452,
            "count": 0
           },
           {
            "bin_start": 0.6029962921669452,
            "bin_end": 0.7353308614446301,
            "count": 0
           },
           {
            "bin_start": 0.7353308614446301,
            "bin_end": 0.8676654307223151,
            "count": 0
           },
           {
            "bin_start": 0.8676654307223151,
            "bin_end": 1,
            "count": 1
           }
          ]
         }
        },
        {
         "name": "Price",
         "dtype": "float64",
         "stats": {
          "unique_count": 3,
          "nan_count": 0,
          "min": "-0.3499533650241781",
          "max": "1.0",
          "histogram": [
           {
            "bin_start": -0.3499533650241781,
            "bin_end": -0.2149580285217603,
            "count": 1
           },
           {
            "bin_start": -0.2149580285217603,
            "bin_end": -0.07996269201934247,
            "count": 0
           },
           {
            "bin_start": -0.07996269201934247,
            "bin_end": 0.05503264448307538,
            "count": 0
           },
           {
            "bin_start": 0.05503264448307538,
            "bin_end": 0.19002798098549317,
            "count": 0
           },
           {
            "bin_start": 0.19002798098549317,
            "bin_end": 0.32502331748791097,
            "count": 0
           },
           {
            "bin_start": 0.32502331748791097,
            "bin_end": 0.4600186539903289,
            "count": 1
           },
           {
            "bin_start": 0.4600186539903289,
            "bin_end": 0.5950139904927467,
            "count": 0
           },
           {
            "bin_start": 0.5950139904927467,
            "bin_end": 0.7300093269951644,
            "count": 0
           },
           {
            "bin_start": 0.7300093269951644,
            "bin_end": 0.8650046634975823,
            "count": 0
           },
           {
            "bin_start": 0.8650046634975823,
            "bin_end": 1,
            "count": 1
           }
          ]
         }
        },
        {
         "name": "Year",
         "dtype": "float64",
         "stats": {
          "unique_count": 3,
          "nan_count": 0,
          "min": "-0.3499533650241781",
          "max": "1.0",
          "histogram": [
           {
            "bin_start": -0.3499533650241781,
            "bin_end": -0.2149580285217603,
            "count": 2
           },
           {
            "bin_start": -0.2149580285217603,
            "bin_end": -0.07996269201934247,
            "count": 0
           },
           {
            "bin_start": -0.07996269201934247,
            "bin_end": 0.05503264448307538,
            "count": 0
           },
           {
            "bin_start": 0.05503264448307538,
            "bin_end": 0.19002798098549317,
            "count": 0
           },
           {
            "bin_start": 0.19002798098549317,
            "bin_end": 0.32502331748791097,
            "count": 0
           },
           {
            "bin_start": 0.32502331748791097,
            "bin_end": 0.4600186539903289,
            "count": 0
           },
           {
            "bin_start": 0.4600186539903289,
            "bin_end": 0.5950139904927467,
            "count": 0
           },
           {
            "bin_start": 0.5950139904927467,
            "bin_end": 0.7300093269951644,
            "count": 0
           },
           {
            "bin_start": 0.7300093269951644,
            "bin_end": 0.8650046634975823,
            "count": 0
           },
           {
            "bin_start": 0.8650046634975823,
            "bin_end": 1,
            "count": 1
           }
          ]
         }
        },
        {
         "name": "_deepnote_index_column",
         "dtype": "object"
        }
       ],
       "rows": [
        {
         "Rating": 1,
         "Price": 0.45432332727204394,
         "Year": -0.3233456927768494,
         "_deepnote_index_column": "Rating"
        },
        {
         "Rating": 0.45432332727204394,
         "Price": 1,
         "Year": -0.3499533650241781,
         "_deepnote_index_column": "Price"
        },
        {
         "Rating": -0.3233456927768494,
         "Price": -0.3499533650241781,
         "Year": 1,
         "_deepnote_index_column": "Year"
        }
       ]
      },
      "text/plain": "          Rating     Price      Year\nRating  1.000000  0.454323 -0.323346\nPrice   0.454323  1.000000 -0.349953\nYear   -0.323346 -0.349953  1.000000",
      "text/html": "<div>\n<style scoped>\n    .dataframe tbody tr th:only-of-type {\n        vertical-align: middle;\n    }\n\n    .dataframe tbody tr th {\n        vertical-align: top;\n    }\n\n    .dataframe thead th {\n        text-align: right;\n    }\n</style>\n<table border=\"1\" class=\"dataframe\">\n  <thead>\n    <tr style=\"text-align: right;\">\n      <th></th>\n      <th>Rating</th>\n      <th>Price</th>\n      <th>Year</th>\n    </tr>\n  </thead>\n  <tbody>\n    <tr>\n      <th>Rating</th>\n      <td>1.000000</td>\n      <td>0.454323</td>\n      <td>-0.323346</td>\n    </tr>\n    <tr>\n      <th>Price</th>\n      <td>0.454323</td>\n      <td>1.000000</td>\n      <td>-0.349953</td>\n    </tr>\n    <tr>\n      <th>Year</th>\n      <td>-0.323346</td>\n      <td>-0.349953</td>\n      <td>1.000000</td>\n    </tr>\n  </tbody>\n</table>\n</div>"
     },
     "metadata": {}
    }
   ]
  },
  {
   "cell_type": "code",
   "metadata": {
    "tags": [],
    "deepnote_to_be_reexecuted": false,
    "source_hash": "8a6a0365",
    "execution_start": 1650608233550,
    "execution_millis": 1758,
    "cell_id": "00087-880067dd-f8ae-47d2-86d1-20c8ef823b3b",
    "deepnote_cell_type": "code",
    "deepnote_cell_height": 760,
    "deepnote_output_heights": [
     21,
     611
    ]
   },
   "source": "sb.jointplot(data = RVP, x = Rating, y = np.log(wineNew_ohe['Price']), height = 12)",
   "execution_count": null,
   "outputs": [
    {
     "output_type": "execute_result",
     "execution_count": 42,
     "data": {
      "text/plain": "<seaborn.axisgrid.JointGrid at 0x7fac0d773890>"
     },
     "metadata": {}
    },
    {
     "data": {
      "text/plain": "<Figure size 864x864 with 3 Axes>",
      "image/png": "[encoded data removed]"
     },
     "metadata": {
      "image/png": {
       "width": 842,
       "height": 852
      }
     },
     "output_type": "display_data"
    }
   ]
  },
  {
   "cell_type": "code",
   "metadata": {
    "tags": [],
    "deepnote_to_be_reexecuted": false,
    "source_hash": "1ffae390",
    "execution_start": 1650608235011,
    "execution_millis": 1523,
    "cell_id": "00088-c3ab08ec-dd16-433f-87e1-496b08979e7a",
    "deepnote_cell_type": "code",
    "deepnote_cell_height": 760,
    "deepnote_output_heights": [
     21,
     611
    ]
   },
   "source": "sb.jointplot(data = RVP, x = Year, y = np.log(wineNew_ohe['Price']), height = 12)",
   "execution_count": null,
   "outputs": [
    {
     "output_type": "execute_result",
     "execution_count": 43,
     "data": {
      "text/plain": "<seaborn.axisgrid.JointGrid at 0x7fac0d863f90>"
     },
     "metadata": {}
    },
    {
     "data": {
      "text/plain": "<Figure size 864x864 with 3 Axes>",
      "image/png": "[encoded data removed]"
     },
     "metadata": {
      "image/png": {
       "width": 842,
       "height": 852
      }
     },
     "output_type": "display_data"
    }
   ]
  },
  {
   "cell_type": "code",
   "metadata": {
    "tags": [],
    "deepnote_to_be_reexecuted": false,
    "source_hash": "b32528ea",
    "execution_start": 1650608236532,
    "execution_millis": 1574,
    "cell_id": "00089-a3ca8031-6872-48cf-a72d-17237da17940",
    "deepnote_cell_type": "code",
    "deepnote_cell_height": 904,
    "deepnote_output_heights": [
     21,
     611
    ]
   },
   "source": "wineNew_ohe2 = wineNew_ohe.copy()\nwineNew_ohe2['Price_mean'] = wineNew_ohe.groupby('Year').Price.transform(lambda s: s.mean())\nPrice_mean = wineNew_ohe2['Price_mean']\nYear2 = wineNew_ohe2['Year']\n\nRVP2 = pd.concat([Price_mean, Year],axis=1)\n\nsb.jointplot(data = RVP2, x = Year, y = np.log(wineNew_ohe2['Price_mean']), height = 12)\n",
   "execution_count": null,
   "outputs": [
    {
     "output_type": "execute_result",
     "execution_count": 44,
     "data": {
      "text/plain": "<seaborn.axisgrid.JointGrid at 0x7fac0e856a50>"
     },
     "metadata": {}
    },
    {
     "data": {
      "text/plain": "<Figure size 864x864 with 3 Axes>",
      "image/png": "[encoded data removed]"
     },
     "metadata": {
      "image/png": {
       "width": 842,
       "height": 852
      }
     },
     "output_type": "display_data"
    }
   ]
  },
  {
   "cell_type": "code",
   "metadata": {
    "tags": [],
    "deepnote_to_be_reexecuted": false,
    "source_hash": "f02117ff",
    "execution_start": 1650618648149,
    "execution_millis": 263,
    "cell_id": "00090-d4a52132-f954-4590-9ca1-afb42691231b",
    "owner_user_id": "100ab272-3ca6-47b2-8eba-8bef6becb055",
    "deepnote_cell_type": "code",
    "deepnote_cell_height": 81
   },
   "source": "wineNew_ohe.to_csv('data/wineNew_ohe.csv',index=False)",
   "execution_count": null,
   "outputs": []
  },
  {
   "cell_type": "markdown",
   "source": "<a style='text-decoration:none;line-height:16px;display:flex;color:#5B5B62;padding:10px;justify-content:end;' href='https://deepnote.com?utm_source=created-in-deepnote-cell&projectId=5b7597f1-b868-415e-a8ba-1d5a47f19376' target=\"_blank\">\n<img alt='Created in deepnote.com' style='display:inline;max-height:16px;margin:0px;margin-right:7.5px;' src='data:image/svg+xml;base64,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' > </img>\nCreated in <span style='font-weight:600;margin-left:4px;'>Deepnote</span></a>",
   "metadata": {
    "tags": [],
    "created_in_deepnote_cell": true,
    "deepnote_cell_type": "markdown"
   }
  }
 ],
 "nbformat": 4,
 "nbformat_minor": 2,
 "metadata": {
  "orig_nbformat": 2,
  "deepnote": {
   "is_reactive": false
  },
  "deepnote_notebook_id": "db436c7d-f9d5-4d9a-b032-51faa41960d3",
  "deepnote_execution_queue": []
 }
}
